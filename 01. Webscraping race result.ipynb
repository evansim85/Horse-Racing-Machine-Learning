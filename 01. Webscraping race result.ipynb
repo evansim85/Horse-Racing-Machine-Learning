{
 "cells": [
  {
   "cell_type": "code",
   "execution_count": null,
   "metadata": {},
   "outputs": [],
   "source": [
    "from selenium import webdriver\n",
    "from webdriver_manager.chrome import ChromeDriverManager\n",
    "from selenium.webdriver.common.by import By\n",
    "from selenium.webdriver.common.keys import Keys\n",
    "import numpy as np\n",
    "import pandas as pd\n",
    "import re\n",
    "import csv"
   ]
  },
  {
   "cell_type": "code",
   "execution_count": null,
   "metadata": {},
   "outputs": [],
   "source": [
    "driver = webdriver.Chrome(ChromeDriverManager().install())\n",
    "driver.get(\"https://racing.turfclub.com.sg/en/race-results/?raceno=all&date=2017-01-01\")  \n",
    "\n"
   ]
  },
  {
   "cell_type": "code",
   "execution_count": null,
   "metadata": {},
   "outputs": [],
   "source": [
    "choose = driver.find_element(By.XPATH,'//*[@id=\"stc_raceresult_selector\"]').click()\n",
    "choose_year = driver.find_element(By.XPATH,'//*[@id=\"stc_raceresult_calendar\"]/div[1]/div[3]/div/select/option[26]').click()    # 26 = 2017, 27 = 2018, 28 = 2019, 29 = 2020, 30= 2021, 21 = 2022\n",
    "choose_month = driver.find_element(By.XPATH,'//*[@id=\"stc_raceresult_calendar\"]/div[1]/div[2]/div/select/option[7]').click()    # 1 ~ 12 = Jan ~ Dec\n",
    "race_date = driver.find_elements(By.XPATH,\"//table[@class='calendar-table']/tbody/tr/td[@class='calendar-israceresult']\")\n",
    "for i in race_date:\n",
    "    i = int(i.text)\n",
    "    print(i)\n"
   ]
  },
  {
   "cell_type": "code",
   "execution_count": null,
   "metadata": {},
   "outputs": [],
   "source": [
    "ab = ['07','09','14','16','21','23','28','30']\n",
    "raceresult = []\n",
    "\n",
    "for page in ab:\n",
    "    page_url = \"https://racing.turfclub.com.sg/en/race-results/?raceno=all&date=2017-07-\" + (page)          # change month \n",
    "    driver = webdriver.Chrome(ChromeDriverManager().install())\n",
    "    driver.get(page_url)\n",
    "    driver.implicitly_wait(60)\n",
    "    race_result = driver.find_elements(By.XPATH,\"//table[@id='stc_table_result']/tbody/tr/td\")\n",
    "    for i in race_result:\n",
    "        raceresult.append(i.text) "
   ]
  },
  {
   "cell_type": "code",
   "execution_count": null,
   "metadata": {},
   "outputs": [],
   "source": [
    "start = 0\n",
    "end = len(raceresult)\n",
    "final = []\n",
    "for x in range(start, end, 11):\n",
    "    xc = raceresult[x:x+11]\n",
    "    final.append(xc)\n",
    "    \n",
    "rowheader = ['Pl','Colour','horse_name','bar','Gear','Rtg','jockey','trainer','Owner','LBW','time']\n",
    "with open('race_result_2017-07.csv','w') as csvfile:\n",
    "    write = csv.writer(csvfile) \n",
    "    write.writerow(rowheader) \n",
    "    write.writerows(final) "
   ]
  }
 ],
 "metadata": {
  "kernelspec": {
   "display_name": "Python 3.10.4 ('numpy_lab')",
   "language": "python",
   "name": "python3"
  },
  "language_info": {
   "name": "python",
   "version": "3.10.4"
  },
  "orig_nbformat": 4,
  "vscode": {
   "interpreter": {
    "hash": "7034716bc969b472c2700ec56d5a2cec0984fbd8d9639c37fdd89b00650a83cf"
   }
  }
 },
 "nbformat": 4,
 "nbformat_minor": 2
}
