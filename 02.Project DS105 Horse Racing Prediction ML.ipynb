{
 "cells": [
  {
   "cell_type": "markdown",
   "metadata": {},
   "source": [
    "## Binary Classification"
   ]
  },
  {
   "cell_type": "code",
   "execution_count": 88,
   "metadata": {},
   "outputs": [],
   "source": [
    "# Import all the libraries\n",
    "\n",
    "import numpy as np\n",
    "import matplotlib.pyplot as plt\n",
    "import pandas as pd\n",
    "import seaborn as sns\n",
    "import sklearn\n",
    "import imblearn\n",
    "from sklearn import preprocessing\n",
    "from sklearn.preprocessing import StandardScaler\n",
    "from sklearn.model_selection import GridSearchCV"
   ]
  },
  {
   "cell_type": "markdown",
   "metadata": {},
   "source": [
    "#### Using Selenium to scrap the date from Singapore Turf Club official website https://www.turfclub.com.sg/en.html and export to CSV file."
   ]
  },
  {
   "cell_type": "code",
   "execution_count": 89,
   "metadata": {},
   "outputs": [
    {
     "data": {
      "text/html": [
       "<div>\n",
       "<style scoped>\n",
       "    .dataframe tbody tr th:only-of-type {\n",
       "        vertical-align: middle;\n",
       "    }\n",
       "\n",
       "    .dataframe tbody tr th {\n",
       "        vertical-align: top;\n",
       "    }\n",
       "\n",
       "    .dataframe thead th {\n",
       "        text-align: right;\n",
       "    }\n",
       "</style>\n",
       "<table border=\"1\" class=\"dataframe\">\n",
       "  <thead>\n",
       "    <tr style=\"text-align: right;\">\n",
       "      <th></th>\n",
       "      <th>Pl</th>\n",
       "      <th>horse_name</th>\n",
       "      <th>bar</th>\n",
       "      <th>Track</th>\n",
       "      <th>Gear</th>\n",
       "      <th>Rtg</th>\n",
       "      <th>jockey</th>\n",
       "      <th>trainer</th>\n",
       "      <th>Owner</th>\n",
       "      <th>Last 800m</th>\n",
       "      <th>Last 400m</th>\n",
       "      <th>Final</th>\n",
       "      <th>Second</th>\n",
       "      <th>total second to finish</th>\n",
       "    </tr>\n",
       "  </thead>\n",
       "  <tbody>\n",
       "    <tr>\n",
       "      <th>0</th>\n",
       "      <td>10</td>\n",
       "      <td>A LA VICTORY</td>\n",
       "      <td>7</td>\n",
       "      <td>1200</td>\n",
       "      <td>B, TT</td>\n",
       "      <td>79</td>\n",
       "      <td>K A'ISISUHAIRI</td>\n",
       "      <td>J PETERS</td>\n",
       "      <td>CHINA HORSE CLUB STABLE</td>\n",
       "      <td>8.0</td>\n",
       "      <td>9.0</td>\n",
       "      <td>10</td>\n",
       "      <td>8.6</td>\n",
       "      <td>71.0</td>\n",
       "    </tr>\n",
       "    <tr>\n",
       "      <th>1</th>\n",
       "      <td>10</td>\n",
       "      <td>A LA VICTORY</td>\n",
       "      <td>7</td>\n",
       "      <td>1200</td>\n",
       "      <td>B, TT</td>\n",
       "      <td>79</td>\n",
       "      <td>K A'ISISUHAIRI</td>\n",
       "      <td>J PETERS</td>\n",
       "      <td>CHINA HORSE CLUB STABLE</td>\n",
       "      <td>8.0</td>\n",
       "      <td>9.0</td>\n",
       "      <td>10</td>\n",
       "      <td>8.6</td>\n",
       "      <td>71.0</td>\n",
       "    </tr>\n",
       "    <tr>\n",
       "      <th>2</th>\n",
       "      <td>5</td>\n",
       "      <td>A LA VICTORY</td>\n",
       "      <td>6</td>\n",
       "      <td>1200</td>\n",
       "      <td>B, TT</td>\n",
       "      <td>77</td>\n",
       "      <td>SY MOON</td>\n",
       "      <td>J PETERS</td>\n",
       "      <td>CHINA HORSE CLUB STABLE</td>\n",
       "      <td>8.0</td>\n",
       "      <td>7.0</td>\n",
       "      <td>5</td>\n",
       "      <td>2.7</td>\n",
       "      <td>70.0</td>\n",
       "    </tr>\n",
       "    <tr>\n",
       "      <th>3</th>\n",
       "      <td>3</td>\n",
       "      <td>A LOT IN HAND</td>\n",
       "      <td>4</td>\n",
       "      <td>1100</td>\n",
       "      <td>B</td>\n",
       "      <td>43</td>\n",
       "      <td>APP CK NG</td>\n",
       "      <td>HK TAN</td>\n",
       "      <td>HAPPY LIFE STABLE</td>\n",
       "      <td>3.0</td>\n",
       "      <td>3.0</td>\n",
       "      <td>3</td>\n",
       "      <td>2.9</td>\n",
       "      <td>67.0</td>\n",
       "    </tr>\n",
       "    <tr>\n",
       "      <th>4</th>\n",
       "      <td>8</td>\n",
       "      <td>A LOT IN HAND</td>\n",
       "      <td>3</td>\n",
       "      <td>1200</td>\n",
       "      <td>B</td>\n",
       "      <td>43</td>\n",
       "      <td>TH KOH</td>\n",
       "      <td>HK TAN</td>\n",
       "      <td>HAPPY LIFE STABLE</td>\n",
       "      <td>2.0</td>\n",
       "      <td>2.0</td>\n",
       "      <td>8</td>\n",
       "      <td>8.1</td>\n",
       "      <td>74.0</td>\n",
       "    </tr>\n",
       "    <tr>\n",
       "      <th>5</th>\n",
       "      <td>4</td>\n",
       "      <td>A LOT IN HAND</td>\n",
       "      <td>11</td>\n",
       "      <td>1200</td>\n",
       "      <td>B</td>\n",
       "      <td>41</td>\n",
       "      <td>M EWE</td>\n",
       "      <td>HK TAN</td>\n",
       "      <td>HAPPY LIFE STABLE</td>\n",
       "      <td>2.0</td>\n",
       "      <td>2.0</td>\n",
       "      <td>4</td>\n",
       "      <td>5.1</td>\n",
       "      <td>73.0</td>\n",
       "    </tr>\n",
       "    <tr>\n",
       "      <th>6</th>\n",
       "      <td>3</td>\n",
       "      <td>A LOT IN HAND</td>\n",
       "      <td>2</td>\n",
       "      <td>1200</td>\n",
       "      <td>B</td>\n",
       "      <td>39</td>\n",
       "      <td>M EWE</td>\n",
       "      <td>HK TAN</td>\n",
       "      <td>HAPPY LIFE STABLE</td>\n",
       "      <td>1.0</td>\n",
       "      <td>1.0</td>\n",
       "      <td>3</td>\n",
       "      <td>2.1</td>\n",
       "      <td>73.0</td>\n",
       "    </tr>\n",
       "    <tr>\n",
       "      <th>7</th>\n",
       "      <td>5</td>\n",
       "      <td>A LOT IN HAND</td>\n",
       "      <td>11</td>\n",
       "      <td>1200</td>\n",
       "      <td>B</td>\n",
       "      <td>39</td>\n",
       "      <td>APP CK NG</td>\n",
       "      <td>HK TAN</td>\n",
       "      <td>HAPPY LIFE STABLE</td>\n",
       "      <td>2.0</td>\n",
       "      <td>3.0</td>\n",
       "      <td>5</td>\n",
       "      <td>5.1</td>\n",
       "      <td>73.0</td>\n",
       "    </tr>\n",
       "    <tr>\n",
       "      <th>8</th>\n",
       "      <td>8</td>\n",
       "      <td>A LOT IN HAND</td>\n",
       "      <td>4</td>\n",
       "      <td>1100</td>\n",
       "      <td>B</td>\n",
       "      <td>38</td>\n",
       "      <td>D DAVID</td>\n",
       "      <td>HK TAN</td>\n",
       "      <td>HAPPY LIFE STABLE</td>\n",
       "      <td>1.0</td>\n",
       "      <td>2.0</td>\n",
       "      <td>8</td>\n",
       "      <td>6.0</td>\n",
       "      <td>66.0</td>\n",
       "    </tr>\n",
       "    <tr>\n",
       "      <th>9</th>\n",
       "      <td>9</td>\n",
       "      <td>AABIR</td>\n",
       "      <td>3</td>\n",
       "      <td>1000</td>\n",
       "      <td>TT</td>\n",
       "      <td>NaN</td>\n",
       "      <td>V DURIC</td>\n",
       "      <td>M WALKER</td>\n",
       "      <td>JOHN ERIC GILES GALVIN</td>\n",
       "      <td>7.0</td>\n",
       "      <td>8.0</td>\n",
       "      <td>9</td>\n",
       "      <td>10.2</td>\n",
       "      <td>62.0</td>\n",
       "    </tr>\n",
       "    <tr>\n",
       "      <th>10</th>\n",
       "      <td>2</td>\n",
       "      <td>AABIR</td>\n",
       "      <td>6</td>\n",
       "      <td>1000</td>\n",
       "      <td>TT</td>\n",
       "      <td>NaN</td>\n",
       "      <td>R WOODWORTH</td>\n",
       "      <td>M WALKER</td>\n",
       "      <td>JOHN ERIC GILES GALVIN</td>\n",
       "      <td>1.0</td>\n",
       "      <td>1.0</td>\n",
       "      <td>2</td>\n",
       "      <td>0.3</td>\n",
       "      <td>119.0</td>\n",
       "    </tr>\n",
       "    <tr>\n",
       "      <th>11</th>\n",
       "      <td>8</td>\n",
       "      <td>AABIR</td>\n",
       "      <td>7</td>\n",
       "      <td>1200</td>\n",
       "      <td>TT</td>\n",
       "      <td>NaN</td>\n",
       "      <td>R WOODWORTH</td>\n",
       "      <td>M WALKER</td>\n",
       "      <td>JOHN ERIC GILES GALVIN</td>\n",
       "      <td>5.0</td>\n",
       "      <td>6.0</td>\n",
       "      <td>8</td>\n",
       "      <td>3.1</td>\n",
       "      <td>72.0</td>\n",
       "    </tr>\n",
       "    <tr>\n",
       "      <th>12</th>\n",
       "      <td>2</td>\n",
       "      <td>AABIR</td>\n",
       "      <td>10</td>\n",
       "      <td>1100</td>\n",
       "      <td>TT</td>\n",
       "      <td>48</td>\n",
       "      <td>R ZAWARI</td>\n",
       "      <td>M WALKER</td>\n",
       "      <td>JOHN ERIC GILES GALVIN</td>\n",
       "      <td>2.0</td>\n",
       "      <td>2.0</td>\n",
       "      <td>2</td>\n",
       "      <td>0.8</td>\n",
       "      <td>65.0</td>\n",
       "    </tr>\n",
       "    <tr>\n",
       "      <th>13</th>\n",
       "      <td>3</td>\n",
       "      <td>AABIR</td>\n",
       "      <td>3</td>\n",
       "      <td>1000</td>\n",
       "      <td>TT</td>\n",
       "      <td>48</td>\n",
       "      <td>APP AB RIDUAN</td>\n",
       "      <td>M WALKER</td>\n",
       "      <td>JOHN ERIC GILES GALVIN</td>\n",
       "      <td>2.0</td>\n",
       "      <td>2.0</td>\n",
       "      <td>3</td>\n",
       "      <td>1.3</td>\n",
       "      <td>60.0</td>\n",
       "    </tr>\n",
       "    <tr>\n",
       "      <th>14</th>\n",
       "      <td>3</td>\n",
       "      <td>AABIR</td>\n",
       "      <td>12</td>\n",
       "      <td>1000</td>\n",
       "      <td>TT</td>\n",
       "      <td>48</td>\n",
       "      <td>R ZAWARI</td>\n",
       "      <td>M WALKER</td>\n",
       "      <td>JOHN ERIC GILES GALVIN</td>\n",
       "      <td>5.0</td>\n",
       "      <td>5.0</td>\n",
       "      <td>3</td>\n",
       "      <td>2.1</td>\n",
       "      <td>119.0</td>\n",
       "    </tr>\n",
       "  </tbody>\n",
       "</table>\n",
       "</div>"
      ],
      "text/plain": [
       "    Pl     horse_name  bar  Track   Gear  Rtg          jockey   trainer  \\\n",
       "0   10   A LA VICTORY    7   1200  B, TT   79  K A'ISISUHAIRI  J PETERS   \n",
       "1   10   A LA VICTORY    7   1200  B, TT   79  K A'ISISUHAIRI  J PETERS   \n",
       "2    5   A LA VICTORY    6   1200  B, TT   77         SY MOON  J PETERS   \n",
       "3    3  A LOT IN HAND    4   1100      B   43       APP CK NG    HK TAN   \n",
       "4    8  A LOT IN HAND    3   1200      B   43          TH KOH    HK TAN   \n",
       "5    4  A LOT IN HAND   11   1200      B   41           M EWE    HK TAN   \n",
       "6    3  A LOT IN HAND    2   1200      B   39           M EWE    HK TAN   \n",
       "7    5  A LOT IN HAND   11   1200      B   39       APP CK NG    HK TAN   \n",
       "8    8  A LOT IN HAND    4   1100      B   38         D DAVID    HK TAN   \n",
       "9    9          AABIR    3   1000     TT  NaN         V DURIC  M WALKER   \n",
       "10   2          AABIR    6   1000     TT  NaN     R WOODWORTH  M WALKER   \n",
       "11   8          AABIR    7   1200     TT  NaN     R WOODWORTH  M WALKER   \n",
       "12   2          AABIR   10   1100     TT   48        R ZAWARI  M WALKER   \n",
       "13   3          AABIR    3   1000     TT   48   APP AB RIDUAN  M WALKER   \n",
       "14   3          AABIR   12   1000     TT   48        R ZAWARI  M WALKER   \n",
       "\n",
       "                      Owner  Last 800m  Last 400m  Final  Second  \\\n",
       "0   CHINA HORSE CLUB STABLE        8.0        9.0     10     8.6   \n",
       "1   CHINA HORSE CLUB STABLE        8.0        9.0     10     8.6   \n",
       "2   CHINA HORSE CLUB STABLE        8.0        7.0      5     2.7   \n",
       "3         HAPPY LIFE STABLE        3.0        3.0      3     2.9   \n",
       "4         HAPPY LIFE STABLE        2.0        2.0      8     8.1   \n",
       "5         HAPPY LIFE STABLE        2.0        2.0      4     5.1   \n",
       "6         HAPPY LIFE STABLE        1.0        1.0      3     2.1   \n",
       "7         HAPPY LIFE STABLE        2.0        3.0      5     5.1   \n",
       "8         HAPPY LIFE STABLE        1.0        2.0      8     6.0   \n",
       "9    JOHN ERIC GILES GALVIN        7.0        8.0      9    10.2   \n",
       "10   JOHN ERIC GILES GALVIN        1.0        1.0      2     0.3   \n",
       "11   JOHN ERIC GILES GALVIN        5.0        6.0      8     3.1   \n",
       "12   JOHN ERIC GILES GALVIN        2.0        2.0      2     0.8   \n",
       "13   JOHN ERIC GILES GALVIN        2.0        2.0      3     1.3   \n",
       "14   JOHN ERIC GILES GALVIN        5.0        5.0      3     2.1   \n",
       "\n",
       "    total second to finish  \n",
       "0                     71.0  \n",
       "1                     71.0  \n",
       "2                     70.0  \n",
       "3                     67.0  \n",
       "4                     74.0  \n",
       "5                     73.0  \n",
       "6                     73.0  \n",
       "7                     73.0  \n",
       "8                     66.0  \n",
       "9                     62.0  \n",
       "10                   119.0  \n",
       "11                    72.0  \n",
       "12                    65.0  \n",
       "13                    60.0  \n",
       "14                   119.0  "
      ]
     },
     "execution_count": 89,
     "metadata": {},
     "output_type": "execute_result"
    }
   ],
   "source": [
    "# Import Data from CSV file\n",
    "df = pd.read_csv('Racing_Result_final.csv')\n",
    "df.head(15)"
   ]
  },
  {
   "cell_type": "code",
   "execution_count": 90,
   "metadata": {},
   "outputs": [
    {
     "name": "stdout",
     "output_type": "stream",
     "text": [
      "<class 'pandas.core.frame.DataFrame'>\n",
      "RangeIndex: 45472 entries, 0 to 45471\n",
      "Data columns (total 14 columns):\n",
      " #   Column                  Non-Null Count  Dtype  \n",
      "---  ------                  --------------  -----  \n",
      " 0   Pl                      45472 non-null  int64  \n",
      " 1   horse_name              45472 non-null  object \n",
      " 2   bar                     45472 non-null  int64  \n",
      " 3   Track                   45472 non-null  int64  \n",
      " 4   Gear                    32814 non-null  object \n",
      " 5   Rtg                     42189 non-null  object \n",
      " 6   jockey                  45472 non-null  object \n",
      " 7   trainer                 45472 non-null  object \n",
      " 8   Owner                   45472 non-null  object \n",
      " 9   Last 800m               45362 non-null  float64\n",
      " 10  Last 400m               45362 non-null  float64\n",
      " 11  Final                   45472 non-null  int64  \n",
      " 12  Second                  45472 non-null  float64\n",
      " 13  total second to finish  45371 non-null  float64\n",
      "dtypes: float64(4), int64(4), object(6)\n",
      "memory usage: 4.9+ MB\n"
     ]
    }
   ],
   "source": [
    "#Check type of the data of each column.\n",
    "df.info()"
   ]
  },
  {
   "cell_type": "markdown",
   "metadata": {},
   "source": [
    "#### Remove features that are not useful for prediction of race results."
   ]
  },
  {
   "cell_type": "code",
   "execution_count": 91,
   "metadata": {},
   "outputs": [],
   "source": [
    "# Bar is just gate of the horses in each race.\n",
    "# Rating of the horse is for betting purpose.\n",
    "# Gear for the horse is not contribute any prediction.\n",
    "# Second is the time where behind the winner of the race.\n",
    "# Final is the placement of the race that is same with Pl (place)\n",
    "df.drop(['bar','Rtg','Gear','Second','Final'], axis=1,inplace=True)"
   ]
  },
  {
   "cell_type": "code",
   "execution_count": 92,
   "metadata": {},
   "outputs": [
    {
     "data": {
      "text/plain": [
       "Pl                          0\n",
       "horse_name                  0\n",
       "Track                       0\n",
       "jockey                      0\n",
       "trainer                     0\n",
       "Owner                       0\n",
       "Last 800m                 110\n",
       "Last 400m                 110\n",
       "total second to finish    101\n",
       "dtype: int64"
      ]
     },
     "execution_count": 92,
     "metadata": {},
     "output_type": "execute_result"
    }
   ],
   "source": [
    "# Check any missing value in the dataframe\n",
    "df.isna().sum()"
   ]
  },
  {
   "cell_type": "markdown",
   "metadata": {},
   "source": [
    "#### Remove NA Value in dataframe"
   ]
  },
  {
   "cell_type": "code",
   "execution_count": 93,
   "metadata": {},
   "outputs": [],
   "source": [
    "df.dropna(inplace=True)"
   ]
  },
  {
   "cell_type": "code",
   "execution_count": 94,
   "metadata": {},
   "outputs": [
    {
     "data": {
      "text/plain": [
       "Pl                        0\n",
       "horse_name                0\n",
       "Track                     0\n",
       "jockey                    0\n",
       "trainer                   0\n",
       "Owner                     0\n",
       "Last 800m                 0\n",
       "Last 400m                 0\n",
       "total second to finish    0\n",
       "dtype: int64"
      ]
     },
     "execution_count": 94,
     "metadata": {},
     "output_type": "execute_result"
    }
   ],
   "source": [
    "# Check any missing value in dataframe.\n",
    "df.isna().sum()"
   ]
  },
  {
   "cell_type": "markdown",
   "metadata": {},
   "source": [
    "## Labels Encoding <br>\n",
    "\n",
    "Change the target features ('Pl') to Binary Label Encoding <br>\n",
    "\n",
    "Top 3 Placing = 0 </br>\n",
    "Placing 4 above = 1"
   ]
  },
  {
   "cell_type": "code",
   "execution_count": 95,
   "metadata": {},
   "outputs": [
    {
     "data": {
      "text/html": [
       "<div>\n",
       "<style scoped>\n",
       "    .dataframe tbody tr th:only-of-type {\n",
       "        vertical-align: middle;\n",
       "    }\n",
       "\n",
       "    .dataframe tbody tr th {\n",
       "        vertical-align: top;\n",
       "    }\n",
       "\n",
       "    .dataframe thead th {\n",
       "        text-align: right;\n",
       "    }\n",
       "</style>\n",
       "<table border=\"1\" class=\"dataframe\">\n",
       "  <thead>\n",
       "    <tr style=\"text-align: right;\">\n",
       "      <th></th>\n",
       "      <th>Pl</th>\n",
       "      <th>horse_name</th>\n",
       "      <th>Track</th>\n",
       "      <th>jockey</th>\n",
       "      <th>trainer</th>\n",
       "      <th>Owner</th>\n",
       "      <th>Last 800m</th>\n",
       "      <th>Last 400m</th>\n",
       "      <th>total second to finish</th>\n",
       "    </tr>\n",
       "  </thead>\n",
       "  <tbody>\n",
       "    <tr>\n",
       "      <th>0</th>\n",
       "      <td>2</td>\n",
       "      <td>A LA VICTORY</td>\n",
       "      <td>1200</td>\n",
       "      <td>K A'ISISUHAIRI</td>\n",
       "      <td>J PETERS</td>\n",
       "      <td>CHINA HORSE CLUB STABLE</td>\n",
       "      <td>8.0</td>\n",
       "      <td>9.0</td>\n",
       "      <td>71.0</td>\n",
       "    </tr>\n",
       "    <tr>\n",
       "      <th>1</th>\n",
       "      <td>2</td>\n",
       "      <td>A LA VICTORY</td>\n",
       "      <td>1200</td>\n",
       "      <td>K A'ISISUHAIRI</td>\n",
       "      <td>J PETERS</td>\n",
       "      <td>CHINA HORSE CLUB STABLE</td>\n",
       "      <td>8.0</td>\n",
       "      <td>9.0</td>\n",
       "      <td>71.0</td>\n",
       "    </tr>\n",
       "  </tbody>\n",
       "</table>\n",
       "</div>"
      ],
      "text/plain": [
       "   Pl    horse_name  Track          jockey   trainer                    Owner  \\\n",
       "0   2  A LA VICTORY   1200  K A'ISISUHAIRI  J PETERS  CHINA HORSE CLUB STABLE   \n",
       "1   2  A LA VICTORY   1200  K A'ISISUHAIRI  J PETERS  CHINA HORSE CLUB STABLE   \n",
       "\n",
       "   Last 800m  Last 400m  total second to finish  \n",
       "0        8.0        9.0                    71.0  \n",
       "1        8.0        9.0                    71.0  "
      ]
     },
     "execution_count": 95,
     "metadata": {},
     "output_type": "execute_result"
    }
   ],
   "source": [
    "df.loc[df.Pl <= 3,'Pl']= 1 #( top 3 ranking )\n",
    "df.loc[df.Pl >= 4,'Pl']= 2 #( Other )\n",
    "df.head(2)"
   ]
  },
  {
   "cell_type": "code",
   "execution_count": 96,
   "metadata": {},
   "outputs": [
    {
     "data": {
      "text/plain": [
       "2    33311\n",
       "1    11950\n",
       "Name: Pl, dtype: int64"
      ]
     },
     "execution_count": 96,
     "metadata": {},
     "output_type": "execute_result"
    }
   ],
   "source": [
    "#Check total value for top 3 (11950) & others (33311)\n",
    "df['Pl'].value_counts()"
   ]
  },
  {
   "cell_type": "markdown",
   "metadata": {},
   "source": [
    "Feature processing</br>\n",
    "Converting the labels into a numeric form so as to convert them into the machine-readable form"
   ]
  },
  {
   "cell_type": "code",
   "execution_count": 97,
   "metadata": {},
   "outputs": [
    {
     "data": {
      "text/html": [
       "<div>\n",
       "<style scoped>\n",
       "    .dataframe tbody tr th:only-of-type {\n",
       "        vertical-align: middle;\n",
       "    }\n",
       "\n",
       "    .dataframe tbody tr th {\n",
       "        vertical-align: top;\n",
       "    }\n",
       "\n",
       "    .dataframe thead th {\n",
       "        text-align: right;\n",
       "    }\n",
       "</style>\n",
       "<table border=\"1\" class=\"dataframe\">\n",
       "  <thead>\n",
       "    <tr style=\"text-align: right;\">\n",
       "      <th></th>\n",
       "      <th>Pl</th>\n",
       "      <th>horse_name</th>\n",
       "      <th>Track</th>\n",
       "      <th>jockey</th>\n",
       "      <th>trainer</th>\n",
       "      <th>Owner</th>\n",
       "      <th>Last 800m</th>\n",
       "      <th>Last 400m</th>\n",
       "      <th>total second to finish</th>\n",
       "    </tr>\n",
       "  </thead>\n",
       "  <tbody>\n",
       "    <tr>\n",
       "      <th>0</th>\n",
       "      <td>1</td>\n",
       "      <td>A LA VICTORY</td>\n",
       "      <td>1200</td>\n",
       "      <td>K A'ISISUHAIRI</td>\n",
       "      <td>J PETERS</td>\n",
       "      <td>CHINA HORSE CLUB STABLE</td>\n",
       "      <td>8.0</td>\n",
       "      <td>9.0</td>\n",
       "      <td>71.0</td>\n",
       "    </tr>\n",
       "    <tr>\n",
       "      <th>1</th>\n",
       "      <td>1</td>\n",
       "      <td>A LA VICTORY</td>\n",
       "      <td>1200</td>\n",
       "      <td>K A'ISISUHAIRI</td>\n",
       "      <td>J PETERS</td>\n",
       "      <td>CHINA HORSE CLUB STABLE</td>\n",
       "      <td>8.0</td>\n",
       "      <td>9.0</td>\n",
       "      <td>71.0</td>\n",
       "    </tr>\n",
       "    <tr>\n",
       "      <th>2</th>\n",
       "      <td>1</td>\n",
       "      <td>A LA VICTORY</td>\n",
       "      <td>1200</td>\n",
       "      <td>SY MOON</td>\n",
       "      <td>J PETERS</td>\n",
       "      <td>CHINA HORSE CLUB STABLE</td>\n",
       "      <td>8.0</td>\n",
       "      <td>7.0</td>\n",
       "      <td>70.0</td>\n",
       "    </tr>\n",
       "    <tr>\n",
       "      <th>3</th>\n",
       "      <td>0</td>\n",
       "      <td>A LOT IN HAND</td>\n",
       "      <td>1100</td>\n",
       "      <td>APP CK NG</td>\n",
       "      <td>HK TAN</td>\n",
       "      <td>HAPPY LIFE STABLE</td>\n",
       "      <td>3.0</td>\n",
       "      <td>3.0</td>\n",
       "      <td>67.0</td>\n",
       "    </tr>\n",
       "    <tr>\n",
       "      <th>4</th>\n",
       "      <td>1</td>\n",
       "      <td>A LOT IN HAND</td>\n",
       "      <td>1200</td>\n",
       "      <td>TH KOH</td>\n",
       "      <td>HK TAN</td>\n",
       "      <td>HAPPY LIFE STABLE</td>\n",
       "      <td>2.0</td>\n",
       "      <td>2.0</td>\n",
       "      <td>74.0</td>\n",
       "    </tr>\n",
       "    <tr>\n",
       "      <th>5</th>\n",
       "      <td>1</td>\n",
       "      <td>A LOT IN HAND</td>\n",
       "      <td>1200</td>\n",
       "      <td>M EWE</td>\n",
       "      <td>HK TAN</td>\n",
       "      <td>HAPPY LIFE STABLE</td>\n",
       "      <td>2.0</td>\n",
       "      <td>2.0</td>\n",
       "      <td>73.0</td>\n",
       "    </tr>\n",
       "    <tr>\n",
       "      <th>6</th>\n",
       "      <td>0</td>\n",
       "      <td>A LOT IN HAND</td>\n",
       "      <td>1200</td>\n",
       "      <td>M EWE</td>\n",
       "      <td>HK TAN</td>\n",
       "      <td>HAPPY LIFE STABLE</td>\n",
       "      <td>1.0</td>\n",
       "      <td>1.0</td>\n",
       "      <td>73.0</td>\n",
       "    </tr>\n",
       "    <tr>\n",
       "      <th>7</th>\n",
       "      <td>1</td>\n",
       "      <td>A LOT IN HAND</td>\n",
       "      <td>1200</td>\n",
       "      <td>APP CK NG</td>\n",
       "      <td>HK TAN</td>\n",
       "      <td>HAPPY LIFE STABLE</td>\n",
       "      <td>2.0</td>\n",
       "      <td>3.0</td>\n",
       "      <td>73.0</td>\n",
       "    </tr>\n",
       "    <tr>\n",
       "      <th>8</th>\n",
       "      <td>1</td>\n",
       "      <td>A LOT IN HAND</td>\n",
       "      <td>1100</td>\n",
       "      <td>D DAVID</td>\n",
       "      <td>HK TAN</td>\n",
       "      <td>HAPPY LIFE STABLE</td>\n",
       "      <td>1.0</td>\n",
       "      <td>2.0</td>\n",
       "      <td>66.0</td>\n",
       "    </tr>\n",
       "    <tr>\n",
       "      <th>9</th>\n",
       "      <td>1</td>\n",
       "      <td>AABIR</td>\n",
       "      <td>1000</td>\n",
       "      <td>V DURIC</td>\n",
       "      <td>M WALKER</td>\n",
       "      <td>JOHN ERIC GILES GALVIN</td>\n",
       "      <td>7.0</td>\n",
       "      <td>8.0</td>\n",
       "      <td>62.0</td>\n",
       "    </tr>\n",
       "    <tr>\n",
       "      <th>10</th>\n",
       "      <td>0</td>\n",
       "      <td>AABIR</td>\n",
       "      <td>1000</td>\n",
       "      <td>R WOODWORTH</td>\n",
       "      <td>M WALKER</td>\n",
       "      <td>JOHN ERIC GILES GALVIN</td>\n",
       "      <td>1.0</td>\n",
       "      <td>1.0</td>\n",
       "      <td>119.0</td>\n",
       "    </tr>\n",
       "    <tr>\n",
       "      <th>11</th>\n",
       "      <td>1</td>\n",
       "      <td>AABIR</td>\n",
       "      <td>1200</td>\n",
       "      <td>R WOODWORTH</td>\n",
       "      <td>M WALKER</td>\n",
       "      <td>JOHN ERIC GILES GALVIN</td>\n",
       "      <td>5.0</td>\n",
       "      <td>6.0</td>\n",
       "      <td>72.0</td>\n",
       "    </tr>\n",
       "    <tr>\n",
       "      <th>12</th>\n",
       "      <td>0</td>\n",
       "      <td>AABIR</td>\n",
       "      <td>1100</td>\n",
       "      <td>R ZAWARI</td>\n",
       "      <td>M WALKER</td>\n",
       "      <td>JOHN ERIC GILES GALVIN</td>\n",
       "      <td>2.0</td>\n",
       "      <td>2.0</td>\n",
       "      <td>65.0</td>\n",
       "    </tr>\n",
       "    <tr>\n",
       "      <th>13</th>\n",
       "      <td>0</td>\n",
       "      <td>AABIR</td>\n",
       "      <td>1000</td>\n",
       "      <td>APP AB RIDUAN</td>\n",
       "      <td>M WALKER</td>\n",
       "      <td>JOHN ERIC GILES GALVIN</td>\n",
       "      <td>2.0</td>\n",
       "      <td>2.0</td>\n",
       "      <td>60.0</td>\n",
       "    </tr>\n",
       "    <tr>\n",
       "      <th>14</th>\n",
       "      <td>0</td>\n",
       "      <td>AABIR</td>\n",
       "      <td>1000</td>\n",
       "      <td>R ZAWARI</td>\n",
       "      <td>M WALKER</td>\n",
       "      <td>JOHN ERIC GILES GALVIN</td>\n",
       "      <td>5.0</td>\n",
       "      <td>5.0</td>\n",
       "      <td>119.0</td>\n",
       "    </tr>\n",
       "  </tbody>\n",
       "</table>\n",
       "</div>"
      ],
      "text/plain": [
       "    Pl     horse_name  Track          jockey   trainer  \\\n",
       "0    1   A LA VICTORY   1200  K A'ISISUHAIRI  J PETERS   \n",
       "1    1   A LA VICTORY   1200  K A'ISISUHAIRI  J PETERS   \n",
       "2    1   A LA VICTORY   1200         SY MOON  J PETERS   \n",
       "3    0  A LOT IN HAND   1100       APP CK NG    HK TAN   \n",
       "4    1  A LOT IN HAND   1200          TH KOH    HK TAN   \n",
       "5    1  A LOT IN HAND   1200           M EWE    HK TAN   \n",
       "6    0  A LOT IN HAND   1200           M EWE    HK TAN   \n",
       "7    1  A LOT IN HAND   1200       APP CK NG    HK TAN   \n",
       "8    1  A LOT IN HAND   1100         D DAVID    HK TAN   \n",
       "9    1          AABIR   1000         V DURIC  M WALKER   \n",
       "10   0          AABIR   1000     R WOODWORTH  M WALKER   \n",
       "11   1          AABIR   1200     R WOODWORTH  M WALKER   \n",
       "12   0          AABIR   1100        R ZAWARI  M WALKER   \n",
       "13   0          AABIR   1000   APP AB RIDUAN  M WALKER   \n",
       "14   0          AABIR   1000        R ZAWARI  M WALKER   \n",
       "\n",
       "                      Owner  Last 800m  Last 400m  total second to finish  \n",
       "0   CHINA HORSE CLUB STABLE        8.0        9.0                    71.0  \n",
       "1   CHINA HORSE CLUB STABLE        8.0        9.0                    71.0  \n",
       "2   CHINA HORSE CLUB STABLE        8.0        7.0                    70.0  \n",
       "3         HAPPY LIFE STABLE        3.0        3.0                    67.0  \n",
       "4         HAPPY LIFE STABLE        2.0        2.0                    74.0  \n",
       "5         HAPPY LIFE STABLE        2.0        2.0                    73.0  \n",
       "6         HAPPY LIFE STABLE        1.0        1.0                    73.0  \n",
       "7         HAPPY LIFE STABLE        2.0        3.0                    73.0  \n",
       "8         HAPPY LIFE STABLE        1.0        2.0                    66.0  \n",
       "9    JOHN ERIC GILES GALVIN        7.0        8.0                    62.0  \n",
       "10   JOHN ERIC GILES GALVIN        1.0        1.0                   119.0  \n",
       "11   JOHN ERIC GILES GALVIN        5.0        6.0                    72.0  \n",
       "12   JOHN ERIC GILES GALVIN        2.0        2.0                    65.0  \n",
       "13   JOHN ERIC GILES GALVIN        2.0        2.0                    60.0  \n",
       "14   JOHN ERIC GILES GALVIN        5.0        5.0                   119.0  "
      ]
     },
     "execution_count": 97,
     "metadata": {},
     "output_type": "execute_result"
    }
   ],
   "source": [
    "from sklearn.preprocessing import LabelEncoder\n",
    "#0 represent top 3 ranking, 1 represent others\n",
    "df['Pl'] = LabelEncoder().fit_transform(df['Pl']).astype(int)\n",
    "df['Pl'] = df['Pl'].map({0:0, 1:1})\n",
    "df.head(15)"
   ]
  },
  {
   "cell_type": "code",
   "execution_count": 98,
   "metadata": {},
   "outputs": [
    {
     "data": {
      "text/plain": [
       "Pl               2\n",
       "horse_name    2782\n",
       "jockey         131\n",
       "trainer         45\n",
       "Owner          959\n",
       "dtype: int64"
      ]
     },
     "execution_count": 98,
     "metadata": {},
     "output_type": "execute_result"
    }
   ],
   "source": [
    "#Check total unit for features - Pl, horse name, jocket, trainer and owner.\n",
    "df[['Pl','horse_name','jockey','trainer','Owner']].nunique()"
   ]
  },
  {
   "cell_type": "markdown",
   "metadata": {},
   "source": [
    "#### Feature Encoding <br>\n",
    "Horse_name, Jockey, trainer and owner change to ID by using Freq Encoding"
   ]
  },
  {
   "cell_type": "code",
   "execution_count": 99,
   "metadata": {},
   "outputs": [],
   "source": [
    "# Total unit of horse name is 2782.Change Horse Name into numerical number as horse id in 0000 format.\n",
    "df['horse_id'] = df.groupby(['horse_name'], sort=False).ngroup().add(1)\n",
    "df['horse_id'] = df['horse_id'].astype(str)\n",
    "df['horse_id'] = df['horse_id'].str.zfill(4)"
   ]
  },
  {
   "cell_type": "code",
   "execution_count": 100,
   "metadata": {},
   "outputs": [],
   "source": [
    "# Total unit of jockey is 131.Change jockey into numerical number as jockey id in 000 format.\n",
    "df['jockey_id'] = df.groupby(['jockey'], sort=False).ngroup().add(1)\n",
    "df['jockey_id'] = df['jockey_id'].astype(str)\n",
    "df['jockey_id'] = df['jockey_id'].str.zfill(3)"
   ]
  },
  {
   "cell_type": "code",
   "execution_count": 101,
   "metadata": {},
   "outputs": [],
   "source": [
    "# Total unit of trainer is 45.Change jockey into numerical number as trainer id in 000 format.\n",
    "df['trainer_id'] = df.groupby(['trainer'], sort=False).ngroup().add(1)\n",
    "df['trainer_id'] = df['trainer_id'].astype(str)\n",
    "df['trainer_id'] = df['trainer_id'].str.zfill(3)"
   ]
  },
  {
   "cell_type": "code",
   "execution_count": 102,
   "metadata": {},
   "outputs": [],
   "source": [
    "# Total unit of owner is 959.Change jockey into numerical number as owner id in 000 format.\n",
    "df['owner_id'] = df.groupby(['Owner'], sort=False).ngroup().add(1)\n",
    "df['owner_id'] = df['owner_id'].astype(str)\n",
    "df['owner_id'] = df['owner_id'].str.zfill(3)"
   ]
  },
  {
   "cell_type": "code",
   "execution_count": 103,
   "metadata": {},
   "outputs": [],
   "source": [
    "# Minimize Track features value in order to scale the value with other features\n",
    "df['Track'] = df['Track'].div(1000)"
   ]
  },
  {
   "cell_type": "code",
   "execution_count": 104,
   "metadata": {},
   "outputs": [
    {
     "data": {
      "text/html": [
       "<div>\n",
       "<style scoped>\n",
       "    .dataframe tbody tr th:only-of-type {\n",
       "        vertical-align: middle;\n",
       "    }\n",
       "\n",
       "    .dataframe tbody tr th {\n",
       "        vertical-align: top;\n",
       "    }\n",
       "\n",
       "    .dataframe thead th {\n",
       "        text-align: right;\n",
       "    }\n",
       "</style>\n",
       "<table border=\"1\" class=\"dataframe\">\n",
       "  <thead>\n",
       "    <tr style=\"text-align: right;\">\n",
       "      <th></th>\n",
       "      <th>Pl</th>\n",
       "      <th>horse_name</th>\n",
       "      <th>Track</th>\n",
       "      <th>jockey</th>\n",
       "      <th>trainer</th>\n",
       "      <th>Owner</th>\n",
       "      <th>Last 800m</th>\n",
       "      <th>Last 400m</th>\n",
       "      <th>total second to finish</th>\n",
       "      <th>horse_id</th>\n",
       "      <th>jockey_id</th>\n",
       "      <th>trainer_id</th>\n",
       "      <th>owner_id</th>\n",
       "    </tr>\n",
       "  </thead>\n",
       "  <tbody>\n",
       "    <tr>\n",
       "      <th>0</th>\n",
       "      <td>1</td>\n",
       "      <td>A LA VICTORY</td>\n",
       "      <td>1.2</td>\n",
       "      <td>K A'ISISUHAIRI</td>\n",
       "      <td>J PETERS</td>\n",
       "      <td>CHINA HORSE CLUB STABLE</td>\n",
       "      <td>8.0</td>\n",
       "      <td>9.0</td>\n",
       "      <td>71.0</td>\n",
       "      <td>0001</td>\n",
       "      <td>001</td>\n",
       "      <td>001</td>\n",
       "      <td>001</td>\n",
       "    </tr>\n",
       "    <tr>\n",
       "      <th>1</th>\n",
       "      <td>1</td>\n",
       "      <td>A LA VICTORY</td>\n",
       "      <td>1.2</td>\n",
       "      <td>K A'ISISUHAIRI</td>\n",
       "      <td>J PETERS</td>\n",
       "      <td>CHINA HORSE CLUB STABLE</td>\n",
       "      <td>8.0</td>\n",
       "      <td>9.0</td>\n",
       "      <td>71.0</td>\n",
       "      <td>0001</td>\n",
       "      <td>001</td>\n",
       "      <td>001</td>\n",
       "      <td>001</td>\n",
       "    </tr>\n",
       "    <tr>\n",
       "      <th>2</th>\n",
       "      <td>1</td>\n",
       "      <td>A LA VICTORY</td>\n",
       "      <td>1.2</td>\n",
       "      <td>SY MOON</td>\n",
       "      <td>J PETERS</td>\n",
       "      <td>CHINA HORSE CLUB STABLE</td>\n",
       "      <td>8.0</td>\n",
       "      <td>7.0</td>\n",
       "      <td>70.0</td>\n",
       "      <td>0001</td>\n",
       "      <td>002</td>\n",
       "      <td>001</td>\n",
       "      <td>001</td>\n",
       "    </tr>\n",
       "    <tr>\n",
       "      <th>3</th>\n",
       "      <td>0</td>\n",
       "      <td>A LOT IN HAND</td>\n",
       "      <td>1.1</td>\n",
       "      <td>APP CK NG</td>\n",
       "      <td>HK TAN</td>\n",
       "      <td>HAPPY LIFE STABLE</td>\n",
       "      <td>3.0</td>\n",
       "      <td>3.0</td>\n",
       "      <td>67.0</td>\n",
       "      <td>0002</td>\n",
       "      <td>003</td>\n",
       "      <td>002</td>\n",
       "      <td>002</td>\n",
       "    </tr>\n",
       "    <tr>\n",
       "      <th>4</th>\n",
       "      <td>1</td>\n",
       "      <td>A LOT IN HAND</td>\n",
       "      <td>1.2</td>\n",
       "      <td>TH KOH</td>\n",
       "      <td>HK TAN</td>\n",
       "      <td>HAPPY LIFE STABLE</td>\n",
       "      <td>2.0</td>\n",
       "      <td>2.0</td>\n",
       "      <td>74.0</td>\n",
       "      <td>0002</td>\n",
       "      <td>004</td>\n",
       "      <td>002</td>\n",
       "      <td>002</td>\n",
       "    </tr>\n",
       "  </tbody>\n",
       "</table>\n",
       "</div>"
      ],
      "text/plain": [
       "   Pl     horse_name  Track          jockey   trainer  \\\n",
       "0   1   A LA VICTORY    1.2  K A'ISISUHAIRI  J PETERS   \n",
       "1   1   A LA VICTORY    1.2  K A'ISISUHAIRI  J PETERS   \n",
       "2   1   A LA VICTORY    1.2         SY MOON  J PETERS   \n",
       "3   0  A LOT IN HAND    1.1       APP CK NG    HK TAN   \n",
       "4   1  A LOT IN HAND    1.2          TH KOH    HK TAN   \n",
       "\n",
       "                     Owner  Last 800m  Last 400m  total second to finish  \\\n",
       "0  CHINA HORSE CLUB STABLE        8.0        9.0                    71.0   \n",
       "1  CHINA HORSE CLUB STABLE        8.0        9.0                    71.0   \n",
       "2  CHINA HORSE CLUB STABLE        8.0        7.0                    70.0   \n",
       "3        HAPPY LIFE STABLE        3.0        3.0                    67.0   \n",
       "4        HAPPY LIFE STABLE        2.0        2.0                    74.0   \n",
       "\n",
       "  horse_id jockey_id trainer_id owner_id  \n",
       "0     0001       001        001      001  \n",
       "1     0001       001        001      001  \n",
       "2     0001       002        001      001  \n",
       "3     0002       003        002      002  \n",
       "4     0002       004        002      002  "
      ]
     },
     "execution_count": 104,
     "metadata": {},
     "output_type": "execute_result"
    }
   ],
   "source": [
    "#Check new data frame after conversion into ID\n",
    "df.head()"
   ]
  },
  {
   "cell_type": "code",
   "execution_count": 105,
   "metadata": {},
   "outputs": [
    {
     "data": {
      "text/html": [
       "<div>\n",
       "<style scoped>\n",
       "    .dataframe tbody tr th:only-of-type {\n",
       "        vertical-align: middle;\n",
       "    }\n",
       "\n",
       "    .dataframe tbody tr th {\n",
       "        vertical-align: top;\n",
       "    }\n",
       "\n",
       "    .dataframe thead th {\n",
       "        text-align: right;\n",
       "    }\n",
       "</style>\n",
       "<table border=\"1\" class=\"dataframe\">\n",
       "  <thead>\n",
       "    <tr style=\"text-align: right;\">\n",
       "      <th></th>\n",
       "      <th>Pl</th>\n",
       "      <th>horse_name</th>\n",
       "      <th>Track</th>\n",
       "      <th>jockey</th>\n",
       "      <th>trainer</th>\n",
       "      <th>Owner</th>\n",
       "      <th>Last 800m</th>\n",
       "      <th>Last 400m</th>\n",
       "      <th>total second to finish</th>\n",
       "      <th>horse_id</th>\n",
       "      <th>jockey_id</th>\n",
       "      <th>trainer_id</th>\n",
       "      <th>owner_id</th>\n",
       "    </tr>\n",
       "  </thead>\n",
       "  <tbody>\n",
       "    <tr>\n",
       "      <th>0</th>\n",
       "      <td>1</td>\n",
       "      <td>A LA VICTORY</td>\n",
       "      <td>1.2</td>\n",
       "      <td>K A'ISISUHAIRI</td>\n",
       "      <td>J PETERS</td>\n",
       "      <td>CHINA HORSE CLUB STABLE</td>\n",
       "      <td>8.0</td>\n",
       "      <td>9.0</td>\n",
       "      <td>71.0</td>\n",
       "      <td>0001</td>\n",
       "      <td>001</td>\n",
       "      <td>001</td>\n",
       "      <td>001</td>\n",
       "    </tr>\n",
       "    <tr>\n",
       "      <th>1</th>\n",
       "      <td>1</td>\n",
       "      <td>A LA VICTORY</td>\n",
       "      <td>1.2</td>\n",
       "      <td>K A'ISISUHAIRI</td>\n",
       "      <td>J PETERS</td>\n",
       "      <td>CHINA HORSE CLUB STABLE</td>\n",
       "      <td>8.0</td>\n",
       "      <td>9.0</td>\n",
       "      <td>71.0</td>\n",
       "      <td>0001</td>\n",
       "      <td>001</td>\n",
       "      <td>001</td>\n",
       "      <td>001</td>\n",
       "    </tr>\n",
       "    <tr>\n",
       "      <th>2</th>\n",
       "      <td>1</td>\n",
       "      <td>A LA VICTORY</td>\n",
       "      <td>1.2</td>\n",
       "      <td>SY MOON</td>\n",
       "      <td>J PETERS</td>\n",
       "      <td>CHINA HORSE CLUB STABLE</td>\n",
       "      <td>8.0</td>\n",
       "      <td>7.0</td>\n",
       "      <td>70.0</td>\n",
       "      <td>0001</td>\n",
       "      <td>002</td>\n",
       "      <td>001</td>\n",
       "      <td>001</td>\n",
       "    </tr>\n",
       "    <tr>\n",
       "      <th>3</th>\n",
       "      <td>0</td>\n",
       "      <td>A LOT IN HAND</td>\n",
       "      <td>1.1</td>\n",
       "      <td>APP CK NG</td>\n",
       "      <td>HK TAN</td>\n",
       "      <td>HAPPY LIFE STABLE</td>\n",
       "      <td>3.0</td>\n",
       "      <td>3.0</td>\n",
       "      <td>67.0</td>\n",
       "      <td>0002</td>\n",
       "      <td>003</td>\n",
       "      <td>002</td>\n",
       "      <td>002</td>\n",
       "    </tr>\n",
       "    <tr>\n",
       "      <th>4</th>\n",
       "      <td>1</td>\n",
       "      <td>A LOT IN HAND</td>\n",
       "      <td>1.2</td>\n",
       "      <td>TH KOH</td>\n",
       "      <td>HK TAN</td>\n",
       "      <td>HAPPY LIFE STABLE</td>\n",
       "      <td>2.0</td>\n",
       "      <td>2.0</td>\n",
       "      <td>74.0</td>\n",
       "      <td>0002</td>\n",
       "      <td>004</td>\n",
       "      <td>002</td>\n",
       "      <td>002</td>\n",
       "    </tr>\n",
       "  </tbody>\n",
       "</table>\n",
       "</div>"
      ],
      "text/plain": [
       "   Pl     horse_name  Track          jockey   trainer  \\\n",
       "0   1   A LA VICTORY    1.2  K A'ISISUHAIRI  J PETERS   \n",
       "1   1   A LA VICTORY    1.2  K A'ISISUHAIRI  J PETERS   \n",
       "2   1   A LA VICTORY    1.2         SY MOON  J PETERS   \n",
       "3   0  A LOT IN HAND    1.1       APP CK NG    HK TAN   \n",
       "4   1  A LOT IN HAND    1.2          TH KOH    HK TAN   \n",
       "\n",
       "                     Owner  Last 800m  Last 400m  total second to finish  \\\n",
       "0  CHINA HORSE CLUB STABLE        8.0        9.0                    71.0   \n",
       "1  CHINA HORSE CLUB STABLE        8.0        9.0                    71.0   \n",
       "2  CHINA HORSE CLUB STABLE        8.0        7.0                    70.0   \n",
       "3        HAPPY LIFE STABLE        3.0        3.0                    67.0   \n",
       "4        HAPPY LIFE STABLE        2.0        2.0                    74.0   \n",
       "\n",
       "  horse_id jockey_id trainer_id owner_id  \n",
       "0     0001       001        001      001  \n",
       "1     0001       001        001      001  \n",
       "2     0001       002        001      001  \n",
       "3     0002       003        002      002  \n",
       "4     0002       004        002      002  "
      ]
     },
     "execution_count": 105,
     "metadata": {},
     "output_type": "execute_result"
    }
   ],
   "source": [
    "#Create new dataframe for ML purpose for combining horse name, jockey and trainer & owner into 1 new combine ID purpose.\n",
    "df2= df.copy(deep=True)\n",
    "df2.head()"
   ]
  },
  {
   "cell_type": "markdown",
   "metadata": {},
   "source": [
    "## Exploratory Data Analysis (EDA)"
   ]
  },
  {
   "cell_type": "code",
   "execution_count": 106,
   "metadata": {},
   "outputs": [
    {
     "data": {
      "image/png": "[encoded data removed]",
      "text/plain": [
       "<Figure size 800x550 with 1 Axes>"
      ]
     },
     "metadata": {},
     "output_type": "display_data"
    }
   ],
   "source": [
    "hnv1 = df.loc[df['Pl']==0]\n",
    "hnv1 = hnv1[['Owner','horse_name','jockey','trainer']].groupby(by= hnv1['Pl']).value_counts().sort_values(ascending=False)\n",
    "hnv1 = pd.DataFrame(hnv1)\n",
    "hnv1.head(10)\n",
    "hnv1.reset_index(inplace=True)\n",
    "hnv1['combined'] = hnv1['Owner'] + '_' + hnv1['horse_name'] + '_' + hnv1['jockey']+ '_' + hnv1['trainer']\n",
    "hnv1.drop(['Owner','horse_name','jockey','trainer'],axis=1,inplace=True)\n",
    "column_headers = list(hnv1.columns.values)\n",
    "hnv1.rename(columns={ 0: 'Count', 'combined': 'Component'}, inplace=True)\n",
    "hnv1 = hnv1.head(10)\n",
    "\n",
    "labels = hnv1['Component']\n",
    "counts = hnv1['Count']\n",
    "sns.barplot(x=counts,y=labels).set(title='Top 10 Component placing 1, 2, 3')\n",
    "plt.show()"
   ]
  },
  {
   "cell_type": "markdown",
   "metadata": {},
   "source": [
    "# Scenario 1: Running ML model witth 4 seperate features"
   ]
  },
  {
   "cell_type": "markdown",
   "metadata": {},
   "source": [
    "Change All 4 features ID (Horse ID, Jockey ID, Trainer ID & Owner ID) into frequency encoding."
   ]
  },
  {
   "cell_type": "code",
   "execution_count": 107,
   "metadata": {},
   "outputs": [],
   "source": [
    "# Horse ID Frequency Encoding\n",
    "# group by frequency\n",
    "fq_horse = df.groupby('horse_id').size()/len(df)\n",
    "# mapping values to dataframe\n",
    "df.loc[:, \"{}_freq_encode\".format('horse_id')] = df['horse_id'].map(fq_horse)\n",
    "# drop original column.\n",
    "df = df.drop(['horse_id'], axis=1)\n",
    "\n",
    "# Jockey ID Frequency Encoding\n",
    "# group by frequency\n",
    "fq_jockey = df.groupby('jockey_id').size()/len(df)\n",
    "# mapping values to dataframe\n",
    "df.loc[:, \"{}_freq_encode\".format('jockey_id')] = df['jockey_id'].map(fq_jockey)\n",
    "# drop original column.\n",
    "df = df.drop(['jockey_id'], axis=1)\n",
    "\n",
    "# Trainer ID Frequency Encoding\n",
    "# group by frequency\n",
    "fq_trainer = df.groupby('trainer_id').size()/len(df)\n",
    "# mapping values to dataframe\n",
    "df.loc[:, \"{}_freq_encode\".format('trainer_id')] = df['trainer_id'].map(fq_trainer)\n",
    "# drop original column.\n",
    "df = df.drop(['trainer_id'], axis=1)\n",
    "\n",
    "# Owner ID Frquency Encoding\n",
    "# group by frequency\n",
    "fq_owner = df.groupby('owner_id').size()/len(df)\n",
    "# mapping values to dataframe\n",
    "df.loc[:, \"{}_freq_encode\".format('owner_id')] = df['owner_id'].map(fq_owner)\n",
    "# drop original column.\n",
    "df = df.drop(['owner_id'], axis=1)"
   ]
  },
  {
   "cell_type": "code",
   "execution_count": 108,
   "metadata": {},
   "outputs": [
    {
     "data": {
      "text/html": [
       "<div>\n",
       "<style scoped>\n",
       "    .dataframe tbody tr th:only-of-type {\n",
       "        vertical-align: middle;\n",
       "    }\n",
       "\n",
       "    .dataframe tbody tr th {\n",
       "        vertical-align: top;\n",
       "    }\n",
       "\n",
       "    .dataframe thead th {\n",
       "        text-align: right;\n",
       "    }\n",
       "</style>\n",
       "<table border=\"1\" class=\"dataframe\">\n",
       "  <thead>\n",
       "    <tr style=\"text-align: right;\">\n",
       "      <th></th>\n",
       "      <th>Pl</th>\n",
       "      <th>horse_name</th>\n",
       "      <th>Track</th>\n",
       "      <th>jockey</th>\n",
       "      <th>trainer</th>\n",
       "      <th>Owner</th>\n",
       "      <th>Last 800m</th>\n",
       "      <th>Last 400m</th>\n",
       "      <th>total second to finish</th>\n",
       "      <th>horse_id_freq_encode</th>\n",
       "      <th>jockey_id_freq_encode</th>\n",
       "      <th>trainer_id_freq_encode</th>\n",
       "      <th>owner_id_freq_encode</th>\n",
       "    </tr>\n",
       "  </thead>\n",
       "  <tbody>\n",
       "    <tr>\n",
       "      <th>0</th>\n",
       "      <td>1</td>\n",
       "      <td>A LA VICTORY</td>\n",
       "      <td>1.2</td>\n",
       "      <td>K A'ISISUHAIRI</td>\n",
       "      <td>J PETERS</td>\n",
       "      <td>CHINA HORSE CLUB STABLE</td>\n",
       "      <td>8.0</td>\n",
       "      <td>9.0</td>\n",
       "      <td>71.0</td>\n",
       "      <td>0.000066</td>\n",
       "      <td>0.034776</td>\n",
       "      <td>0.036676</td>\n",
       "      <td>0.004507</td>\n",
       "    </tr>\n",
       "    <tr>\n",
       "      <th>1</th>\n",
       "      <td>1</td>\n",
       "      <td>A LA VICTORY</td>\n",
       "      <td>1.2</td>\n",
       "      <td>K A'ISISUHAIRI</td>\n",
       "      <td>J PETERS</td>\n",
       "      <td>CHINA HORSE CLUB STABLE</td>\n",
       "      <td>8.0</td>\n",
       "      <td>9.0</td>\n",
       "      <td>71.0</td>\n",
       "      <td>0.000066</td>\n",
       "      <td>0.034776</td>\n",
       "      <td>0.036676</td>\n",
       "      <td>0.004507</td>\n",
       "    </tr>\n",
       "    <tr>\n",
       "      <th>2</th>\n",
       "      <td>1</td>\n",
       "      <td>A LA VICTORY</td>\n",
       "      <td>1.2</td>\n",
       "      <td>SY MOON</td>\n",
       "      <td>J PETERS</td>\n",
       "      <td>CHINA HORSE CLUB STABLE</td>\n",
       "      <td>8.0</td>\n",
       "      <td>7.0</td>\n",
       "      <td>70.0</td>\n",
       "      <td>0.000066</td>\n",
       "      <td>0.001812</td>\n",
       "      <td>0.036676</td>\n",
       "      <td>0.004507</td>\n",
       "    </tr>\n",
       "    <tr>\n",
       "      <th>3</th>\n",
       "      <td>0</td>\n",
       "      <td>A LOT IN HAND</td>\n",
       "      <td>1.1</td>\n",
       "      <td>APP CK NG</td>\n",
       "      <td>HK TAN</td>\n",
       "      <td>HAPPY LIFE STABLE</td>\n",
       "      <td>3.0</td>\n",
       "      <td>3.0</td>\n",
       "      <td>67.0</td>\n",
       "      <td>0.000133</td>\n",
       "      <td>0.011666</td>\n",
       "      <td>0.005060</td>\n",
       "      <td>0.001016</td>\n",
       "    </tr>\n",
       "    <tr>\n",
       "      <th>4</th>\n",
       "      <td>1</td>\n",
       "      <td>A LOT IN HAND</td>\n",
       "      <td>1.2</td>\n",
       "      <td>TH KOH</td>\n",
       "      <td>HK TAN</td>\n",
       "      <td>HAPPY LIFE STABLE</td>\n",
       "      <td>2.0</td>\n",
       "      <td>2.0</td>\n",
       "      <td>74.0</td>\n",
       "      <td>0.000133</td>\n",
       "      <td>0.024149</td>\n",
       "      <td>0.005060</td>\n",
       "      <td>0.001016</td>\n",
       "    </tr>\n",
       "  </tbody>\n",
       "</table>\n",
       "</div>"
      ],
      "text/plain": [
       "   Pl     horse_name  Track          jockey   trainer  \\\n",
       "0   1   A LA VICTORY    1.2  K A'ISISUHAIRI  J PETERS   \n",
       "1   1   A LA VICTORY    1.2  K A'ISISUHAIRI  J PETERS   \n",
       "2   1   A LA VICTORY    1.2         SY MOON  J PETERS   \n",
       "3   0  A LOT IN HAND    1.1       APP CK NG    HK TAN   \n",
       "4   1  A LOT IN HAND    1.2          TH KOH    HK TAN   \n",
       "\n",
       "                     Owner  Last 800m  Last 400m  total second to finish  \\\n",
       "0  CHINA HORSE CLUB STABLE        8.0        9.0                    71.0   \n",
       "1  CHINA HORSE CLUB STABLE        8.0        9.0                    71.0   \n",
       "2  CHINA HORSE CLUB STABLE        8.0        7.0                    70.0   \n",
       "3        HAPPY LIFE STABLE        3.0        3.0                    67.0   \n",
       "4        HAPPY LIFE STABLE        2.0        2.0                    74.0   \n",
       "\n",
       "   horse_id_freq_encode  jockey_id_freq_encode  trainer_id_freq_encode  \\\n",
       "0              0.000066               0.034776                0.036676   \n",
       "1              0.000066               0.034776                0.036676   \n",
       "2              0.000066               0.001812                0.036676   \n",
       "3              0.000133               0.011666                0.005060   \n",
       "4              0.000133               0.024149                0.005060   \n",
       "\n",
       "   owner_id_freq_encode  \n",
       "0              0.004507  \n",
       "1              0.004507  \n",
       "2              0.004507  \n",
       "3              0.001016  \n",
       "4              0.001016  "
      ]
     },
     "execution_count": 108,
     "metadata": {},
     "output_type": "execute_result"
    }
   ],
   "source": [
    "# Recheck the dataframe with all 4 features with frequency encoding\n",
    "df.head()"
   ]
  },
  {
   "cell_type": "code",
   "execution_count": 109,
   "metadata": {},
   "outputs": [],
   "source": [
    "# Drop all 4 features by replacing features ID frequency encofing\n",
    "df.drop(['horse_name','jockey','trainer','Owner'],axis=1,inplace=True)"
   ]
  },
  {
   "cell_type": "code",
   "execution_count": 110,
   "metadata": {},
   "outputs": [
    {
     "data": {
      "text/html": [
       "<div>\n",
       "<style scoped>\n",
       "    .dataframe tbody tr th:only-of-type {\n",
       "        vertical-align: middle;\n",
       "    }\n",
       "\n",
       "    .dataframe tbody tr th {\n",
       "        vertical-align: top;\n",
       "    }\n",
       "\n",
       "    .dataframe thead th {\n",
       "        text-align: right;\n",
       "    }\n",
       "</style>\n",
       "<table border=\"1\" class=\"dataframe\">\n",
       "  <thead>\n",
       "    <tr style=\"text-align: right;\">\n",
       "      <th></th>\n",
       "      <th>Pl</th>\n",
       "      <th>Track</th>\n",
       "      <th>Last 800m</th>\n",
       "      <th>Last 400m</th>\n",
       "      <th>total second to finish</th>\n",
       "      <th>horse_id_freq_encode</th>\n",
       "      <th>jockey_id_freq_encode</th>\n",
       "      <th>trainer_id_freq_encode</th>\n",
       "      <th>owner_id_freq_encode</th>\n",
       "    </tr>\n",
       "  </thead>\n",
       "  <tbody>\n",
       "    <tr>\n",
       "      <th>0</th>\n",
       "      <td>1</td>\n",
       "      <td>1.2</td>\n",
       "      <td>8.0</td>\n",
       "      <td>9.0</td>\n",
       "      <td>71.0</td>\n",
       "      <td>0.000066</td>\n",
       "      <td>0.034776</td>\n",
       "      <td>0.036676</td>\n",
       "      <td>0.004507</td>\n",
       "    </tr>\n",
       "    <tr>\n",
       "      <th>1</th>\n",
       "      <td>1</td>\n",
       "      <td>1.2</td>\n",
       "      <td>8.0</td>\n",
       "      <td>9.0</td>\n",
       "      <td>71.0</td>\n",
       "      <td>0.000066</td>\n",
       "      <td>0.034776</td>\n",
       "      <td>0.036676</td>\n",
       "      <td>0.004507</td>\n",
       "    </tr>\n",
       "    <tr>\n",
       "      <th>2</th>\n",
       "      <td>1</td>\n",
       "      <td>1.2</td>\n",
       "      <td>8.0</td>\n",
       "      <td>7.0</td>\n",
       "      <td>70.0</td>\n",
       "      <td>0.000066</td>\n",
       "      <td>0.001812</td>\n",
       "      <td>0.036676</td>\n",
       "      <td>0.004507</td>\n",
       "    </tr>\n",
       "    <tr>\n",
       "      <th>3</th>\n",
       "      <td>0</td>\n",
       "      <td>1.1</td>\n",
       "      <td>3.0</td>\n",
       "      <td>3.0</td>\n",
       "      <td>67.0</td>\n",
       "      <td>0.000133</td>\n",
       "      <td>0.011666</td>\n",
       "      <td>0.005060</td>\n",
       "      <td>0.001016</td>\n",
       "    </tr>\n",
       "    <tr>\n",
       "      <th>4</th>\n",
       "      <td>1</td>\n",
       "      <td>1.2</td>\n",
       "      <td>2.0</td>\n",
       "      <td>2.0</td>\n",
       "      <td>74.0</td>\n",
       "      <td>0.000133</td>\n",
       "      <td>0.024149</td>\n",
       "      <td>0.005060</td>\n",
       "      <td>0.001016</td>\n",
       "    </tr>\n",
       "  </tbody>\n",
       "</table>\n",
       "</div>"
      ],
      "text/plain": [
       "   Pl  Track  Last 800m  Last 400m  total second to finish  \\\n",
       "0   1    1.2        8.0        9.0                    71.0   \n",
       "1   1    1.2        8.0        9.0                    71.0   \n",
       "2   1    1.2        8.0        7.0                    70.0   \n",
       "3   0    1.1        3.0        3.0                    67.0   \n",
       "4   1    1.2        2.0        2.0                    74.0   \n",
       "\n",
       "   horse_id_freq_encode  jockey_id_freq_encode  trainer_id_freq_encode  \\\n",
       "0              0.000066               0.034776                0.036676   \n",
       "1              0.000066               0.034776                0.036676   \n",
       "2              0.000066               0.001812                0.036676   \n",
       "3              0.000133               0.011666                0.005060   \n",
       "4              0.000133               0.024149                0.005060   \n",
       "\n",
       "   owner_id_freq_encode  \n",
       "0              0.004507  \n",
       "1              0.004507  \n",
       "2              0.004507  \n",
       "3              0.001016  \n",
       "4              0.001016  "
      ]
     },
     "execution_count": 110,
     "metadata": {},
     "output_type": "execute_result"
    }
   ],
   "source": [
    "# New Dataframe before using model \n",
    "df.head()"
   ]
  },
  {
   "cell_type": "code",
   "execution_count": 111,
   "metadata": {},
   "outputs": [
    {
     "data": {
      "text/plain": [
       "<AxesSubplot: >"
      ]
     },
     "execution_count": 111,
     "metadata": {},
     "output_type": "execute_result"
    },
    {
     "data": {
      "image/png": "[encoded data removed]",
      "text/plain": [
       "<Figure size 800x550 with 2 Axes>"
      ]
     },
     "metadata": {},
     "output_type": "display_data"
    }
   ],
   "source": [
    "sns.heatmap(df.corr() , annot= True)"
   ]
  },
  {
   "cell_type": "markdown",
   "metadata": {},
   "source": [
    "### Sample is imbalance. Using pycaret to simulate model accuracy and decide the baseline of using imbalance method and model."
   ]
  },
  {
   "cell_type": "code",
   "execution_count": 112,
   "metadata": {},
   "outputs": [
    {
     "data": {
      "text/html": [
       "<style type=\"text/css\">\n",
       "#T_4091c_row8_col1 {\n",
       "  background-color: lightgreen;\n",
       "}\n",
       "</style>\n",
       "<table id=\"T_4091c\">\n",
       "  <thead>\n",
       "    <tr>\n",
       "      <th class=\"blank level0\" >&nbsp;</th>\n",
       "      <th id=\"T_4091c_level0_col0\" class=\"col_heading level0 col0\" >Description</th>\n",
       "      <th id=\"T_4091c_level0_col1\" class=\"col_heading level0 col1\" >Value</th>\n",
       "    </tr>\n",
       "  </thead>\n",
       "  <tbody>\n",
       "    <tr>\n",
       "      <th id=\"T_4091c_level0_row0\" class=\"row_heading level0 row0\" >0</th>\n",
       "      <td id=\"T_4091c_row0_col0\" class=\"data row0 col0\" >Session id</td>\n",
       "      <td id=\"T_4091c_row0_col1\" class=\"data row0 col1\" >2979</td>\n",
       "    </tr>\n",
       "    <tr>\n",
       "      <th id=\"T_4091c_level0_row1\" class=\"row_heading level0 row1\" >1</th>\n",
       "      <td id=\"T_4091c_row1_col0\" class=\"data row1 col0\" >Target</td>\n",
       "      <td id=\"T_4091c_row1_col1\" class=\"data row1 col1\" >Pl</td>\n",
       "    </tr>\n",
       "    <tr>\n",
       "      <th id=\"T_4091c_level0_row2\" class=\"row_heading level0 row2\" >2</th>\n",
       "      <td id=\"T_4091c_row2_col0\" class=\"data row2 col0\" >Target type</td>\n",
       "      <td id=\"T_4091c_row2_col1\" class=\"data row2 col1\" >Binary</td>\n",
       "    </tr>\n",
       "    <tr>\n",
       "      <th id=\"T_4091c_level0_row3\" class=\"row_heading level0 row3\" >3</th>\n",
       "      <td id=\"T_4091c_row3_col0\" class=\"data row3 col0\" >Original data shape</td>\n",
       "      <td id=\"T_4091c_row3_col1\" class=\"data row3 col1\" >(45261, 9)</td>\n",
       "    </tr>\n",
       "    <tr>\n",
       "      <th id=\"T_4091c_level0_row4\" class=\"row_heading level0 row4\" >4</th>\n",
       "      <td id=\"T_4091c_row4_col0\" class=\"data row4 col0\" >Transformed data shape</td>\n",
       "      <td id=\"T_4091c_row4_col1\" class=\"data row4 col1\" >(45261, 9)</td>\n",
       "    </tr>\n",
       "    <tr>\n",
       "      <th id=\"T_4091c_level0_row5\" class=\"row_heading level0 row5\" >5</th>\n",
       "      <td id=\"T_4091c_row5_col0\" class=\"data row5 col0\" >Transformed train set shape</td>\n",
       "      <td id=\"T_4091c_row5_col1\" class=\"data row5 col1\" >(31682, 9)</td>\n",
       "    </tr>\n",
       "    <tr>\n",
       "      <th id=\"T_4091c_level0_row6\" class=\"row_heading level0 row6\" >6</th>\n",
       "      <td id=\"T_4091c_row6_col0\" class=\"data row6 col0\" >Transformed test set shape</td>\n",
       "      <td id=\"T_4091c_row6_col1\" class=\"data row6 col1\" >(13579, 9)</td>\n",
       "    </tr>\n",
       "    <tr>\n",
       "      <th id=\"T_4091c_level0_row7\" class=\"row_heading level0 row7\" >7</th>\n",
       "      <td id=\"T_4091c_row7_col0\" class=\"data row7 col0\" >Numeric features</td>\n",
       "      <td id=\"T_4091c_row7_col1\" class=\"data row7 col1\" >8</td>\n",
       "    </tr>\n",
       "    <tr>\n",
       "      <th id=\"T_4091c_level0_row8\" class=\"row_heading level0 row8\" >8</th>\n",
       "      <td id=\"T_4091c_row8_col0\" class=\"data row8 col0\" >Preprocess</td>\n",
       "      <td id=\"T_4091c_row8_col1\" class=\"data row8 col1\" >True</td>\n",
       "    </tr>\n",
       "    <tr>\n",
       "      <th id=\"T_4091c_level0_row9\" class=\"row_heading level0 row9\" >9</th>\n",
       "      <td id=\"T_4091c_row9_col0\" class=\"data row9 col0\" >Imputation type</td>\n",
       "      <td id=\"T_4091c_row9_col1\" class=\"data row9 col1\" >simple</td>\n",
       "    </tr>\n",
       "    <tr>\n",
       "      <th id=\"T_4091c_level0_row10\" class=\"row_heading level0 row10\" >10</th>\n",
       "      <td id=\"T_4091c_row10_col0\" class=\"data row10 col0\" >Numeric imputation</td>\n",
       "      <td id=\"T_4091c_row10_col1\" class=\"data row10 col1\" >mean</td>\n",
       "    </tr>\n",
       "    <tr>\n",
       "      <th id=\"T_4091c_level0_row11\" class=\"row_heading level0 row11\" >11</th>\n",
       "      <td id=\"T_4091c_row11_col0\" class=\"data row11 col0\" >Categorical imputation</td>\n",
       "      <td id=\"T_4091c_row11_col1\" class=\"data row11 col1\" >constant</td>\n",
       "    </tr>\n",
       "    <tr>\n",
       "      <th id=\"T_4091c_level0_row12\" class=\"row_heading level0 row12\" >12</th>\n",
       "      <td id=\"T_4091c_row12_col0\" class=\"data row12 col0\" >Low variance threshold</td>\n",
       "      <td id=\"T_4091c_row12_col1\" class=\"data row12 col1\" >0</td>\n",
       "    </tr>\n",
       "    <tr>\n",
       "      <th id=\"T_4091c_level0_row13\" class=\"row_heading level0 row13\" >13</th>\n",
       "      <td id=\"T_4091c_row13_col0\" class=\"data row13 col0\" >Fold Generator</td>\n",
       "      <td id=\"T_4091c_row13_col1\" class=\"data row13 col1\" >StratifiedKFold</td>\n",
       "    </tr>\n",
       "    <tr>\n",
       "      <th id=\"T_4091c_level0_row14\" class=\"row_heading level0 row14\" >14</th>\n",
       "      <td id=\"T_4091c_row14_col0\" class=\"data row14 col0\" >Fold Number</td>\n",
       "      <td id=\"T_4091c_row14_col1\" class=\"data row14 col1\" >10</td>\n",
       "    </tr>\n",
       "    <tr>\n",
       "      <th id=\"T_4091c_level0_row15\" class=\"row_heading level0 row15\" >15</th>\n",
       "      <td id=\"T_4091c_row15_col0\" class=\"data row15 col0\" >CPU Jobs</td>\n",
       "      <td id=\"T_4091c_row15_col1\" class=\"data row15 col1\" >-1</td>\n",
       "    </tr>\n",
       "    <tr>\n",
       "      <th id=\"T_4091c_level0_row16\" class=\"row_heading level0 row16\" >16</th>\n",
       "      <td id=\"T_4091c_row16_col0\" class=\"data row16 col0\" >Use GPU</td>\n",
       "      <td id=\"T_4091c_row16_col1\" class=\"data row16 col1\" >False</td>\n",
       "    </tr>\n",
       "    <tr>\n",
       "      <th id=\"T_4091c_level0_row17\" class=\"row_heading level0 row17\" >17</th>\n",
       "      <td id=\"T_4091c_row17_col0\" class=\"data row17 col0\" >Log Experiment</td>\n",
       "      <td id=\"T_4091c_row17_col1\" class=\"data row17 col1\" >False</td>\n",
       "    </tr>\n",
       "    <tr>\n",
       "      <th id=\"T_4091c_level0_row18\" class=\"row_heading level0 row18\" >18</th>\n",
       "      <td id=\"T_4091c_row18_col0\" class=\"data row18 col0\" >Experiment Name</td>\n",
       "      <td id=\"T_4091c_row18_col1\" class=\"data row18 col1\" >clf-default-name</td>\n",
       "    </tr>\n",
       "    <tr>\n",
       "      <th id=\"T_4091c_level0_row19\" class=\"row_heading level0 row19\" >19</th>\n",
       "      <td id=\"T_4091c_row19_col0\" class=\"data row19 col0\" >USI</td>\n",
       "      <td id=\"T_4091c_row19_col1\" class=\"data row19 col1\" >e28d</td>\n",
       "    </tr>\n",
       "  </tbody>\n",
       "</table>\n"
      ],
      "text/plain": [
       "<pandas.io.formats.style.Styler at 0x21ed164bbb0>"
      ]
     },
     "metadata": {},
     "output_type": "display_data"
    }
   ],
   "source": [
    "# Using Imbalance Data\n",
    "from pycaret.classification import *\n",
    "s1= setup(df,target='Pl')"
   ]
  },
  {
   "cell_type": "code",
   "execution_count": 113,
   "metadata": {},
   "outputs": [
    {
     "data": {
      "text/html": [],
      "text/plain": [
       "<IPython.core.display.HTML object>"
      ]
     },
     "metadata": {},
     "output_type": "display_data"
    },
    {
     "data": {
      "text/html": [
       "<style type=\"text/css\">\n",
       "#T_d0429 th {\n",
       "  text-align: left;\n",
       "}\n",
       "#T_d0429_row0_col0, #T_d0429_row0_col3, #T_d0429_row0_col4, #T_d0429_row0_col6, #T_d0429_row1_col0, #T_d0429_row1_col1, #T_d0429_row1_col2, #T_d0429_row1_col3, #T_d0429_row1_col4, #T_d0429_row1_col5, #T_d0429_row1_col7, #T_d0429_row2_col0, #T_d0429_row2_col1, #T_d0429_row2_col2, #T_d0429_row2_col3, #T_d0429_row2_col4, #T_d0429_row2_col5, #T_d0429_row2_col6, #T_d0429_row2_col7, #T_d0429_row3_col0, #T_d0429_row3_col1, #T_d0429_row3_col2, #T_d0429_row3_col3, #T_d0429_row3_col4, #T_d0429_row3_col5, #T_d0429_row3_col6, #T_d0429_row3_col7, #T_d0429_row4_col0, #T_d0429_row4_col1, #T_d0429_row4_col2, #T_d0429_row4_col3, #T_d0429_row4_col4, #T_d0429_row4_col5, #T_d0429_row4_col6, #T_d0429_row4_col7, #T_d0429_row5_col0, #T_d0429_row5_col1, #T_d0429_row5_col2, #T_d0429_row5_col3, #T_d0429_row5_col4, #T_d0429_row5_col5, #T_d0429_row5_col6, #T_d0429_row5_col7, #T_d0429_row6_col0, #T_d0429_row6_col1, #T_d0429_row6_col2, #T_d0429_row6_col3, #T_d0429_row6_col4, #T_d0429_row6_col5, #T_d0429_row6_col6, #T_d0429_row6_col7, #T_d0429_row7_col0, #T_d0429_row7_col1, #T_d0429_row7_col2, #T_d0429_row7_col3, #T_d0429_row7_col4, #T_d0429_row7_col5, #T_d0429_row7_col6, #T_d0429_row7_col7, #T_d0429_row8_col0, #T_d0429_row8_col1, #T_d0429_row8_col2, #T_d0429_row8_col3, #T_d0429_row8_col4, #T_d0429_row8_col5, #T_d0429_row8_col6, #T_d0429_row8_col7, #T_d0429_row9_col0, #T_d0429_row9_col1, #T_d0429_row9_col2, #T_d0429_row9_col3, #T_d0429_row9_col4, #T_d0429_row9_col5, #T_d0429_row9_col6, #T_d0429_row9_col7, #T_d0429_row10_col0, #T_d0429_row10_col1, #T_d0429_row10_col2, #T_d0429_row10_col4, #T_d0429_row10_col5, #T_d0429_row10_col6, #T_d0429_row10_col7, #T_d0429_row11_col0, #T_d0429_row11_col1, #T_d0429_row11_col2, #T_d0429_row11_col3, #T_d0429_row11_col4, #T_d0429_row11_col5, #T_d0429_row11_col6, #T_d0429_row11_col7, #T_d0429_row12_col0, #T_d0429_row12_col1, #T_d0429_row12_col2, #T_d0429_row12_col3, #T_d0429_row12_col4, #T_d0429_row12_col5, #T_d0429_row12_col6, #T_d0429_row12_col7, #T_d0429_row13_col0, #T_d0429_row13_col1, #T_d0429_row13_col2, #T_d0429_row13_col3, #T_d0429_row13_col5, #T_d0429_row13_col6, #T_d0429_row13_col7, #T_d0429_row14_col0, #T_d0429_row14_col1, #T_d0429_row14_col2, #T_d0429_row14_col3, #T_d0429_row14_col4, #T_d0429_row14_col5, #T_d0429_row14_col6, #T_d0429_row14_col7 {\n",
       "  text-align: left;\n",
       "}\n",
       "#T_d0429_row0_col1, #T_d0429_row0_col2, #T_d0429_row0_col5, #T_d0429_row0_col7, #T_d0429_row1_col6, #T_d0429_row10_col3, #T_d0429_row13_col4 {\n",
       "  text-align: left;\n",
       "  background-color: yellow;\n",
       "}\n",
       "#T_d0429_row0_col8, #T_d0429_row1_col8, #T_d0429_row2_col8, #T_d0429_row3_col8, #T_d0429_row4_col8, #T_d0429_row5_col8, #T_d0429_row6_col8, #T_d0429_row7_col8, #T_d0429_row8_col8, #T_d0429_row9_col8, #T_d0429_row11_col8, #T_d0429_row12_col8, #T_d0429_row13_col8, #T_d0429_row14_col8 {\n",
       "  text-align: left;\n",
       "  background-color: lightgrey;\n",
       "}\n",
       "#T_d0429_row10_col8 {\n",
       "  text-align: left;\n",
       "  background-color: yellow;\n",
       "  background-color: lightgrey;\n",
       "}\n",
       "</style>\n",
       "<table id=\"T_d0429\">\n",
       "  <thead>\n",
       "    <tr>\n",
       "      <th class=\"blank level0\" >&nbsp;</th>\n",
       "      <th id=\"T_d0429_level0_col0\" class=\"col_heading level0 col0\" >Model</th>\n",
       "      <th id=\"T_d0429_level0_col1\" class=\"col_heading level0 col1\" >Accuracy</th>\n",
       "      <th id=\"T_d0429_level0_col2\" class=\"col_heading level0 col2\" >AUC</th>\n",
       "      <th id=\"T_d0429_level0_col3\" class=\"col_heading level0 col3\" >Recall</th>\n",
       "      <th id=\"T_d0429_level0_col4\" class=\"col_heading level0 col4\" >Prec.</th>\n",
       "      <th id=\"T_d0429_level0_col5\" class=\"col_heading level0 col5\" >F1</th>\n",
       "      <th id=\"T_d0429_level0_col6\" class=\"col_heading level0 col6\" >Kappa</th>\n",
       "      <th id=\"T_d0429_level0_col7\" class=\"col_heading level0 col7\" >MCC</th>\n",
       "      <th id=\"T_d0429_level0_col8\" class=\"col_heading level0 col8\" >TT (Sec)</th>\n",
       "    </tr>\n",
       "  </thead>\n",
       "  <tbody>\n",
       "    <tr>\n",
       "      <th id=\"T_d0429_level0_row0\" class=\"row_heading level0 row0\" >lightgbm</th>\n",
       "      <td id=\"T_d0429_row0_col0\" class=\"data row0 col0\" >Light Gradient Boosting Machine</td>\n",
       "      <td id=\"T_d0429_row0_col1\" class=\"data row0 col1\" >0.7772</td>\n",
       "      <td id=\"T_d0429_row0_col2\" class=\"data row0 col2\" >0.8054</td>\n",
       "      <td id=\"T_d0429_row0_col3\" class=\"data row0 col3\" >0.9124</td>\n",
       "      <td id=\"T_d0429_row0_col4\" class=\"data row0 col4\" >0.8092</td>\n",
       "      <td id=\"T_d0429_row0_col5\" class=\"data row0 col5\" >0.8577</td>\n",
       "      <td id=\"T_d0429_row0_col6\" class=\"data row0 col6\" >0.3530</td>\n",
       "      <td id=\"T_d0429_row0_col7\" class=\"data row0 col7\" >0.3669</td>\n",
       "      <td id=\"T_d0429_row0_col8\" class=\"data row0 col8\" >0.2900</td>\n",
       "    </tr>\n",
       "    <tr>\n",
       "      <th id=\"T_d0429_level0_row1\" class=\"row_heading level0 row1\" >xgboost</th>\n",
       "      <td id=\"T_d0429_row1_col0\" class=\"data row1 col0\" >Extreme Gradient Boosting</td>\n",
       "      <td id=\"T_d0429_row1_col1\" class=\"data row1 col1\" >0.7735</td>\n",
       "      <td id=\"T_d0429_row1_col2\" class=\"data row1 col2\" >0.7993</td>\n",
       "      <td id=\"T_d0429_row1_col3\" class=\"data row1 col3\" >0.8994</td>\n",
       "      <td id=\"T_d0429_row1_col4\" class=\"data row1 col4\" >0.8127</td>\n",
       "      <td id=\"T_d0429_row1_col5\" class=\"data row1 col5\" >0.8539</td>\n",
       "      <td id=\"T_d0429_row1_col6\" class=\"data row1 col6\" >0.3557</td>\n",
       "      <td id=\"T_d0429_row1_col7\" class=\"data row1 col7\" >0.3649</td>\n",
       "      <td id=\"T_d0429_row1_col8\" class=\"data row1 col8\" >1.5800</td>\n",
       "    </tr>\n",
       "    <tr>\n",
       "      <th id=\"T_d0429_level0_row2\" class=\"row_heading level0 row2\" >gbc</th>\n",
       "      <td id=\"T_d0429_row2_col0\" class=\"data row2 col0\" >Gradient Boosting Classifier</td>\n",
       "      <td id=\"T_d0429_row2_col1\" class=\"data row2 col1\" >0.7707</td>\n",
       "      <td id=\"T_d0429_row2_col2\" class=\"data row2 col2\" >0.7983</td>\n",
       "      <td id=\"T_d0429_row2_col3\" class=\"data row2 col3\" >0.9293</td>\n",
       "      <td id=\"T_d0429_row2_col4\" class=\"data row2 col4\" >0.7942</td>\n",
       "      <td id=\"T_d0429_row2_col5\" class=\"data row2 col5\" >0.8564</td>\n",
       "      <td id=\"T_d0429_row2_col6\" class=\"data row2 col6\" >0.3041</td>\n",
       "      <td id=\"T_d0429_row2_col7\" class=\"data row2 col7\" >0.3287</td>\n",
       "      <td id=\"T_d0429_row2_col8\" class=\"data row2 col8\" >4.1300</td>\n",
       "    </tr>\n",
       "    <tr>\n",
       "      <th id=\"T_d0429_level0_row3\" class=\"row_heading level0 row3\" >et</th>\n",
       "      <td id=\"T_d0429_row3_col0\" class=\"data row3 col0\" >Extra Trees Classifier</td>\n",
       "      <td id=\"T_d0429_row3_col1\" class=\"data row3 col1\" >0.7649</td>\n",
       "      <td id=\"T_d0429_row3_col2\" class=\"data row3 col2\" >0.7691</td>\n",
       "      <td id=\"T_d0429_row3_col3\" class=\"data row3 col3\" >0.9134</td>\n",
       "      <td id=\"T_d0429_row3_col4\" class=\"data row3 col4\" >0.7969</td>\n",
       "      <td id=\"T_d0429_row3_col5\" class=\"data row3 col5\" >0.8512</td>\n",
       "      <td id=\"T_d0429_row3_col6\" class=\"data row3 col6\" >0.3041</td>\n",
       "      <td id=\"T_d0429_row3_col7\" class=\"data row3 col7\" >0.3209</td>\n",
       "      <td id=\"T_d0429_row3_col8\" class=\"data row3 col8\" >1.4200</td>\n",
       "    </tr>\n",
       "    <tr>\n",
       "      <th id=\"T_d0429_level0_row4\" class=\"row_heading level0 row4\" >rf</th>\n",
       "      <td id=\"T_d0429_row4_col0\" class=\"data row4 col0\" >Random Forest Classifier</td>\n",
       "      <td id=\"T_d0429_row4_col1\" class=\"data row4 col1\" >0.7632</td>\n",
       "      <td id=\"T_d0429_row4_col2\" class=\"data row4 col2\" >0.7808</td>\n",
       "      <td id=\"T_d0429_row4_col3\" class=\"data row4 col3\" >0.9034</td>\n",
       "      <td id=\"T_d0429_row4_col4\" class=\"data row4 col4\" >0.8004</td>\n",
       "      <td id=\"T_d0429_row4_col5\" class=\"data row4 col5\" >0.8488</td>\n",
       "      <td id=\"T_d0429_row4_col6\" class=\"data row4 col6\" >0.3114</td>\n",
       "      <td id=\"T_d0429_row4_col7\" class=\"data row4 col7\" >0.3239</td>\n",
       "      <td id=\"T_d0429_row4_col8\" class=\"data row4 col8\" >1.9800</td>\n",
       "    </tr>\n",
       "    <tr>\n",
       "      <th id=\"T_d0429_level0_row5\" class=\"row_heading level0 row5\" >ada</th>\n",
       "      <td id=\"T_d0429_row5_col0\" class=\"data row5 col0\" >Ada Boost Classifier</td>\n",
       "      <td id=\"T_d0429_row5_col1\" class=\"data row5 col1\" >0.7626</td>\n",
       "      <td id=\"T_d0429_row5_col2\" class=\"data row5 col2\" >0.7825</td>\n",
       "      <td id=\"T_d0429_row5_col3\" class=\"data row5 col3\" >0.9225</td>\n",
       "      <td id=\"T_d0429_row5_col4\" class=\"data row5 col4\" >0.7901</td>\n",
       "      <td id=\"T_d0429_row5_col5\" class=\"data row5 col5\" >0.8512</td>\n",
       "      <td id=\"T_d0429_row5_col6\" class=\"data row5 col6\" >0.2815</td>\n",
       "      <td id=\"T_d0429_row5_col7\" class=\"data row5 col7\" >0.3034</td>\n",
       "      <td id=\"T_d0429_row5_col8\" class=\"data row5 col8\" >1.3400</td>\n",
       "    </tr>\n",
       "    <tr>\n",
       "      <th id=\"T_d0429_level0_row6\" class=\"row_heading level0 row6\" >lr</th>\n",
       "      <td id=\"T_d0429_row6_col0\" class=\"data row6 col0\" >Logistic Regression</td>\n",
       "      <td id=\"T_d0429_row6_col1\" class=\"data row6 col1\" >0.7576</td>\n",
       "      <td id=\"T_d0429_row6_col2\" class=\"data row6 col2\" >0.7671</td>\n",
       "      <td id=\"T_d0429_row6_col3\" class=\"data row6 col3\" >0.9153</td>\n",
       "      <td id=\"T_d0429_row6_col4\" class=\"data row6 col4\" >0.7891</td>\n",
       "      <td id=\"T_d0429_row6_col5\" class=\"data row6 col5\" >0.8475</td>\n",
       "      <td id=\"T_d0429_row6_col6\" class=\"data row6 col6\" >0.2723</td>\n",
       "      <td id=\"T_d0429_row6_col7\" class=\"data row6 col7\" >0.2911</td>\n",
       "      <td id=\"T_d0429_row6_col8\" class=\"data row6 col8\" >0.2900</td>\n",
       "    </tr>\n",
       "    <tr>\n",
       "      <th id=\"T_d0429_level0_row7\" class=\"row_heading level0 row7\" >knn</th>\n",
       "      <td id=\"T_d0429_row7_col0\" class=\"data row7 col0\" >K Neighbors Classifier</td>\n",
       "      <td id=\"T_d0429_row7_col1\" class=\"data row7 col1\" >0.7517</td>\n",
       "      <td id=\"T_d0429_row7_col2\" class=\"data row7 col2\" >0.7326</td>\n",
       "      <td id=\"T_d0429_row7_col3\" class=\"data row7 col3\" >0.8733</td>\n",
       "      <td id=\"T_d0429_row7_col4\" class=\"data row7 col4\" >0.8056</td>\n",
       "      <td id=\"T_d0429_row7_col5\" class=\"data row7 col5\" >0.8381</td>\n",
       "      <td id=\"T_d0429_row7_col6\" class=\"data row7 col6\" >0.3091</td>\n",
       "      <td id=\"T_d0429_row7_col7\" class=\"data row7 col7\" >0.3138</td>\n",
       "      <td id=\"T_d0429_row7_col8\" class=\"data row7 col8\" >0.2300</td>\n",
       "    </tr>\n",
       "    <tr>\n",
       "      <th id=\"T_d0429_level0_row8\" class=\"row_heading level0 row8\" >lda</th>\n",
       "      <td id=\"T_d0429_row8_col0\" class=\"data row8 col0\" >Linear Discriminant Analysis</td>\n",
       "      <td id=\"T_d0429_row8_col1\" class=\"data row8 col1\" >0.7514</td>\n",
       "      <td id=\"T_d0429_row8_col2\" class=\"data row8 col2\" >0.7704</td>\n",
       "      <td id=\"T_d0429_row8_col3\" class=\"data row8 col3\" >0.9657</td>\n",
       "      <td id=\"T_d0429_row8_col4\" class=\"data row8 col4\" >0.7609</td>\n",
       "      <td id=\"T_d0429_row8_col5\" class=\"data row8 col5\" >0.8511</td>\n",
       "      <td id=\"T_d0429_row8_col6\" class=\"data row8 col6\" >0.1576</td>\n",
       "      <td id=\"T_d0429_row8_col7\" class=\"data row8 col7\" >0.2126</td>\n",
       "      <td id=\"T_d0429_row8_col8\" class=\"data row8 col8\" >0.0900</td>\n",
       "    </tr>\n",
       "    <tr>\n",
       "      <th id=\"T_d0429_level0_row9\" class=\"row_heading level0 row9\" >ridge</th>\n",
       "      <td id=\"T_d0429_row9_col0\" class=\"data row9 col0\" >Ridge Classifier</td>\n",
       "      <td id=\"T_d0429_row9_col1\" class=\"data row9 col1\" >0.7436</td>\n",
       "      <td id=\"T_d0429_row9_col2\" class=\"data row9 col2\" >0.5252</td>\n",
       "      <td id=\"T_d0429_row9_col3\" class=\"data row9 col3\" >0.9880</td>\n",
       "      <td id=\"T_d0429_row9_col4\" class=\"data row9 col4\" >0.7461</td>\n",
       "      <td id=\"T_d0429_row9_col5\" class=\"data row9 col5\" >0.8501</td>\n",
       "      <td id=\"T_d0429_row9_col6\" class=\"data row9 col6\" >0.0711</td>\n",
       "      <td id=\"T_d0429_row9_col7\" class=\"data row9 col7\" >0.1416</td>\n",
       "      <td id=\"T_d0429_row9_col8\" class=\"data row9 col8\" >0.0600</td>\n",
       "    </tr>\n",
       "    <tr>\n",
       "      <th id=\"T_d0429_level0_row10\" class=\"row_heading level0 row10\" >dummy</th>\n",
       "      <td id=\"T_d0429_row10_col0\" class=\"data row10 col0\" >Dummy Classifier</td>\n",
       "      <td id=\"T_d0429_row10_col1\" class=\"data row10 col1\" >0.7360</td>\n",
       "      <td id=\"T_d0429_row10_col2\" class=\"data row10 col2\" >0.5000</td>\n",
       "      <td id=\"T_d0429_row10_col3\" class=\"data row10 col3\" >1.0000</td>\n",
       "      <td id=\"T_d0429_row10_col4\" class=\"data row10 col4\" >0.7360</td>\n",
       "      <td id=\"T_d0429_row10_col5\" class=\"data row10 col5\" >0.8479</td>\n",
       "      <td id=\"T_d0429_row10_col6\" class=\"data row10 col6\" >0.0000</td>\n",
       "      <td id=\"T_d0429_row10_col7\" class=\"data row10 col7\" >0.0000</td>\n",
       "      <td id=\"T_d0429_row10_col8\" class=\"data row10 col8\" >0.0400</td>\n",
       "    </tr>\n",
       "    <tr>\n",
       "      <th id=\"T_d0429_level0_row11\" class=\"row_heading level0 row11\" >svm</th>\n",
       "      <td id=\"T_d0429_row11_col0\" class=\"data row11 col0\" >SVM - Linear Kernel</td>\n",
       "      <td id=\"T_d0429_row11_col1\" class=\"data row11 col1\" >0.7359</td>\n",
       "      <td id=\"T_d0429_row11_col2\" class=\"data row11 col2\" >0.4999</td>\n",
       "      <td id=\"T_d0429_row11_col3\" class=\"data row11 col3\" >0.9999</td>\n",
       "      <td id=\"T_d0429_row11_col4\" class=\"data row11 col4\" >0.7360</td>\n",
       "      <td id=\"T_d0429_row11_col5\" class=\"data row11 col5\" >0.8479</td>\n",
       "      <td id=\"T_d0429_row11_col6\" class=\"data row11 col6\" >-0.0001</td>\n",
       "      <td id=\"T_d0429_row11_col7\" class=\"data row11 col7\" >-0.0051</td>\n",
       "      <td id=\"T_d0429_row11_col8\" class=\"data row11 col8\" >0.8900</td>\n",
       "    </tr>\n",
       "    <tr>\n",
       "      <th id=\"T_d0429_level0_row12\" class=\"row_heading level0 row12\" >qda</th>\n",
       "      <td id=\"T_d0429_row12_col0\" class=\"data row12 col0\" >Quadratic Discriminant Analysis</td>\n",
       "      <td id=\"T_d0429_row12_col1\" class=\"data row12 col1\" >0.7344</td>\n",
       "      <td id=\"T_d0429_row12_col2\" class=\"data row12 col2\" >0.7560</td>\n",
       "      <td id=\"T_d0429_row12_col3\" class=\"data row12 col3\" >0.9274</td>\n",
       "      <td id=\"T_d0429_row12_col4\" class=\"data row12 col4\" >0.7629</td>\n",
       "      <td id=\"T_d0429_row12_col5\" class=\"data row12 col5\" >0.8371</td>\n",
       "      <td id=\"T_d0429_row12_col6\" class=\"data row12 col6\" >0.1536</td>\n",
       "      <td id=\"T_d0429_row12_col7\" class=\"data row12 col7\" >0.1780</td>\n",
       "      <td id=\"T_d0429_row12_col8\" class=\"data row12 col8\" >0.0600</td>\n",
       "    </tr>\n",
       "    <tr>\n",
       "      <th id=\"T_d0429_level0_row13\" class=\"row_heading level0 row13\" >nb</th>\n",
       "      <td id=\"T_d0429_row13_col0\" class=\"data row13 col0\" >Naive Bayes</td>\n",
       "      <td id=\"T_d0429_row13_col1\" class=\"data row13 col1\" >0.7151</td>\n",
       "      <td id=\"T_d0429_row13_col2\" class=\"data row13 col2\" >0.7284</td>\n",
       "      <td id=\"T_d0429_row13_col3\" class=\"data row13 col3\" >0.7848</td>\n",
       "      <td id=\"T_d0429_row13_col4\" class=\"data row13 col4\" >0.8203</td>\n",
       "      <td id=\"T_d0429_row13_col5\" class=\"data row13 col5\" >0.8021</td>\n",
       "      <td id=\"T_d0429_row13_col6\" class=\"data row13 col6\" >0.2942</td>\n",
       "      <td id=\"T_d0429_row13_col7\" class=\"data row13 col7\" >0.2951</td>\n",
       "      <td id=\"T_d0429_row13_col8\" class=\"data row13 col8\" >0.0600</td>\n",
       "    </tr>\n",
       "    <tr>\n",
       "      <th id=\"T_d0429_level0_row14\" class=\"row_heading level0 row14\" >dt</th>\n",
       "      <td id=\"T_d0429_row14_col0\" class=\"data row14 col0\" >Decision Tree Classifier</td>\n",
       "      <td id=\"T_d0429_row14_col1\" class=\"data row14 col1\" >0.6932</td>\n",
       "      <td id=\"T_d0429_row14_col2\" class=\"data row14 col2\" >0.6135</td>\n",
       "      <td id=\"T_d0429_row14_col3\" class=\"data row14 col3\" >0.7829</td>\n",
       "      <td id=\"T_d0429_row14_col4\" class=\"data row14 col4\" >0.7967</td>\n",
       "      <td id=\"T_d0429_row14_col5\" class=\"data row14 col5\" >0.7897</td>\n",
       "      <td id=\"T_d0429_row14_col6\" class=\"data row14 col6\" >0.2226</td>\n",
       "      <td id=\"T_d0429_row14_col7\" class=\"data row14 col7\" >0.2228</td>\n",
       "      <td id=\"T_d0429_row14_col8\" class=\"data row14 col8\" >0.2500</td>\n",
       "    </tr>\n",
       "  </tbody>\n",
       "</table>\n"
      ],
      "text/plain": [
       "<pandas.io.formats.style.Styler at 0x21e56ebdfc0>"
      ]
     },
     "metadata": {},
     "output_type": "display_data"
    },
    {
     "data": {
      "text/html": [],
      "text/plain": [
       "<IPython.core.display.HTML object>"
      ]
     },
     "metadata": {},
     "output_type": "display_data"
    }
   ],
   "source": [
    "# Compare models using imbalance data\n",
    "best1 =compare_models(cross_validation=False)"
   ]
  },
  {
   "cell_type": "code",
   "execution_count": 114,
   "metadata": {},
   "outputs": [
    {
     "name": "stdout",
     "output_type": "stream",
     "text": [
      "LGBMClassifier(boosting_type='gbdt', class_weight=None, colsample_bytree=1.0,\n",
      "               importance_type='split', learning_rate=0.1, max_depth=-1,\n",
      "               min_child_samples=20, min_child_weight=0.001, min_split_gain=0.0,\n",
      "               n_estimators=100, n_jobs=-1, num_leaves=31, objective=None,\n",
      "               random_state=2979, reg_alpha=0.0, reg_lambda=0.0, silent='warn',\n",
      "               subsample=1.0, subsample_for_bin=200000, subsample_freq=0)\n"
     ]
    }
   ],
   "source": [
    "print(best1)"
   ]
  },
  {
   "cell_type": "markdown",
   "metadata": {},
   "source": [
    "Top 5 Model using imbalance data measured by accuracy<br>\n",
    "1. Light Gradient Boosting - 78.28%<br>\n",
    "2. Extreme Gradient Boosting - 77.87%<br>\n",
    "3. Gradient Boosting Classifier - 77.45%<br>\n",
    "4. Ada Boost Classifier - 76.91%<br>\n",
    "5. Random Forest Classifier - 76.74%\n"
   ]
  },
  {
   "cell_type": "code",
   "execution_count": 115,
   "metadata": {},
   "outputs": [
    {
     "data": {
      "text/html": [
       "<style type=\"text/css\">\n",
       "#T_44e61_row8_col1, #T_44e61_row13_col1 {\n",
       "  background-color: lightgreen;\n",
       "}\n",
       "</style>\n",
       "<table id=\"T_44e61\">\n",
       "  <thead>\n",
       "    <tr>\n",
       "      <th class=\"blank level0\" >&nbsp;</th>\n",
       "      <th id=\"T_44e61_level0_col0\" class=\"col_heading level0 col0\" >Description</th>\n",
       "      <th id=\"T_44e61_level0_col1\" class=\"col_heading level0 col1\" >Value</th>\n",
       "    </tr>\n",
       "  </thead>\n",
       "  <tbody>\n",
       "    <tr>\n",
       "      <th id=\"T_44e61_level0_row0\" class=\"row_heading level0 row0\" >0</th>\n",
       "      <td id=\"T_44e61_row0_col0\" class=\"data row0 col0\" >Session id</td>\n",
       "      <td id=\"T_44e61_row0_col1\" class=\"data row0 col1\" >5248</td>\n",
       "    </tr>\n",
       "    <tr>\n",
       "      <th id=\"T_44e61_level0_row1\" class=\"row_heading level0 row1\" >1</th>\n",
       "      <td id=\"T_44e61_row1_col0\" class=\"data row1 col0\" >Target</td>\n",
       "      <td id=\"T_44e61_row1_col1\" class=\"data row1 col1\" >Pl</td>\n",
       "    </tr>\n",
       "    <tr>\n",
       "      <th id=\"T_44e61_level0_row2\" class=\"row_heading level0 row2\" >2</th>\n",
       "      <td id=\"T_44e61_row2_col0\" class=\"data row2 col0\" >Target type</td>\n",
       "      <td id=\"T_44e61_row2_col1\" class=\"data row2 col1\" >Binary</td>\n",
       "    </tr>\n",
       "    <tr>\n",
       "      <th id=\"T_44e61_level0_row3\" class=\"row_heading level0 row3\" >3</th>\n",
       "      <td id=\"T_44e61_row3_col0\" class=\"data row3 col0\" >Original data shape</td>\n",
       "      <td id=\"T_44e61_row3_col1\" class=\"data row3 col1\" >(45261, 9)</td>\n",
       "    </tr>\n",
       "    <tr>\n",
       "      <th id=\"T_44e61_level0_row4\" class=\"row_heading level0 row4\" >4</th>\n",
       "      <td id=\"T_44e61_row4_col0\" class=\"data row4 col0\" >Transformed data shape</td>\n",
       "      <td id=\"T_44e61_row4_col1\" class=\"data row4 col1\" >(60213, 9)</td>\n",
       "    </tr>\n",
       "    <tr>\n",
       "      <th id=\"T_44e61_level0_row5\" class=\"row_heading level0 row5\" >5</th>\n",
       "      <td id=\"T_44e61_row5_col0\" class=\"data row5 col0\" >Transformed train set shape</td>\n",
       "      <td id=\"T_44e61_row5_col1\" class=\"data row5 col1\" >(46634, 9)</td>\n",
       "    </tr>\n",
       "    <tr>\n",
       "      <th id=\"T_44e61_level0_row6\" class=\"row_heading level0 row6\" >6</th>\n",
       "      <td id=\"T_44e61_row6_col0\" class=\"data row6 col0\" >Transformed test set shape</td>\n",
       "      <td id=\"T_44e61_row6_col1\" class=\"data row6 col1\" >(13579, 9)</td>\n",
       "    </tr>\n",
       "    <tr>\n",
       "      <th id=\"T_44e61_level0_row7\" class=\"row_heading level0 row7\" >7</th>\n",
       "      <td id=\"T_44e61_row7_col0\" class=\"data row7 col0\" >Numeric features</td>\n",
       "      <td id=\"T_44e61_row7_col1\" class=\"data row7 col1\" >8</td>\n",
       "    </tr>\n",
       "    <tr>\n",
       "      <th id=\"T_44e61_level0_row8\" class=\"row_heading level0 row8\" >8</th>\n",
       "      <td id=\"T_44e61_row8_col0\" class=\"data row8 col0\" >Preprocess</td>\n",
       "      <td id=\"T_44e61_row8_col1\" class=\"data row8 col1\" >True</td>\n",
       "    </tr>\n",
       "    <tr>\n",
       "      <th id=\"T_44e61_level0_row9\" class=\"row_heading level0 row9\" >9</th>\n",
       "      <td id=\"T_44e61_row9_col0\" class=\"data row9 col0\" >Imputation type</td>\n",
       "      <td id=\"T_44e61_row9_col1\" class=\"data row9 col1\" >simple</td>\n",
       "    </tr>\n",
       "    <tr>\n",
       "      <th id=\"T_44e61_level0_row10\" class=\"row_heading level0 row10\" >10</th>\n",
       "      <td id=\"T_44e61_row10_col0\" class=\"data row10 col0\" >Numeric imputation</td>\n",
       "      <td id=\"T_44e61_row10_col1\" class=\"data row10 col1\" >mean</td>\n",
       "    </tr>\n",
       "    <tr>\n",
       "      <th id=\"T_44e61_level0_row11\" class=\"row_heading level0 row11\" >11</th>\n",
       "      <td id=\"T_44e61_row11_col0\" class=\"data row11 col0\" >Categorical imputation</td>\n",
       "      <td id=\"T_44e61_row11_col1\" class=\"data row11 col1\" >constant</td>\n",
       "    </tr>\n",
       "    <tr>\n",
       "      <th id=\"T_44e61_level0_row12\" class=\"row_heading level0 row12\" >12</th>\n",
       "      <td id=\"T_44e61_row12_col0\" class=\"data row12 col0\" >Low variance threshold</td>\n",
       "      <td id=\"T_44e61_row12_col1\" class=\"data row12 col1\" >0</td>\n",
       "    </tr>\n",
       "    <tr>\n",
       "      <th id=\"T_44e61_level0_row13\" class=\"row_heading level0 row13\" >13</th>\n",
       "      <td id=\"T_44e61_row13_col0\" class=\"data row13 col0\" >Fix imbalance</td>\n",
       "      <td id=\"T_44e61_row13_col1\" class=\"data row13 col1\" >True</td>\n",
       "    </tr>\n",
       "    <tr>\n",
       "      <th id=\"T_44e61_level0_row14\" class=\"row_heading level0 row14\" >14</th>\n",
       "      <td id=\"T_44e61_row14_col0\" class=\"data row14 col0\" >Fix imbalance method</td>\n",
       "      <td id=\"T_44e61_row14_col1\" class=\"data row14 col1\" >SMOTE</td>\n",
       "    </tr>\n",
       "    <tr>\n",
       "      <th id=\"T_44e61_level0_row15\" class=\"row_heading level0 row15\" >15</th>\n",
       "      <td id=\"T_44e61_row15_col0\" class=\"data row15 col0\" >Fold Generator</td>\n",
       "      <td id=\"T_44e61_row15_col1\" class=\"data row15 col1\" >StratifiedKFold</td>\n",
       "    </tr>\n",
       "    <tr>\n",
       "      <th id=\"T_44e61_level0_row16\" class=\"row_heading level0 row16\" >16</th>\n",
       "      <td id=\"T_44e61_row16_col0\" class=\"data row16 col0\" >Fold Number</td>\n",
       "      <td id=\"T_44e61_row16_col1\" class=\"data row16 col1\" >10</td>\n",
       "    </tr>\n",
       "    <tr>\n",
       "      <th id=\"T_44e61_level0_row17\" class=\"row_heading level0 row17\" >17</th>\n",
       "      <td id=\"T_44e61_row17_col0\" class=\"data row17 col0\" >CPU Jobs</td>\n",
       "      <td id=\"T_44e61_row17_col1\" class=\"data row17 col1\" >-1</td>\n",
       "    </tr>\n",
       "    <tr>\n",
       "      <th id=\"T_44e61_level0_row18\" class=\"row_heading level0 row18\" >18</th>\n",
       "      <td id=\"T_44e61_row18_col0\" class=\"data row18 col0\" >Use GPU</td>\n",
       "      <td id=\"T_44e61_row18_col1\" class=\"data row18 col1\" >False</td>\n",
       "    </tr>\n",
       "    <tr>\n",
       "      <th id=\"T_44e61_level0_row19\" class=\"row_heading level0 row19\" >19</th>\n",
       "      <td id=\"T_44e61_row19_col0\" class=\"data row19 col0\" >Log Experiment</td>\n",
       "      <td id=\"T_44e61_row19_col1\" class=\"data row19 col1\" >False</td>\n",
       "    </tr>\n",
       "    <tr>\n",
       "      <th id=\"T_44e61_level0_row20\" class=\"row_heading level0 row20\" >20</th>\n",
       "      <td id=\"T_44e61_row20_col0\" class=\"data row20 col0\" >Experiment Name</td>\n",
       "      <td id=\"T_44e61_row20_col1\" class=\"data row20 col1\" >clf-default-name</td>\n",
       "    </tr>\n",
       "    <tr>\n",
       "      <th id=\"T_44e61_level0_row21\" class=\"row_heading level0 row21\" >21</th>\n",
       "      <td id=\"T_44e61_row21_col0\" class=\"data row21 col0\" >USI</td>\n",
       "      <td id=\"T_44e61_row21_col1\" class=\"data row21 col1\" >dd5c</td>\n",
       "    </tr>\n",
       "  </tbody>\n",
       "</table>\n"
      ],
      "text/plain": [
       "<pandas.io.formats.style.Styler at 0x21ed39c6fb0>"
      ]
     },
     "metadata": {},
     "output_type": "display_data"
    }
   ],
   "source": [
    "# Using SMOTE method to fix imbalance data\n",
    "from pycaret.classification import *\n",
    "s2= setup (df,target='Pl',fix_imbalance=True )"
   ]
  },
  {
   "cell_type": "code",
   "execution_count": 116,
   "metadata": {},
   "outputs": [
    {
     "data": {
      "text/html": [],
      "text/plain": [
       "<IPython.core.display.HTML object>"
      ]
     },
     "metadata": {},
     "output_type": "display_data"
    },
    {
     "data": {
      "text/html": [
       "<style type=\"text/css\">\n",
       "#T_b0c46 th {\n",
       "  text-align: left;\n",
       "}\n",
       "#T_b0c46_row0_col0, #T_b0c46_row0_col2, #T_b0c46_row0_col4, #T_b0c46_row0_col6, #T_b0c46_row0_col7, #T_b0c46_row1_col0, #T_b0c46_row1_col1, #T_b0c46_row1_col3, #T_b0c46_row1_col4, #T_b0c46_row1_col5, #T_b0c46_row2_col0, #T_b0c46_row2_col1, #T_b0c46_row2_col2, #T_b0c46_row2_col3, #T_b0c46_row2_col4, #T_b0c46_row2_col5, #T_b0c46_row2_col6, #T_b0c46_row2_col7, #T_b0c46_row3_col0, #T_b0c46_row3_col1, #T_b0c46_row3_col2, #T_b0c46_row3_col3, #T_b0c46_row3_col4, #T_b0c46_row3_col5, #T_b0c46_row3_col6, #T_b0c46_row3_col7, #T_b0c46_row4_col0, #T_b0c46_row4_col1, #T_b0c46_row4_col2, #T_b0c46_row4_col3, #T_b0c46_row4_col4, #T_b0c46_row4_col5, #T_b0c46_row4_col6, #T_b0c46_row4_col7, #T_b0c46_row5_col0, #T_b0c46_row5_col1, #T_b0c46_row5_col2, #T_b0c46_row5_col3, #T_b0c46_row5_col4, #T_b0c46_row5_col5, #T_b0c46_row5_col6, #T_b0c46_row5_col7, #T_b0c46_row6_col0, #T_b0c46_row6_col1, #T_b0c46_row6_col2, #T_b0c46_row6_col3, #T_b0c46_row6_col4, #T_b0c46_row6_col5, #T_b0c46_row6_col6, #T_b0c46_row6_col7, #T_b0c46_row7_col0, #T_b0c46_row7_col1, #T_b0c46_row7_col2, #T_b0c46_row7_col3, #T_b0c46_row7_col4, #T_b0c46_row7_col5, #T_b0c46_row7_col6, #T_b0c46_row7_col7, #T_b0c46_row8_col0, #T_b0c46_row8_col1, #T_b0c46_row8_col2, #T_b0c46_row8_col3, #T_b0c46_row8_col4, #T_b0c46_row8_col5, #T_b0c46_row8_col6, #T_b0c46_row8_col7, #T_b0c46_row9_col0, #T_b0c46_row9_col1, #T_b0c46_row9_col2, #T_b0c46_row9_col3, #T_b0c46_row9_col4, #T_b0c46_row9_col5, #T_b0c46_row9_col6, #T_b0c46_row9_col7, #T_b0c46_row10_col0, #T_b0c46_row10_col1, #T_b0c46_row10_col2, #T_b0c46_row10_col3, #T_b0c46_row10_col4, #T_b0c46_row10_col5, #T_b0c46_row10_col6, #T_b0c46_row10_col7, #T_b0c46_row11_col0, #T_b0c46_row11_col1, #T_b0c46_row11_col2, #T_b0c46_row11_col3, #T_b0c46_row11_col4, #T_b0c46_row11_col5, #T_b0c46_row11_col6, #T_b0c46_row11_col7, #T_b0c46_row12_col0, #T_b0c46_row12_col1, #T_b0c46_row12_col2, #T_b0c46_row12_col3, #T_b0c46_row12_col5, #T_b0c46_row12_col6, #T_b0c46_row12_col7, #T_b0c46_row13_col0, #T_b0c46_row13_col1, #T_b0c46_row13_col2, #T_b0c46_row13_col3, #T_b0c46_row13_col4, #T_b0c46_row13_col5, #T_b0c46_row13_col6, #T_b0c46_row13_col7, #T_b0c46_row14_col0, #T_b0c46_row14_col1, #T_b0c46_row14_col2, #T_b0c46_row14_col3, #T_b0c46_row14_col4, #T_b0c46_row14_col5, #T_b0c46_row14_col6, #T_b0c46_row14_col7 {\n",
       "  text-align: left;\n",
       "}\n",
       "#T_b0c46_row0_col1, #T_b0c46_row0_col3, #T_b0c46_row0_col5, #T_b0c46_row1_col2, #T_b0c46_row1_col6, #T_b0c46_row1_col7, #T_b0c46_row12_col4 {\n",
       "  text-align: left;\n",
       "  background-color: yellow;\n",
       "}\n",
       "#T_b0c46_row0_col8, #T_b0c46_row1_col8, #T_b0c46_row2_col8, #T_b0c46_row3_col8, #T_b0c46_row4_col8, #T_b0c46_row5_col8, #T_b0c46_row6_col8, #T_b0c46_row7_col8, #T_b0c46_row8_col8, #T_b0c46_row10_col8, #T_b0c46_row11_col8, #T_b0c46_row12_col8 {\n",
       "  text-align: left;\n",
       "  background-color: lightgrey;\n",
       "}\n",
       "#T_b0c46_row9_col8, #T_b0c46_row13_col8, #T_b0c46_row14_col8 {\n",
       "  text-align: left;\n",
       "  background-color: yellow;\n",
       "  background-color: lightgrey;\n",
       "}\n",
       "</style>\n",
       "<table id=\"T_b0c46\">\n",
       "  <thead>\n",
       "    <tr>\n",
       "      <th class=\"blank level0\" >&nbsp;</th>\n",
       "      <th id=\"T_b0c46_level0_col0\" class=\"col_heading level0 col0\" >Model</th>\n",
       "      <th id=\"T_b0c46_level0_col1\" class=\"col_heading level0 col1\" >Accuracy</th>\n",
       "      <th id=\"T_b0c46_level0_col2\" class=\"col_heading level0 col2\" >AUC</th>\n",
       "      <th id=\"T_b0c46_level0_col3\" class=\"col_heading level0 col3\" >Recall</th>\n",
       "      <th id=\"T_b0c46_level0_col4\" class=\"col_heading level0 col4\" >Prec.</th>\n",
       "      <th id=\"T_b0c46_level0_col5\" class=\"col_heading level0 col5\" >F1</th>\n",
       "      <th id=\"T_b0c46_level0_col6\" class=\"col_heading level0 col6\" >Kappa</th>\n",
       "      <th id=\"T_b0c46_level0_col7\" class=\"col_heading level0 col7\" >MCC</th>\n",
       "      <th id=\"T_b0c46_level0_col8\" class=\"col_heading level0 col8\" >TT (Sec)</th>\n",
       "    </tr>\n",
       "  </thead>\n",
       "  <tbody>\n",
       "    <tr>\n",
       "      <th id=\"T_b0c46_level0_row0\" class=\"row_heading level0 row0\" >xgboost</th>\n",
       "      <td id=\"T_b0c46_row0_col0\" class=\"data row0 col0\" >Extreme Gradient Boosting</td>\n",
       "      <td id=\"T_b0c46_row0_col1\" class=\"data row0 col1\" >0.7724</td>\n",
       "      <td id=\"T_b0c46_row0_col2\" class=\"data row0 col2\" >0.7961</td>\n",
       "      <td id=\"T_b0c46_row0_col3\" class=\"data row0 col3\" >0.8849</td>\n",
       "      <td id=\"T_b0c46_row0_col4\" class=\"data row0 col4\" >0.8201</td>\n",
       "      <td id=\"T_b0c46_row0_col5\" class=\"data row0 col5\" >0.8513</td>\n",
       "      <td id=\"T_b0c46_row0_col6\" class=\"data row0 col6\" >0.3699</td>\n",
       "      <td id=\"T_b0c46_row0_col7\" class=\"data row0 col7\" >0.3748</td>\n",
       "      <td id=\"T_b0c46_row0_col8\" class=\"data row0 col8\" >3.6300</td>\n",
       "    </tr>\n",
       "    <tr>\n",
       "      <th id=\"T_b0c46_level0_row1\" class=\"row_heading level0 row1\" >lightgbm</th>\n",
       "      <td id=\"T_b0c46_row1_col0\" class=\"data row1 col0\" >Light Gradient Boosting Machine</td>\n",
       "      <td id=\"T_b0c46_row1_col1\" class=\"data row1 col1\" >0.7716</td>\n",
       "      <td id=\"T_b0c46_row1_col2\" class=\"data row1 col2\" >0.7984</td>\n",
       "      <td id=\"T_b0c46_row1_col3\" class=\"data row1 col3\" >0.8712</td>\n",
       "      <td id=\"T_b0c46_row1_col4\" class=\"data row1 col4\" >0.8276</td>\n",
       "      <td id=\"T_b0c46_row1_col5\" class=\"data row1 col5\" >0.8488</td>\n",
       "      <td id=\"T_b0c46_row1_col6\" class=\"data row1 col6\" >0.3833</td>\n",
       "      <td id=\"T_b0c46_row1_col7\" class=\"data row1 col7\" >0.3854</td>\n",
       "      <td id=\"T_b0c46_row1_col8\" class=\"data row1 col8\" >0.4800</td>\n",
       "    </tr>\n",
       "    <tr>\n",
       "      <th id=\"T_b0c46_level0_row2\" class=\"row_heading level0 row2\" >et</th>\n",
       "      <td id=\"T_b0c46_row2_col0\" class=\"data row2 col0\" >Extra Trees Classifier</td>\n",
       "      <td id=\"T_b0c46_row2_col1\" class=\"data row2 col1\" >0.7458</td>\n",
       "      <td id=\"T_b0c46_row2_col2\" class=\"data row2 col2\" >0.7601</td>\n",
       "      <td id=\"T_b0c46_row2_col3\" class=\"data row2 col3\" >0.8268</td>\n",
       "      <td id=\"T_b0c46_row2_col4\" class=\"data row2 col4\" >0.8276</td>\n",
       "      <td id=\"T_b0c46_row2_col5\" class=\"data row2 col5\" >0.8272</td>\n",
       "      <td id=\"T_b0c46_row2_col6\" class=\"data row2 col6\" >0.3464</td>\n",
       "      <td id=\"T_b0c46_row2_col7\" class=\"data row2 col7\" >0.3464</td>\n",
       "      <td id=\"T_b0c46_row2_col8\" class=\"data row2 col8\" >2.2300</td>\n",
       "    </tr>\n",
       "    <tr>\n",
       "      <th id=\"T_b0c46_level0_row3\" class=\"row_heading level0 row3\" >rf</th>\n",
       "      <td id=\"T_b0c46_row3_col0\" class=\"data row3 col0\" >Random Forest Classifier</td>\n",
       "      <td id=\"T_b0c46_row3_col1\" class=\"data row3 col1\" >0.7417</td>\n",
       "      <td id=\"T_b0c46_row3_col2\" class=\"data row3 col2\" >0.7673</td>\n",
       "      <td id=\"T_b0c46_row3_col3\" class=\"data row3 col3\" >0.8125</td>\n",
       "      <td id=\"T_b0c46_row3_col4\" class=\"data row3 col4\" >0.8326</td>\n",
       "      <td id=\"T_b0c46_row3_col5\" class=\"data row3 col5\" >0.8224</td>\n",
       "      <td id=\"T_b0c46_row3_col6\" class=\"data row3 col6\" >0.3494</td>\n",
       "      <td id=\"T_b0c46_row3_col7\" class=\"data row3 col7\" >0.3498</td>\n",
       "      <td id=\"T_b0c46_row3_col8\" class=\"data row3 col8\" >3.2000</td>\n",
       "    </tr>\n",
       "    <tr>\n",
       "      <th id=\"T_b0c46_level0_row4\" class=\"row_heading level0 row4\" >gbc</th>\n",
       "      <td id=\"T_b0c46_row4_col0\" class=\"data row4 col0\" >Gradient Boosting Classifier</td>\n",
       "      <td id=\"T_b0c46_row4_col1\" class=\"data row4 col1\" >0.7274</td>\n",
       "      <td id=\"T_b0c46_row4_col2\" class=\"data row4 col2\" >0.7781</td>\n",
       "      <td id=\"T_b0c46_row4_col3\" class=\"data row4 col3\" >0.7535</td>\n",
       "      <td id=\"T_b0c46_row4_col4\" class=\"data row4 col4\" >0.8589</td>\n",
       "      <td id=\"T_b0c46_row4_col5\" class=\"data row4 col5\" >0.8027</td>\n",
       "      <td id=\"T_b0c46_row4_col6\" class=\"data row4 col6\" >0.3680</td>\n",
       "      <td id=\"T_b0c46_row4_col7\" class=\"data row4 col7\" >0.3764</td>\n",
       "      <td id=\"T_b0c46_row4_col8\" class=\"data row4 col8\" >7.6300</td>\n",
       "    </tr>\n",
       "    <tr>\n",
       "      <th id=\"T_b0c46_level0_row5\" class=\"row_heading level0 row5\" >ada</th>\n",
       "      <td id=\"T_b0c46_row5_col0\" class=\"data row5 col0\" >Ada Boost Classifier</td>\n",
       "      <td id=\"T_b0c46_row5_col1\" class=\"data row5 col1\" >0.7042</td>\n",
       "      <td id=\"T_b0c46_row5_col2\" class=\"data row5 col2\" >0.7592</td>\n",
       "      <td id=\"T_b0c46_row5_col3\" class=\"data row5 col3\" >0.7193</td>\n",
       "      <td id=\"T_b0c46_row5_col4\" class=\"data row5 col4\" >0.8558</td>\n",
       "      <td id=\"T_b0c46_row5_col5\" class=\"data row5 col5\" >0.7817</td>\n",
       "      <td id=\"T_b0c46_row5_col6\" class=\"data row5 col6\" >0.3339</td>\n",
       "      <td id=\"T_b0c46_row5_col7\" class=\"data row5 col7\" >0.3462</td>\n",
       "      <td id=\"T_b0c46_row5_col8\" class=\"data row5 col8\" >1.9200</td>\n",
       "    </tr>\n",
       "    <tr>\n",
       "      <th id=\"T_b0c46_level0_row6\" class=\"row_heading level0 row6\" >knn</th>\n",
       "      <td id=\"T_b0c46_row6_col0\" class=\"data row6 col0\" >K Neighbors Classifier</td>\n",
       "      <td id=\"T_b0c46_row6_col1\" class=\"data row6 col1\" >0.6936</td>\n",
       "      <td id=\"T_b0c46_row6_col2\" class=\"data row6 col2\" >0.7220</td>\n",
       "      <td id=\"T_b0c46_row6_col3\" class=\"data row6 col3\" >0.7272</td>\n",
       "      <td id=\"T_b0c46_row6_col4\" class=\"data row6 col4\" >0.8351</td>\n",
       "      <td id=\"T_b0c46_row6_col5\" class=\"data row6 col5\" >0.7775</td>\n",
       "      <td id=\"T_b0c46_row6_col6\" class=\"data row6 col6\" >0.2931</td>\n",
       "      <td id=\"T_b0c46_row6_col7\" class=\"data row6 col7\" >0.3004</td>\n",
       "      <td id=\"T_b0c46_row6_col8\" class=\"data row6 col8\" >0.1500</td>\n",
       "    </tr>\n",
       "    <tr>\n",
       "      <th id=\"T_b0c46_level0_row7\" class=\"row_heading level0 row7\" >lr</th>\n",
       "      <td id=\"T_b0c46_row7_col0\" class=\"data row7 col0\" >Logistic Regression</td>\n",
       "      <td id=\"T_b0c46_row7_col1\" class=\"data row7 col1\" >0.6892</td>\n",
       "      <td id=\"T_b0c46_row7_col2\" class=\"data row7 col2\" >0.7650</td>\n",
       "      <td id=\"T_b0c46_row7_col3\" class=\"data row7 col3\" >0.6755</td>\n",
       "      <td id=\"T_b0c46_row7_col4\" class=\"data row7 col4\" >0.8736</td>\n",
       "      <td id=\"T_b0c46_row7_col5\" class=\"data row7 col5\" >0.7619</td>\n",
       "      <td id=\"T_b0c46_row7_col6\" class=\"data row7 col6\" >0.3351</td>\n",
       "      <td id=\"T_b0c46_row7_col7\" class=\"data row7 col7\" >0.3587</td>\n",
       "      <td id=\"T_b0c46_row7_col8\" class=\"data row7 col8\" >0.5100</td>\n",
       "    </tr>\n",
       "    <tr>\n",
       "      <th id=\"T_b0c46_level0_row8\" class=\"row_heading level0 row8\" >lda</th>\n",
       "      <td id=\"T_b0c46_row8_col0\" class=\"data row8 col0\" >Linear Discriminant Analysis</td>\n",
       "      <td id=\"T_b0c46_row8_col1\" class=\"data row8 col1\" >0.6832</td>\n",
       "      <td id=\"T_b0c46_row8_col2\" class=\"data row8 col2\" >0.7667</td>\n",
       "      <td id=\"T_b0c46_row8_col3\" class=\"data row8 col3\" >0.6630</td>\n",
       "      <td id=\"T_b0c46_row8_col4\" class=\"data row8 col4\" >0.8765</td>\n",
       "      <td id=\"T_b0c46_row8_col5\" class=\"data row8 col5\" >0.7549</td>\n",
       "      <td id=\"T_b0c46_row8_col6\" class=\"data row8 col6\" >0.3305</td>\n",
       "      <td id=\"T_b0c46_row8_col7\" class=\"data row8 col7\" >0.3571</td>\n",
       "      <td id=\"T_b0c46_row8_col8\" class=\"data row8 col8\" >0.1100</td>\n",
       "    </tr>\n",
       "    <tr>\n",
       "      <th id=\"T_b0c46_level0_row9\" class=\"row_heading level0 row9\" >ridge</th>\n",
       "      <td id=\"T_b0c46_row9_col0\" class=\"data row9 col0\" >Ridge Classifier</td>\n",
       "      <td id=\"T_b0c46_row9_col1\" class=\"data row9 col1\" >0.6822</td>\n",
       "      <td id=\"T_b0c46_row9_col2\" class=\"data row9 col2\" >0.7000</td>\n",
       "      <td id=\"T_b0c46_row9_col3\" class=\"data row9 col3\" >0.6623</td>\n",
       "      <td id=\"T_b0c46_row9_col4\" class=\"data row9 col4\" >0.8756</td>\n",
       "      <td id=\"T_b0c46_row9_col5\" class=\"data row9 col5\" >0.7542</td>\n",
       "      <td id=\"T_b0c46_row9_col6\" class=\"data row9 col6\" >0.3285</td>\n",
       "      <td id=\"T_b0c46_row9_col7\" class=\"data row9 col7\" >0.3550</td>\n",
       "      <td id=\"T_b0c46_row9_col8\" class=\"data row9 col8\" >0.0600</td>\n",
       "    </tr>\n",
       "    <tr>\n",
       "      <th id=\"T_b0c46_level0_row10\" class=\"row_heading level0 row10\" >dt</th>\n",
       "      <td id=\"T_b0c46_row10_col0\" class=\"data row10 col0\" >Decision Tree Classifier</td>\n",
       "      <td id=\"T_b0c46_row10_col1\" class=\"data row10 col1\" >0.6810</td>\n",
       "      <td id=\"T_b0c46_row10_col2\" class=\"data row10 col2\" >0.6223</td>\n",
       "      <td id=\"T_b0c46_row10_col3\" class=\"data row10 col3\" >0.7466</td>\n",
       "      <td id=\"T_b0c46_row10_col4\" class=\"data row10 col4\" >0.8057</td>\n",
       "      <td id=\"T_b0c46_row10_col5\" class=\"data row10 col5\" >0.7750</td>\n",
       "      <td id=\"T_b0c46_row10_col6\" class=\"data row10 col6\" >0.2295</td>\n",
       "      <td id=\"T_b0c46_row10_col7\" class=\"data row10 col7\" >0.2315</td>\n",
       "      <td id=\"T_b0c46_row10_col8\" class=\"data row10 col8\" >0.4400</td>\n",
       "    </tr>\n",
       "    <tr>\n",
       "      <th id=\"T_b0c46_level0_row11\" class=\"row_heading level0 row11\" >qda</th>\n",
       "      <td id=\"T_b0c46_row11_col0\" class=\"data row11 col0\" >Quadratic Discriminant Analysis</td>\n",
       "      <td id=\"T_b0c46_row11_col1\" class=\"data row11 col1\" >0.6708</td>\n",
       "      <td id=\"T_b0c46_row11_col2\" class=\"data row11 col2\" >0.7457</td>\n",
       "      <td id=\"T_b0c46_row11_col3\" class=\"data row11 col3\" >0.6509</td>\n",
       "      <td id=\"T_b0c46_row11_col4\" class=\"data row11 col4\" >0.8690</td>\n",
       "      <td id=\"T_b0c46_row11_col5\" class=\"data row11 col5\" >0.7443</td>\n",
       "      <td id=\"T_b0c46_row11_col6\" class=\"data row11 col6\" >0.3081</td>\n",
       "      <td id=\"T_b0c46_row11_col7\" class=\"data row11 col7\" >0.3344</td>\n",
       "      <td id=\"T_b0c46_row11_col8\" class=\"data row11 col8\" >0.0800</td>\n",
       "    </tr>\n",
       "    <tr>\n",
       "      <th id=\"T_b0c46_level0_row12\" class=\"row_heading level0 row12\" >svm</th>\n",
       "      <td id=\"T_b0c46_row12_col0\" class=\"data row12 col0\" >SVM - Linear Kernel</td>\n",
       "      <td id=\"T_b0c46_row12_col1\" class=\"data row12 col1\" >0.6551</td>\n",
       "      <td id=\"T_b0c46_row12_col2\" class=\"data row12 col2\" >0.6963</td>\n",
       "      <td id=\"T_b0c46_row12_col3\" class=\"data row12 col3\" >0.6091</td>\n",
       "      <td id=\"T_b0c46_row12_col4\" class=\"data row12 col4\" >0.8869</td>\n",
       "      <td id=\"T_b0c46_row12_col5\" class=\"data row12 col5\" >0.7222</td>\n",
       "      <td id=\"T_b0c46_row12_col6\" class=\"data row12 col6\" >0.3067</td>\n",
       "      <td id=\"T_b0c46_row12_col7\" class=\"data row12 col7\" >0.3461</td>\n",
       "      <td id=\"T_b0c46_row12_col8\" class=\"data row12 col8\" >1.6600</td>\n",
       "    </tr>\n",
       "    <tr>\n",
       "      <th id=\"T_b0c46_level0_row13\" class=\"row_heading level0 row13\" >nb</th>\n",
       "      <td id=\"T_b0c46_row13_col0\" class=\"data row13 col0\" >Naive Bayes</td>\n",
       "      <td id=\"T_b0c46_row13_col1\" class=\"data row13 col1\" >0.6236</td>\n",
       "      <td id=\"T_b0c46_row13_col2\" class=\"data row13 col2\" >0.7203</td>\n",
       "      <td id=\"T_b0c46_row13_col3\" class=\"data row13 col3\" >0.5738</td>\n",
       "      <td id=\"T_b0c46_row13_col4\" class=\"data row13 col4\" >0.8707</td>\n",
       "      <td id=\"T_b0c46_row13_col5\" class=\"data row13 col5\" >0.6918</td>\n",
       "      <td id=\"T_b0c46_row13_col6\" class=\"data row13 col6\" >0.2577</td>\n",
       "      <td id=\"T_b0c46_row13_col7\" class=\"data row13 col7\" >0.2965</td>\n",
       "      <td id=\"T_b0c46_row13_col8\" class=\"data row13 col8\" >0.0600</td>\n",
       "    </tr>\n",
       "    <tr>\n",
       "      <th id=\"T_b0c46_level0_row14\" class=\"row_heading level0 row14\" >dummy</th>\n",
       "      <td id=\"T_b0c46_row14_col0\" class=\"data row14 col0\" >Dummy Classifier</td>\n",
       "      <td id=\"T_b0c46_row14_col1\" class=\"data row14 col1\" >0.2640</td>\n",
       "      <td id=\"T_b0c46_row14_col2\" class=\"data row14 col2\" >0.5000</td>\n",
       "      <td id=\"T_b0c46_row14_col3\" class=\"data row14 col3\" >0.0000</td>\n",
       "      <td id=\"T_b0c46_row14_col4\" class=\"data row14 col4\" >0.0000</td>\n",
       "      <td id=\"T_b0c46_row14_col5\" class=\"data row14 col5\" >0.0000</td>\n",
       "      <td id=\"T_b0c46_row14_col6\" class=\"data row14 col6\" >0.0000</td>\n",
       "      <td id=\"T_b0c46_row14_col7\" class=\"data row14 col7\" >0.0000</td>\n",
       "      <td id=\"T_b0c46_row14_col8\" class=\"data row14 col8\" >0.0600</td>\n",
       "    </tr>\n",
       "  </tbody>\n",
       "</table>\n"
      ],
      "text/plain": [
       "<pandas.io.formats.style.Styler at 0x21ecfa90d90>"
      ]
     },
     "metadata": {},
     "output_type": "display_data"
    },
    {
     "data": {
      "text/html": [],
      "text/plain": [
       "<IPython.core.display.HTML object>"
      ]
     },
     "metadata": {},
     "output_type": "display_data"
    }
   ],
   "source": [
    "#Comparing models using SMOTE\n",
    "best2=compare_models(cross_validation=False)"
   ]
  },
  {
   "cell_type": "code",
   "execution_count": 117,
   "metadata": {},
   "outputs": [
    {
     "data": {
      "text/html": [
       "<style type=\"text/css\">\n",
       "#T_ba54d_row8_col1, #T_ba54d_row13_col1 {\n",
       "  background-color: lightgreen;\n",
       "}\n",
       "</style>\n",
       "<table id=\"T_ba54d\">\n",
       "  <thead>\n",
       "    <tr>\n",
       "      <th class=\"blank level0\" >&nbsp;</th>\n",
       "      <th id=\"T_ba54d_level0_col0\" class=\"col_heading level0 col0\" >Description</th>\n",
       "      <th id=\"T_ba54d_level0_col1\" class=\"col_heading level0 col1\" >Value</th>\n",
       "    </tr>\n",
       "  </thead>\n",
       "  <tbody>\n",
       "    <tr>\n",
       "      <th id=\"T_ba54d_level0_row0\" class=\"row_heading level0 row0\" >0</th>\n",
       "      <td id=\"T_ba54d_row0_col0\" class=\"data row0 col0\" >Session id</td>\n",
       "      <td id=\"T_ba54d_row0_col1\" class=\"data row0 col1\" >7101</td>\n",
       "    </tr>\n",
       "    <tr>\n",
       "      <th id=\"T_ba54d_level0_row1\" class=\"row_heading level0 row1\" >1</th>\n",
       "      <td id=\"T_ba54d_row1_col0\" class=\"data row1 col0\" >Target</td>\n",
       "      <td id=\"T_ba54d_row1_col1\" class=\"data row1 col1\" >Pl</td>\n",
       "    </tr>\n",
       "    <tr>\n",
       "      <th id=\"T_ba54d_level0_row2\" class=\"row_heading level0 row2\" >2</th>\n",
       "      <td id=\"T_ba54d_row2_col0\" class=\"data row2 col0\" >Target type</td>\n",
       "      <td id=\"T_ba54d_row2_col1\" class=\"data row2 col1\" >Binary</td>\n",
       "    </tr>\n",
       "    <tr>\n",
       "      <th id=\"T_ba54d_level0_row3\" class=\"row_heading level0 row3\" >3</th>\n",
       "      <td id=\"T_ba54d_row3_col0\" class=\"data row3 col0\" >Original data shape</td>\n",
       "      <td id=\"T_ba54d_row3_col1\" class=\"data row3 col1\" >(45261, 9)</td>\n",
       "    </tr>\n",
       "    <tr>\n",
       "      <th id=\"T_ba54d_level0_row4\" class=\"row_heading level0 row4\" >4</th>\n",
       "      <td id=\"T_ba54d_row4_col0\" class=\"data row4 col0\" >Transformed data shape</td>\n",
       "      <td id=\"T_ba54d_row4_col1\" class=\"data row4 col1\" >(60213, 9)</td>\n",
       "    </tr>\n",
       "    <tr>\n",
       "      <th id=\"T_ba54d_level0_row5\" class=\"row_heading level0 row5\" >5</th>\n",
       "      <td id=\"T_ba54d_row5_col0\" class=\"data row5 col0\" >Transformed train set shape</td>\n",
       "      <td id=\"T_ba54d_row5_col1\" class=\"data row5 col1\" >(46634, 9)</td>\n",
       "    </tr>\n",
       "    <tr>\n",
       "      <th id=\"T_ba54d_level0_row6\" class=\"row_heading level0 row6\" >6</th>\n",
       "      <td id=\"T_ba54d_row6_col0\" class=\"data row6 col0\" >Transformed test set shape</td>\n",
       "      <td id=\"T_ba54d_row6_col1\" class=\"data row6 col1\" >(13579, 9)</td>\n",
       "    </tr>\n",
       "    <tr>\n",
       "      <th id=\"T_ba54d_level0_row7\" class=\"row_heading level0 row7\" >7</th>\n",
       "      <td id=\"T_ba54d_row7_col0\" class=\"data row7 col0\" >Numeric features</td>\n",
       "      <td id=\"T_ba54d_row7_col1\" class=\"data row7 col1\" >8</td>\n",
       "    </tr>\n",
       "    <tr>\n",
       "      <th id=\"T_ba54d_level0_row8\" class=\"row_heading level0 row8\" >8</th>\n",
       "      <td id=\"T_ba54d_row8_col0\" class=\"data row8 col0\" >Preprocess</td>\n",
       "      <td id=\"T_ba54d_row8_col1\" class=\"data row8 col1\" >True</td>\n",
       "    </tr>\n",
       "    <tr>\n",
       "      <th id=\"T_ba54d_level0_row9\" class=\"row_heading level0 row9\" >9</th>\n",
       "      <td id=\"T_ba54d_row9_col0\" class=\"data row9 col0\" >Imputation type</td>\n",
       "      <td id=\"T_ba54d_row9_col1\" class=\"data row9 col1\" >simple</td>\n",
       "    </tr>\n",
       "    <tr>\n",
       "      <th id=\"T_ba54d_level0_row10\" class=\"row_heading level0 row10\" >10</th>\n",
       "      <td id=\"T_ba54d_row10_col0\" class=\"data row10 col0\" >Numeric imputation</td>\n",
       "      <td id=\"T_ba54d_row10_col1\" class=\"data row10 col1\" >mean</td>\n",
       "    </tr>\n",
       "    <tr>\n",
       "      <th id=\"T_ba54d_level0_row11\" class=\"row_heading level0 row11\" >11</th>\n",
       "      <td id=\"T_ba54d_row11_col0\" class=\"data row11 col0\" >Categorical imputation</td>\n",
       "      <td id=\"T_ba54d_row11_col1\" class=\"data row11 col1\" >constant</td>\n",
       "    </tr>\n",
       "    <tr>\n",
       "      <th id=\"T_ba54d_level0_row12\" class=\"row_heading level0 row12\" >12</th>\n",
       "      <td id=\"T_ba54d_row12_col0\" class=\"data row12 col0\" >Low variance threshold</td>\n",
       "      <td id=\"T_ba54d_row12_col1\" class=\"data row12 col1\" >0</td>\n",
       "    </tr>\n",
       "    <tr>\n",
       "      <th id=\"T_ba54d_level0_row13\" class=\"row_heading level0 row13\" >13</th>\n",
       "      <td id=\"T_ba54d_row13_col0\" class=\"data row13 col0\" >Fix imbalance</td>\n",
       "      <td id=\"T_ba54d_row13_col1\" class=\"data row13 col1\" >True</td>\n",
       "    </tr>\n",
       "    <tr>\n",
       "      <th id=\"T_ba54d_level0_row14\" class=\"row_heading level0 row14\" >14</th>\n",
       "      <td id=\"T_ba54d_row14_col0\" class=\"data row14 col0\" >Fix imbalance method</td>\n",
       "      <td id=\"T_ba54d_row14_col1\" class=\"data row14 col1\" >RandomOverSampler(random_state=None, sampling_strategy='auto', shrinkage=None)</td>\n",
       "    </tr>\n",
       "    <tr>\n",
       "      <th id=\"T_ba54d_level0_row15\" class=\"row_heading level0 row15\" >15</th>\n",
       "      <td id=\"T_ba54d_row15_col0\" class=\"data row15 col0\" >Fold Generator</td>\n",
       "      <td id=\"T_ba54d_row15_col1\" class=\"data row15 col1\" >StratifiedKFold</td>\n",
       "    </tr>\n",
       "    <tr>\n",
       "      <th id=\"T_ba54d_level0_row16\" class=\"row_heading level0 row16\" >16</th>\n",
       "      <td id=\"T_ba54d_row16_col0\" class=\"data row16 col0\" >Fold Number</td>\n",
       "      <td id=\"T_ba54d_row16_col1\" class=\"data row16 col1\" >10</td>\n",
       "    </tr>\n",
       "    <tr>\n",
       "      <th id=\"T_ba54d_level0_row17\" class=\"row_heading level0 row17\" >17</th>\n",
       "      <td id=\"T_ba54d_row17_col0\" class=\"data row17 col0\" >CPU Jobs</td>\n",
       "      <td id=\"T_ba54d_row17_col1\" class=\"data row17 col1\" >-1</td>\n",
       "    </tr>\n",
       "    <tr>\n",
       "      <th id=\"T_ba54d_level0_row18\" class=\"row_heading level0 row18\" >18</th>\n",
       "      <td id=\"T_ba54d_row18_col0\" class=\"data row18 col0\" >Use GPU</td>\n",
       "      <td id=\"T_ba54d_row18_col1\" class=\"data row18 col1\" >False</td>\n",
       "    </tr>\n",
       "    <tr>\n",
       "      <th id=\"T_ba54d_level0_row19\" class=\"row_heading level0 row19\" >19</th>\n",
       "      <td id=\"T_ba54d_row19_col0\" class=\"data row19 col0\" >Log Experiment</td>\n",
       "      <td id=\"T_ba54d_row19_col1\" class=\"data row19 col1\" >False</td>\n",
       "    </tr>\n",
       "    <tr>\n",
       "      <th id=\"T_ba54d_level0_row20\" class=\"row_heading level0 row20\" >20</th>\n",
       "      <td id=\"T_ba54d_row20_col0\" class=\"data row20 col0\" >Experiment Name</td>\n",
       "      <td id=\"T_ba54d_row20_col1\" class=\"data row20 col1\" >clf-default-name</td>\n",
       "    </tr>\n",
       "    <tr>\n",
       "      <th id=\"T_ba54d_level0_row21\" class=\"row_heading level0 row21\" >21</th>\n",
       "      <td id=\"T_ba54d_row21_col0\" class=\"data row21 col0\" >USI</td>\n",
       "      <td id=\"T_ba54d_row21_col1\" class=\"data row21 col1\" >94be</td>\n",
       "    </tr>\n",
       "  </tbody>\n",
       "</table>\n"
      ],
      "text/plain": [
       "<pandas.io.formats.style.Styler at 0x21ed164b310>"
      ]
     },
     "metadata": {},
     "output_type": "display_data"
    }
   ],
   "source": [
    "# Using Random Over Sampler method to fix imbalance data\n",
    "from pycaret.classification import *\n",
    "s3= setup (df,target='Pl',fix_imbalance=True,\n",
    "fix_imbalance_method=imblearn.over_sampling.RandomOverSampler())"
   ]
  },
  {
   "cell_type": "code",
   "execution_count": 118,
   "metadata": {},
   "outputs": [
    {
     "data": {
      "text/html": [],
      "text/plain": [
       "<IPython.core.display.HTML object>"
      ]
     },
     "metadata": {},
     "output_type": "display_data"
    },
    {
     "data": {
      "text/html": [
       "<style type=\"text/css\">\n",
       "#T_7ef83 th {\n",
       "  text-align: left;\n",
       "}\n",
       "#T_7ef83_row0_col0, #T_7ef83_row0_col2, #T_7ef83_row0_col4, #T_7ef83_row0_col6, #T_7ef83_row0_col7, #T_7ef83_row1_col0, #T_7ef83_row1_col1, #T_7ef83_row1_col2, #T_7ef83_row1_col3, #T_7ef83_row1_col4, #T_7ef83_row1_col5, #T_7ef83_row1_col6, #T_7ef83_row1_col7, #T_7ef83_row2_col0, #T_7ef83_row2_col1, #T_7ef83_row2_col2, #T_7ef83_row2_col3, #T_7ef83_row2_col4, #T_7ef83_row2_col5, #T_7ef83_row2_col7, #T_7ef83_row3_col0, #T_7ef83_row3_col1, #T_7ef83_row3_col3, #T_7ef83_row3_col4, #T_7ef83_row3_col5, #T_7ef83_row3_col6, #T_7ef83_row4_col0, #T_7ef83_row4_col1, #T_7ef83_row4_col2, #T_7ef83_row4_col3, #T_7ef83_row4_col4, #T_7ef83_row4_col5, #T_7ef83_row4_col6, #T_7ef83_row4_col7, #T_7ef83_row5_col0, #T_7ef83_row5_col1, #T_7ef83_row5_col2, #T_7ef83_row5_col3, #T_7ef83_row5_col4, #T_7ef83_row5_col5, #T_7ef83_row5_col6, #T_7ef83_row5_col7, #T_7ef83_row6_col0, #T_7ef83_row6_col1, #T_7ef83_row6_col2, #T_7ef83_row6_col3, #T_7ef83_row6_col4, #T_7ef83_row6_col5, #T_7ef83_row6_col6, #T_7ef83_row6_col7, #T_7ef83_row7_col0, #T_7ef83_row7_col1, #T_7ef83_row7_col2, #T_7ef83_row7_col3, #T_7ef83_row7_col4, #T_7ef83_row7_col5, #T_7ef83_row7_col6, #T_7ef83_row7_col7, #T_7ef83_row8_col0, #T_7ef83_row8_col1, #T_7ef83_row8_col2, #T_7ef83_row8_col3, #T_7ef83_row8_col4, #T_7ef83_row8_col5, #T_7ef83_row8_col6, #T_7ef83_row8_col7, #T_7ef83_row9_col0, #T_7ef83_row9_col1, #T_7ef83_row9_col2, #T_7ef83_row9_col3, #T_7ef83_row9_col4, #T_7ef83_row9_col5, #T_7ef83_row9_col6, #T_7ef83_row9_col7, #T_7ef83_row10_col0, #T_7ef83_row10_col1, #T_7ef83_row10_col2, #T_7ef83_row10_col3, #T_7ef83_row10_col4, #T_7ef83_row10_col5, #T_7ef83_row10_col6, #T_7ef83_row10_col7, #T_7ef83_row11_col0, #T_7ef83_row11_col1, #T_7ef83_row11_col2, #T_7ef83_row11_col3, #T_7ef83_row11_col4, #T_7ef83_row11_col5, #T_7ef83_row11_col6, #T_7ef83_row11_col7, #T_7ef83_row12_col0, #T_7ef83_row12_col1, #T_7ef83_row12_col2, #T_7ef83_row12_col3, #T_7ef83_row12_col4, #T_7ef83_row12_col5, #T_7ef83_row12_col6, #T_7ef83_row12_col7, #T_7ef83_row13_col0, #T_7ef83_row13_col1, #T_7ef83_row13_col2, #T_7ef83_row13_col3, #T_7ef83_row13_col5, #T_7ef83_row13_col6, #T_7ef83_row13_col7, #T_7ef83_row14_col0, #T_7ef83_row14_col1, #T_7ef83_row14_col2, #T_7ef83_row14_col3, #T_7ef83_row14_col4, #T_7ef83_row14_col5, #T_7ef83_row14_col6, #T_7ef83_row14_col7 {\n",
       "  text-align: left;\n",
       "}\n",
       "#T_7ef83_row0_col1, #T_7ef83_row0_col3, #T_7ef83_row0_col5, #T_7ef83_row2_col6, #T_7ef83_row3_col2, #T_7ef83_row3_col7, #T_7ef83_row13_col4 {\n",
       "  text-align: left;\n",
       "  background-color: yellow;\n",
       "}\n",
       "#T_7ef83_row0_col8, #T_7ef83_row1_col8, #T_7ef83_row2_col8, #T_7ef83_row3_col8, #T_7ef83_row4_col8, #T_7ef83_row5_col8, #T_7ef83_row6_col8, #T_7ef83_row7_col8, #T_7ef83_row8_col8, #T_7ef83_row9_col8, #T_7ef83_row10_col8, #T_7ef83_row11_col8, #T_7ef83_row12_col8, #T_7ef83_row13_col8 {\n",
       "  text-align: left;\n",
       "  background-color: lightgrey;\n",
       "}\n",
       "#T_7ef83_row14_col8 {\n",
       "  text-align: left;\n",
       "  background-color: yellow;\n",
       "  background-color: lightgrey;\n",
       "}\n",
       "</style>\n",
       "<table id=\"T_7ef83\">\n",
       "  <thead>\n",
       "    <tr>\n",
       "      <th class=\"blank level0\" >&nbsp;</th>\n",
       "      <th id=\"T_7ef83_level0_col0\" class=\"col_heading level0 col0\" >Model</th>\n",
       "      <th id=\"T_7ef83_level0_col1\" class=\"col_heading level0 col1\" >Accuracy</th>\n",
       "      <th id=\"T_7ef83_level0_col2\" class=\"col_heading level0 col2\" >AUC</th>\n",
       "      <th id=\"T_7ef83_level0_col3\" class=\"col_heading level0 col3\" >Recall</th>\n",
       "      <th id=\"T_7ef83_level0_col4\" class=\"col_heading level0 col4\" >Prec.</th>\n",
       "      <th id=\"T_7ef83_level0_col5\" class=\"col_heading level0 col5\" >F1</th>\n",
       "      <th id=\"T_7ef83_level0_col6\" class=\"col_heading level0 col6\" >Kappa</th>\n",
       "      <th id=\"T_7ef83_level0_col7\" class=\"col_heading level0 col7\" >MCC</th>\n",
       "      <th id=\"T_7ef83_level0_col8\" class=\"col_heading level0 col8\" >TT (Sec)</th>\n",
       "    </tr>\n",
       "  </thead>\n",
       "  <tbody>\n",
       "    <tr>\n",
       "      <th id=\"T_7ef83_level0_row0\" class=\"row_heading level0 row0\" >et</th>\n",
       "      <td id=\"T_7ef83_row0_col0\" class=\"data row0 col0\" >Extra Trees Classifier</td>\n",
       "      <td id=\"T_7ef83_row0_col1\" class=\"data row0 col1\" >0.7656</td>\n",
       "      <td id=\"T_7ef83_row0_col2\" class=\"data row0 col2\" >0.7634</td>\n",
       "      <td id=\"T_7ef83_row0_col3\" class=\"data row0 col3\" >0.9186</td>\n",
       "      <td id=\"T_7ef83_row0_col4\" class=\"data row0 col4\" >0.7949</td>\n",
       "      <td id=\"T_7ef83_row0_col5\" class=\"data row0 col5\" >0.8522</td>\n",
       "      <td id=\"T_7ef83_row0_col6\" class=\"data row0 col6\" >0.2994</td>\n",
       "      <td id=\"T_7ef83_row0_col7\" class=\"data row0 col7\" >0.3186</td>\n",
       "      <td id=\"T_7ef83_row0_col8\" class=\"data row0 col8\" >1.8300</td>\n",
       "    </tr>\n",
       "    <tr>\n",
       "      <th id=\"T_7ef83_level0_row1\" class=\"row_heading level0 row1\" >rf</th>\n",
       "      <td id=\"T_7ef83_row1_col0\" class=\"data row1 col0\" >Random Forest Classifier</td>\n",
       "      <td id=\"T_7ef83_row1_col1\" class=\"data row1 col1\" >0.7540</td>\n",
       "      <td id=\"T_7ef83_row1_col2\" class=\"data row1 col2\" >0.7768</td>\n",
       "      <td id=\"T_7ef83_row1_col3\" class=\"data row1 col3\" >0.8520</td>\n",
       "      <td id=\"T_7ef83_row1_col4\" class=\"data row1 col4\" >0.8206</td>\n",
       "      <td id=\"T_7ef83_row1_col5\" class=\"data row1 col5\" >0.8360</td>\n",
       "      <td id=\"T_7ef83_row1_col6\" class=\"data row1 col6\" >0.3447</td>\n",
       "      <td id=\"T_7ef83_row1_col7\" class=\"data row1 col7\" >0.3457</td>\n",
       "      <td id=\"T_7ef83_row1_col8\" class=\"data row1 col8\" >2.3300</td>\n",
       "    </tr>\n",
       "    <tr>\n",
       "      <th id=\"T_7ef83_level0_row2\" class=\"row_heading level0 row2\" >xgboost</th>\n",
       "      <td id=\"T_7ef83_row2_col0\" class=\"data row2 col0\" >Extreme Gradient Boosting</td>\n",
       "      <td id=\"T_7ef83_row2_col1\" class=\"data row2 col1\" >0.7344</td>\n",
       "      <td id=\"T_7ef83_row2_col2\" class=\"data row2 col2\" >0.7987</td>\n",
       "      <td id=\"T_7ef83_row2_col3\" class=\"data row2 col3\" >0.7489</td>\n",
       "      <td id=\"T_7ef83_row2_col4\" class=\"data row2 col4\" >0.8722</td>\n",
       "      <td id=\"T_7ef83_row2_col5\" class=\"data row2 col5\" >0.8059</td>\n",
       "      <td id=\"T_7ef83_row2_col6\" class=\"data row2 col6\" >0.3933</td>\n",
       "      <td id=\"T_7ef83_row2_col7\" class=\"data row2 col7\" >0.4049</td>\n",
       "      <td id=\"T_7ef83_row2_col8\" class=\"data row2 col8\" >2.3400</td>\n",
       "    </tr>\n",
       "    <tr>\n",
       "      <th id=\"T_7ef83_level0_row3\" class=\"row_heading level0 row3\" >lightgbm</th>\n",
       "      <td id=\"T_7ef83_row3_col0\" class=\"data row3 col0\" >Light Gradient Boosting Machine</td>\n",
       "      <td id=\"T_7ef83_row3_col1\" class=\"data row3 col1\" >0.7228</td>\n",
       "      <td id=\"T_7ef83_row3_col2\" class=\"data row3 col2\" >0.8061</td>\n",
       "      <td id=\"T_7ef83_row3_col3\" class=\"data row3 col3\" >0.7152</td>\n",
       "      <td id=\"T_7ef83_row3_col4\" class=\"data row3 col4\" >0.8862</td>\n",
       "      <td id=\"T_7ef83_row3_col5\" class=\"data row3 col5\" >0.7916</td>\n",
       "      <td id=\"T_7ef83_row3_col6\" class=\"data row3 col6\" >0.3916</td>\n",
       "      <td id=\"T_7ef83_row3_col7\" class=\"data row3 col7\" >0.4122</td>\n",
       "      <td id=\"T_7ef83_row3_col8\" class=\"data row3 col8\" >0.3700</td>\n",
       "    </tr>\n",
       "    <tr>\n",
       "      <th id=\"T_7ef83_level0_row4\" class=\"row_heading level0 row4\" >gbc</th>\n",
       "      <td id=\"T_7ef83_row4_col0\" class=\"data row4 col0\" >Gradient Boosting Classifier</td>\n",
       "      <td id=\"T_7ef83_row4_col1\" class=\"data row4 col1\" >0.7058</td>\n",
       "      <td id=\"T_7ef83_row4_col2\" class=\"data row4 col2\" >0.7978</td>\n",
       "      <td id=\"T_7ef83_row4_col3\" class=\"data row4 col3\" >0.6845</td>\n",
       "      <td id=\"T_7ef83_row4_col4\" class=\"data row4 col4\" >0.8904</td>\n",
       "      <td id=\"T_7ef83_row4_col5\" class=\"data row4 col5\" >0.7740</td>\n",
       "      <td id=\"T_7ef83_row4_col6\" class=\"data row4 col6\" >0.3726</td>\n",
       "      <td id=\"T_7ef83_row4_col7\" class=\"data row4 col7\" >0.3999</td>\n",
       "      <td id=\"T_7ef83_row4_col8\" class=\"data row4 col8\" >5.5800</td>\n",
       "    </tr>\n",
       "    <tr>\n",
       "      <th id=\"T_7ef83_level0_row5\" class=\"row_heading level0 row5\" >ada</th>\n",
       "      <td id=\"T_7ef83_row5_col0\" class=\"data row5 col0\" >Ada Boost Classifier</td>\n",
       "      <td id=\"T_7ef83_row5_col1\" class=\"data row5 col1\" >0.6965</td>\n",
       "      <td id=\"T_7ef83_row5_col2\" class=\"data row5 col2\" >0.7822</td>\n",
       "      <td id=\"T_7ef83_row5_col3\" class=\"data row5 col3\" >0.6821</td>\n",
       "      <td id=\"T_7ef83_row5_col4\" class=\"data row5 col4\" >0.8784</td>\n",
       "      <td id=\"T_7ef83_row5_col5\" class=\"data row5 col5\" >0.7679</td>\n",
       "      <td id=\"T_7ef83_row5_col6\" class=\"data row5 col6\" >0.3491</td>\n",
       "      <td id=\"T_7ef83_row5_col7\" class=\"data row5 col7\" >0.3730</td>\n",
       "      <td id=\"T_7ef83_row5_col8\" class=\"data row5 col8\" >1.5900</td>\n",
       "    </tr>\n",
       "    <tr>\n",
       "      <th id=\"T_7ef83_level0_row6\" class=\"row_heading level0 row6\" >dt</th>\n",
       "      <td id=\"T_7ef83_row6_col0\" class=\"data row6 col0\" >Decision Tree Classifier</td>\n",
       "      <td id=\"T_7ef83_row6_col1\" class=\"data row6 col1\" >0.6920</td>\n",
       "      <td id=\"T_7ef83_row6_col2\" class=\"data row6 col2\" >0.6079</td>\n",
       "      <td id=\"T_7ef83_row6_col3\" class=\"data row6 col3\" >0.7860</td>\n",
       "      <td id=\"T_7ef83_row6_col4\" class=\"data row6 col4\" >0.7936</td>\n",
       "      <td id=\"T_7ef83_row6_col5\" class=\"data row6 col5\" >0.7898</td>\n",
       "      <td id=\"T_7ef83_row6_col6\" class=\"data row6 col6\" >0.2143</td>\n",
       "      <td id=\"T_7ef83_row6_col7\" class=\"data row6 col7\" >0.2143</td>\n",
       "      <td id=\"T_7ef83_row6_col8\" class=\"data row6 col8\" >0.3000</td>\n",
       "    </tr>\n",
       "    <tr>\n",
       "      <th id=\"T_7ef83_level0_row7\" class=\"row_heading level0 row7\" >lr</th>\n",
       "      <td id=\"T_7ef83_row7_col0\" class=\"data row7 col0\" >Logistic Regression</td>\n",
       "      <td id=\"T_7ef83_row7_col1\" class=\"data row7 col1\" >0.6787</td>\n",
       "      <td id=\"T_7ef83_row7_col2\" class=\"data row7 col2\" >0.7686</td>\n",
       "      <td id=\"T_7ef83_row7_col3\" class=\"data row7 col3\" >0.6567</td>\n",
       "      <td id=\"T_7ef83_row7_col4\" class=\"data row7 col4\" >0.8757</td>\n",
       "      <td id=\"T_7ef83_row7_col5\" class=\"data row7 col5\" >0.7505</td>\n",
       "      <td id=\"T_7ef83_row7_col6\" class=\"data row7 col6\" >0.3242</td>\n",
       "      <td id=\"T_7ef83_row7_col7\" class=\"data row7 col7\" >0.3517</td>\n",
       "      <td id=\"T_7ef83_row7_col8\" class=\"data row7 col8\" >0.4200</td>\n",
       "    </tr>\n",
       "    <tr>\n",
       "      <th id=\"T_7ef83_level0_row8\" class=\"row_heading level0 row8\" >lda</th>\n",
       "      <td id=\"T_7ef83_row8_col0\" class=\"data row8 col0\" >Linear Discriminant Analysis</td>\n",
       "      <td id=\"T_7ef83_row8_col1\" class=\"data row8 col1\" >0.6745</td>\n",
       "      <td id=\"T_7ef83_row8_col2\" class=\"data row8 col2\" >0.7702</td>\n",
       "      <td id=\"T_7ef83_row8_col3\" class=\"data row8 col3\" >0.6472</td>\n",
       "      <td id=\"T_7ef83_row8_col4\" class=\"data row8 col4\" >0.8786</td>\n",
       "      <td id=\"T_7ef83_row8_col5\" class=\"data row8 col5\" >0.7453</td>\n",
       "      <td id=\"T_7ef83_row8_col6\" class=\"data row8 col6\" >0.3220</td>\n",
       "      <td id=\"T_7ef83_row8_col7\" class=\"data row8 col7\" >0.3520</td>\n",
       "      <td id=\"T_7ef83_row8_col8\" class=\"data row8 col8\" >0.1200</td>\n",
       "    </tr>\n",
       "    <tr>\n",
       "      <th id=\"T_7ef83_level0_row9\" class=\"row_heading level0 row9\" >ridge</th>\n",
       "      <td id=\"T_7ef83_row9_col0\" class=\"data row9 col0\" >Ridge Classifier</td>\n",
       "      <td id=\"T_7ef83_row9_col1\" class=\"data row9 col1\" >0.6719</td>\n",
       "      <td id=\"T_7ef83_row9_col2\" class=\"data row9 col2\" >0.6966</td>\n",
       "      <td id=\"T_7ef83_row9_col3\" class=\"data row9 col3\" >0.6443</td>\n",
       "      <td id=\"T_7ef83_row9_col4\" class=\"data row9 col4\" >0.8774</td>\n",
       "      <td id=\"T_7ef83_row9_col5\" class=\"data row9 col5\" >0.7430</td>\n",
       "      <td id=\"T_7ef83_row9_col6\" class=\"data row9 col6\" >0.3178</td>\n",
       "      <td id=\"T_7ef83_row9_col7\" class=\"data row9 col7\" >0.3478</td>\n",
       "      <td id=\"T_7ef83_row9_col8\" class=\"data row9 col8\" >0.0600</td>\n",
       "    </tr>\n",
       "    <tr>\n",
       "      <th id=\"T_7ef83_level0_row10\" class=\"row_heading level0 row10\" >knn</th>\n",
       "      <td id=\"T_7ef83_row10_col0\" class=\"data row10 col0\" >K Neighbors Classifier</td>\n",
       "      <td id=\"T_7ef83_row10_col1\" class=\"data row10 col1\" >0.6668</td>\n",
       "      <td id=\"T_7ef83_row10_col2\" class=\"data row10 col2\" >0.7092</td>\n",
       "      <td id=\"T_7ef83_row10_col3\" class=\"data row10 col3\" >0.6709</td>\n",
       "      <td id=\"T_7ef83_row10_col4\" class=\"data row10 col4\" >0.8444</td>\n",
       "      <td id=\"T_7ef83_row10_col5\" class=\"data row10 col5\" >0.7477</td>\n",
       "      <td id=\"T_7ef83_row10_col6\" class=\"data row10 col6\" >0.2755</td>\n",
       "      <td id=\"T_7ef83_row10_col7\" class=\"data row10 col7\" >0.2917</td>\n",
       "      <td id=\"T_7ef83_row10_col8\" class=\"data row10 col8\" >0.1500</td>\n",
       "    </tr>\n",
       "    <tr>\n",
       "      <th id=\"T_7ef83_level0_row11\" class=\"row_heading level0 row11\" >qda</th>\n",
       "      <td id=\"T_7ef83_row11_col0\" class=\"data row11 col0\" >Quadratic Discriminant Analysis</td>\n",
       "      <td id=\"T_7ef83_row11_col1\" class=\"data row11 col1\" >0.6626</td>\n",
       "      <td id=\"T_7ef83_row11_col2\" class=\"data row11 col2\" >0.7503</td>\n",
       "      <td id=\"T_7ef83_row11_col3\" class=\"data row11 col3\" >0.6285</td>\n",
       "      <td id=\"T_7ef83_row11_col4\" class=\"data row11 col4\" >0.8786</td>\n",
       "      <td id=\"T_7ef83_row11_col5\" class=\"data row11 col5\" >0.7328</td>\n",
       "      <td id=\"T_7ef83_row11_col6\" class=\"data row11 col6\" >0.3080</td>\n",
       "      <td id=\"T_7ef83_row11_col7\" class=\"data row11 col7\" >0.3411</td>\n",
       "      <td id=\"T_7ef83_row11_col8\" class=\"data row11 col8\" >0.1000</td>\n",
       "    </tr>\n",
       "    <tr>\n",
       "      <th id=\"T_7ef83_level0_row12\" class=\"row_heading level0 row12\" >nb</th>\n",
       "      <td id=\"T_7ef83_row12_col0\" class=\"data row12 col0\" >Naive Bayes</td>\n",
       "      <td id=\"T_7ef83_row12_col1\" class=\"data row12 col1\" >0.6117</td>\n",
       "      <td id=\"T_7ef83_row12_col2\" class=\"data row12 col2\" >0.7200</td>\n",
       "      <td id=\"T_7ef83_row12_col3\" class=\"data row12 col3\" >0.5543</td>\n",
       "      <td id=\"T_7ef83_row12_col4\" class=\"data row12 col4\" >0.8712</td>\n",
       "      <td id=\"T_7ef83_row12_col5\" class=\"data row12 col5\" >0.6776</td>\n",
       "      <td id=\"T_7ef83_row12_col6\" class=\"data row12 col6\" >0.2459</td>\n",
       "      <td id=\"T_7ef83_row12_col7\" class=\"data row12 col7\" >0.2879</td>\n",
       "      <td id=\"T_7ef83_row12_col8\" class=\"data row12 col8\" >0.0600</td>\n",
       "    </tr>\n",
       "    <tr>\n",
       "      <th id=\"T_7ef83_level0_row13\" class=\"row_heading level0 row13\" >svm</th>\n",
       "      <td id=\"T_7ef83_row13_col0\" class=\"data row13 col0\" >SVM - Linear Kernel</td>\n",
       "      <td id=\"T_7ef83_row13_col1\" class=\"data row13 col1\" >0.5604</td>\n",
       "      <td id=\"T_7ef83_row13_col2\" class=\"data row13 col2\" >0.6712</td>\n",
       "      <td id=\"T_7ef83_row13_col3\" class=\"data row13 col3\" >0.4364</td>\n",
       "      <td id=\"T_7ef83_row13_col4\" class=\"data row13 col4\" >0.9283</td>\n",
       "      <td id=\"T_7ef83_row13_col5\" class=\"data row13 col5\" >0.5937</td>\n",
       "      <td id=\"T_7ef83_row13_col6\" class=\"data row13 col6\" >0.2323</td>\n",
       "      <td id=\"T_7ef83_row13_col7\" class=\"data row13 col7\" >0.3173</td>\n",
       "      <td id=\"T_7ef83_row13_col8\" class=\"data row13 col8\" >1.4900</td>\n",
       "    </tr>\n",
       "    <tr>\n",
       "      <th id=\"T_7ef83_level0_row14\" class=\"row_heading level0 row14\" >dummy</th>\n",
       "      <td id=\"T_7ef83_row14_col0\" class=\"data row14 col0\" >Dummy Classifier</td>\n",
       "      <td id=\"T_7ef83_row14_col1\" class=\"data row14 col1\" >0.2640</td>\n",
       "      <td id=\"T_7ef83_row14_col2\" class=\"data row14 col2\" >0.5000</td>\n",
       "      <td id=\"T_7ef83_row14_col3\" class=\"data row14 col3\" >0.0000</td>\n",
       "      <td id=\"T_7ef83_row14_col4\" class=\"data row14 col4\" >0.0000</td>\n",
       "      <td id=\"T_7ef83_row14_col5\" class=\"data row14 col5\" >0.0000</td>\n",
       "      <td id=\"T_7ef83_row14_col6\" class=\"data row14 col6\" >0.0000</td>\n",
       "      <td id=\"T_7ef83_row14_col7\" class=\"data row14 col7\" >0.0000</td>\n",
       "      <td id=\"T_7ef83_row14_col8\" class=\"data row14 col8\" >0.0500</td>\n",
       "    </tr>\n",
       "  </tbody>\n",
       "</table>\n"
      ],
      "text/plain": [
       "<pandas.io.formats.style.Styler at 0x21ed164b3d0>"
      ]
     },
     "metadata": {},
     "output_type": "display_data"
    },
    {
     "data": {
      "text/html": [],
      "text/plain": [
       "<IPython.core.display.HTML object>"
      ]
     },
     "metadata": {},
     "output_type": "display_data"
    }
   ],
   "source": [
    "best3=compare_models(cross_validation=False)"
   ]
  },
  {
   "cell_type": "code",
   "execution_count": 119,
   "metadata": {},
   "outputs": [
    {
     "data": {
      "text/html": [
       "<style type=\"text/css\">\n",
       "#T_29c97_row8_col1, #T_29c97_row13_col1 {\n",
       "  background-color: lightgreen;\n",
       "}\n",
       "</style>\n",
       "<table id=\"T_29c97\">\n",
       "  <thead>\n",
       "    <tr>\n",
       "      <th class=\"blank level0\" >&nbsp;</th>\n",
       "      <th id=\"T_29c97_level0_col0\" class=\"col_heading level0 col0\" >Description</th>\n",
       "      <th id=\"T_29c97_level0_col1\" class=\"col_heading level0 col1\" >Value</th>\n",
       "    </tr>\n",
       "  </thead>\n",
       "  <tbody>\n",
       "    <tr>\n",
       "      <th id=\"T_29c97_level0_row0\" class=\"row_heading level0 row0\" >0</th>\n",
       "      <td id=\"T_29c97_row0_col0\" class=\"data row0 col0\" >Session id</td>\n",
       "      <td id=\"T_29c97_row0_col1\" class=\"data row0 col1\" >567</td>\n",
       "    </tr>\n",
       "    <tr>\n",
       "      <th id=\"T_29c97_level0_row1\" class=\"row_heading level0 row1\" >1</th>\n",
       "      <td id=\"T_29c97_row1_col0\" class=\"data row1 col0\" >Target</td>\n",
       "      <td id=\"T_29c97_row1_col1\" class=\"data row1 col1\" >Pl</td>\n",
       "    </tr>\n",
       "    <tr>\n",
       "      <th id=\"T_29c97_level0_row2\" class=\"row_heading level0 row2\" >2</th>\n",
       "      <td id=\"T_29c97_row2_col0\" class=\"data row2 col0\" >Target type</td>\n",
       "      <td id=\"T_29c97_row2_col1\" class=\"data row2 col1\" >Binary</td>\n",
       "    </tr>\n",
       "    <tr>\n",
       "      <th id=\"T_29c97_level0_row3\" class=\"row_heading level0 row3\" >3</th>\n",
       "      <td id=\"T_29c97_row3_col0\" class=\"data row3 col0\" >Original data shape</td>\n",
       "      <td id=\"T_29c97_row3_col1\" class=\"data row3 col1\" >(45261, 9)</td>\n",
       "    </tr>\n",
       "    <tr>\n",
       "      <th id=\"T_29c97_level0_row4\" class=\"row_heading level0 row4\" >4</th>\n",
       "      <td id=\"T_29c97_row4_col0\" class=\"data row4 col0\" >Transformed data shape</td>\n",
       "      <td id=\"T_29c97_row4_col1\" class=\"data row4 col1\" >(35638, 9)</td>\n",
       "    </tr>\n",
       "    <tr>\n",
       "      <th id=\"T_29c97_level0_row5\" class=\"row_heading level0 row5\" >5</th>\n",
       "      <td id=\"T_29c97_row5_col0\" class=\"data row5 col0\" >Transformed train set shape</td>\n",
       "      <td id=\"T_29c97_row5_col1\" class=\"data row5 col1\" >(22074, 9)</td>\n",
       "    </tr>\n",
       "    <tr>\n",
       "      <th id=\"T_29c97_level0_row6\" class=\"row_heading level0 row6\" >6</th>\n",
       "      <td id=\"T_29c97_row6_col0\" class=\"data row6 col0\" >Transformed test set shape</td>\n",
       "      <td id=\"T_29c97_row6_col1\" class=\"data row6 col1\" >(13579, 9)</td>\n",
       "    </tr>\n",
       "    <tr>\n",
       "      <th id=\"T_29c97_level0_row7\" class=\"row_heading level0 row7\" >7</th>\n",
       "      <td id=\"T_29c97_row7_col0\" class=\"data row7 col0\" >Numeric features</td>\n",
       "      <td id=\"T_29c97_row7_col1\" class=\"data row7 col1\" >8</td>\n",
       "    </tr>\n",
       "    <tr>\n",
       "      <th id=\"T_29c97_level0_row8\" class=\"row_heading level0 row8\" >8</th>\n",
       "      <td id=\"T_29c97_row8_col0\" class=\"data row8 col0\" >Preprocess</td>\n",
       "      <td id=\"T_29c97_row8_col1\" class=\"data row8 col1\" >True</td>\n",
       "    </tr>\n",
       "    <tr>\n",
       "      <th id=\"T_29c97_level0_row9\" class=\"row_heading level0 row9\" >9</th>\n",
       "      <td id=\"T_29c97_row9_col0\" class=\"data row9 col0\" >Imputation type</td>\n",
       "      <td id=\"T_29c97_row9_col1\" class=\"data row9 col1\" >simple</td>\n",
       "    </tr>\n",
       "    <tr>\n",
       "      <th id=\"T_29c97_level0_row10\" class=\"row_heading level0 row10\" >10</th>\n",
       "      <td id=\"T_29c97_row10_col0\" class=\"data row10 col0\" >Numeric imputation</td>\n",
       "      <td id=\"T_29c97_row10_col1\" class=\"data row10 col1\" >mean</td>\n",
       "    </tr>\n",
       "    <tr>\n",
       "      <th id=\"T_29c97_level0_row11\" class=\"row_heading level0 row11\" >11</th>\n",
       "      <td id=\"T_29c97_row11_col0\" class=\"data row11 col0\" >Categorical imputation</td>\n",
       "      <td id=\"T_29c97_row11_col1\" class=\"data row11 col1\" >constant</td>\n",
       "    </tr>\n",
       "    <tr>\n",
       "      <th id=\"T_29c97_level0_row12\" class=\"row_heading level0 row12\" >12</th>\n",
       "      <td id=\"T_29c97_row12_col0\" class=\"data row12 col0\" >Low variance threshold</td>\n",
       "      <td id=\"T_29c97_row12_col1\" class=\"data row12 col1\" >0</td>\n",
       "    </tr>\n",
       "    <tr>\n",
       "      <th id=\"T_29c97_level0_row13\" class=\"row_heading level0 row13\" >13</th>\n",
       "      <td id=\"T_29c97_row13_col0\" class=\"data row13 col0\" >Fix imbalance</td>\n",
       "      <td id=\"T_29c97_row13_col1\" class=\"data row13 col1\" >True</td>\n",
       "    </tr>\n",
       "    <tr>\n",
       "      <th id=\"T_29c97_level0_row14\" class=\"row_heading level0 row14\" >14</th>\n",
       "      <td id=\"T_29c97_row14_col0\" class=\"data row14 col0\" >Fix imbalance method</td>\n",
       "      <td id=\"T_29c97_row14_col1\" class=\"data row14 col1\" >RandomUnderSampler(random_state=None, replacement=False,\n",
       "                   sampling_strategy='auto')</td>\n",
       "    </tr>\n",
       "    <tr>\n",
       "      <th id=\"T_29c97_level0_row15\" class=\"row_heading level0 row15\" >15</th>\n",
       "      <td id=\"T_29c97_row15_col0\" class=\"data row15 col0\" >Fold Generator</td>\n",
       "      <td id=\"T_29c97_row15_col1\" class=\"data row15 col1\" >StratifiedKFold</td>\n",
       "    </tr>\n",
       "    <tr>\n",
       "      <th id=\"T_29c97_level0_row16\" class=\"row_heading level0 row16\" >16</th>\n",
       "      <td id=\"T_29c97_row16_col0\" class=\"data row16 col0\" >Fold Number</td>\n",
       "      <td id=\"T_29c97_row16_col1\" class=\"data row16 col1\" >10</td>\n",
       "    </tr>\n",
       "    <tr>\n",
       "      <th id=\"T_29c97_level0_row17\" class=\"row_heading level0 row17\" >17</th>\n",
       "      <td id=\"T_29c97_row17_col0\" class=\"data row17 col0\" >CPU Jobs</td>\n",
       "      <td id=\"T_29c97_row17_col1\" class=\"data row17 col1\" >-1</td>\n",
       "    </tr>\n",
       "    <tr>\n",
       "      <th id=\"T_29c97_level0_row18\" class=\"row_heading level0 row18\" >18</th>\n",
       "      <td id=\"T_29c97_row18_col0\" class=\"data row18 col0\" >Use GPU</td>\n",
       "      <td id=\"T_29c97_row18_col1\" class=\"data row18 col1\" >False</td>\n",
       "    </tr>\n",
       "    <tr>\n",
       "      <th id=\"T_29c97_level0_row19\" class=\"row_heading level0 row19\" >19</th>\n",
       "      <td id=\"T_29c97_row19_col0\" class=\"data row19 col0\" >Log Experiment</td>\n",
       "      <td id=\"T_29c97_row19_col1\" class=\"data row19 col1\" >False</td>\n",
       "    </tr>\n",
       "    <tr>\n",
       "      <th id=\"T_29c97_level0_row20\" class=\"row_heading level0 row20\" >20</th>\n",
       "      <td id=\"T_29c97_row20_col0\" class=\"data row20 col0\" >Experiment Name</td>\n",
       "      <td id=\"T_29c97_row20_col1\" class=\"data row20 col1\" >clf-default-name</td>\n",
       "    </tr>\n",
       "    <tr>\n",
       "      <th id=\"T_29c97_level0_row21\" class=\"row_heading level0 row21\" >21</th>\n",
       "      <td id=\"T_29c97_row21_col0\" class=\"data row21 col0\" >USI</td>\n",
       "      <td id=\"T_29c97_row21_col1\" class=\"data row21 col1\" >3d17</td>\n",
       "    </tr>\n",
       "  </tbody>\n",
       "</table>\n"
      ],
      "text/plain": [
       "<pandas.io.formats.style.Styler at 0x21e57566dd0>"
      ]
     },
     "metadata": {},
     "output_type": "display_data"
    }
   ],
   "source": [
    "# Using Random Under Sampler method to fix imbalance data\n",
    "from pycaret.classification import *\n",
    "s4= setup (df,target='Pl',fix_imbalance=True,\n",
    "fix_imbalance_method=imblearn.under_sampling.RandomUnderSampler())"
   ]
  },
  {
   "cell_type": "code",
   "execution_count": 120,
   "metadata": {},
   "outputs": [
    {
     "data": {
      "text/html": [],
      "text/plain": [
       "<IPython.core.display.HTML object>"
      ]
     },
     "metadata": {},
     "output_type": "display_data"
    },
    {
     "data": {
      "text/html": [
       "<style type=\"text/css\">\n",
       "#T_acbe8 th {\n",
       "  text-align: left;\n",
       "}\n",
       "#T_acbe8_row0_col0, #T_acbe8_row0_col3, #T_acbe8_row0_col4, #T_acbe8_row0_col5, #T_acbe8_row1_col0, #T_acbe8_row1_col1, #T_acbe8_row1_col2, #T_acbe8_row1_col4, #T_acbe8_row1_col6, #T_acbe8_row1_col7, #T_acbe8_row2_col0, #T_acbe8_row2_col1, #T_acbe8_row2_col2, #T_acbe8_row2_col3, #T_acbe8_row2_col4, #T_acbe8_row2_col5, #T_acbe8_row2_col6, #T_acbe8_row2_col7, #T_acbe8_row3_col0, #T_acbe8_row3_col1, #T_acbe8_row3_col2, #T_acbe8_row3_col3, #T_acbe8_row3_col4, #T_acbe8_row3_col5, #T_acbe8_row3_col6, #T_acbe8_row3_col7, #T_acbe8_row4_col0, #T_acbe8_row4_col1, #T_acbe8_row4_col2, #T_acbe8_row4_col3, #T_acbe8_row4_col4, #T_acbe8_row4_col5, #T_acbe8_row4_col6, #T_acbe8_row4_col7, #T_acbe8_row5_col0, #T_acbe8_row5_col1, #T_acbe8_row5_col2, #T_acbe8_row5_col3, #T_acbe8_row5_col4, #T_acbe8_row5_col5, #T_acbe8_row5_col6, #T_acbe8_row5_col7, #T_acbe8_row6_col0, #T_acbe8_row6_col1, #T_acbe8_row6_col2, #T_acbe8_row6_col3, #T_acbe8_row6_col4, #T_acbe8_row6_col5, #T_acbe8_row6_col6, #T_acbe8_row6_col7, #T_acbe8_row7_col0, #T_acbe8_row7_col1, #T_acbe8_row7_col2, #T_acbe8_row7_col3, #T_acbe8_row7_col4, #T_acbe8_row7_col5, #T_acbe8_row7_col6, #T_acbe8_row7_col7, #T_acbe8_row8_col0, #T_acbe8_row8_col1, #T_acbe8_row8_col2, #T_acbe8_row8_col3, #T_acbe8_row8_col4, #T_acbe8_row8_col5, #T_acbe8_row8_col6, #T_acbe8_row8_col7, #T_acbe8_row9_col0, #T_acbe8_row9_col1, #T_acbe8_row9_col2, #T_acbe8_row9_col3, #T_acbe8_row9_col4, #T_acbe8_row9_col5, #T_acbe8_row9_col6, #T_acbe8_row9_col7, #T_acbe8_row10_col0, #T_acbe8_row10_col1, #T_acbe8_row10_col2, #T_acbe8_row10_col3, #T_acbe8_row10_col4, #T_acbe8_row10_col5, #T_acbe8_row10_col6, #T_acbe8_row10_col7, #T_acbe8_row11_col0, #T_acbe8_row11_col1, #T_acbe8_row11_col2, #T_acbe8_row11_col3, #T_acbe8_row11_col4, #T_acbe8_row11_col5, #T_acbe8_row11_col6, #T_acbe8_row11_col7, #T_acbe8_row12_col0, #T_acbe8_row12_col1, #T_acbe8_row12_col2, #T_acbe8_row12_col3, #T_acbe8_row12_col4, #T_acbe8_row12_col5, #T_acbe8_row12_col6, #T_acbe8_row12_col7, #T_acbe8_row13_col0, #T_acbe8_row13_col1, #T_acbe8_row13_col2, #T_acbe8_row13_col3, #T_acbe8_row13_col5, #T_acbe8_row13_col6, #T_acbe8_row13_col7, #T_acbe8_row14_col0, #T_acbe8_row14_col1, #T_acbe8_row14_col2, #T_acbe8_row14_col3, #T_acbe8_row14_col4, #T_acbe8_row14_col5, #T_acbe8_row14_col6, #T_acbe8_row14_col7 {\n",
       "  text-align: left;\n",
       "}\n",
       "#T_acbe8_row0_col1, #T_acbe8_row0_col2, #T_acbe8_row0_col6, #T_acbe8_row0_col7, #T_acbe8_row1_col3, #T_acbe8_row1_col5, #T_acbe8_row13_col4 {\n",
       "  text-align: left;\n",
       "  background-color: yellow;\n",
       "}\n",
       "#T_acbe8_row0_col8, #T_acbe8_row1_col8, #T_acbe8_row2_col8, #T_acbe8_row3_col8, #T_acbe8_row4_col8, #T_acbe8_row5_col8, #T_acbe8_row6_col8, #T_acbe8_row7_col8, #T_acbe8_row8_col8, #T_acbe8_row9_col8, #T_acbe8_row10_col8, #T_acbe8_row11_col8, #T_acbe8_row12_col8, #T_acbe8_row13_col8 {\n",
       "  text-align: left;\n",
       "  background-color: lightgrey;\n",
       "}\n",
       "#T_acbe8_row14_col8 {\n",
       "  text-align: left;\n",
       "  background-color: yellow;\n",
       "  background-color: lightgrey;\n",
       "}\n",
       "</style>\n",
       "<table id=\"T_acbe8\">\n",
       "  <thead>\n",
       "    <tr>\n",
       "      <th class=\"blank level0\" >&nbsp;</th>\n",
       "      <th id=\"T_acbe8_level0_col0\" class=\"col_heading level0 col0\" >Model</th>\n",
       "      <th id=\"T_acbe8_level0_col1\" class=\"col_heading level0 col1\" >Accuracy</th>\n",
       "      <th id=\"T_acbe8_level0_col2\" class=\"col_heading level0 col2\" >AUC</th>\n",
       "      <th id=\"T_acbe8_level0_col3\" class=\"col_heading level0 col3\" >Recall</th>\n",
       "      <th id=\"T_acbe8_level0_col4\" class=\"col_heading level0 col4\" >Prec.</th>\n",
       "      <th id=\"T_acbe8_level0_col5\" class=\"col_heading level0 col5\" >F1</th>\n",
       "      <th id=\"T_acbe8_level0_col6\" class=\"col_heading level0 col6\" >Kappa</th>\n",
       "      <th id=\"T_acbe8_level0_col7\" class=\"col_heading level0 col7\" >MCC</th>\n",
       "      <th id=\"T_acbe8_level0_col8\" class=\"col_heading level0 col8\" >TT (Sec)</th>\n",
       "    </tr>\n",
       "  </thead>\n",
       "  <tbody>\n",
       "    <tr>\n",
       "      <th id=\"T_acbe8_level0_row0\" class=\"row_heading level0 row0\" >lightgbm</th>\n",
       "      <td id=\"T_acbe8_row0_col0\" class=\"data row0 col0\" >Light Gradient Boosting Machine</td>\n",
       "      <td id=\"T_acbe8_row0_col1\" class=\"data row0 col1\" >0.7151</td>\n",
       "      <td id=\"T_acbe8_row0_col2\" class=\"data row0 col2\" >0.8020</td>\n",
       "      <td id=\"T_acbe8_row0_col3\" class=\"data row0 col3\" >0.6941</td>\n",
       "      <td id=\"T_acbe8_row0_col4\" class=\"data row0 col4\" >0.8952</td>\n",
       "      <td id=\"T_acbe8_row0_col5\" class=\"data row0 col5\" >0.7819</td>\n",
       "      <td id=\"T_acbe8_row0_col6\" class=\"data row0 col6\" >0.3894</td>\n",
       "      <td id=\"T_acbe8_row0_col7\" class=\"data row0 col7\" >0.4164</td>\n",
       "      <td id=\"T_acbe8_row0_col8\" class=\"data row0 col8\" >0.2200</td>\n",
       "    </tr>\n",
       "    <tr>\n",
       "      <th id=\"T_acbe8_level0_row1\" class=\"row_heading level0 row1\" >xgboost</th>\n",
       "      <td id=\"T_acbe8_row1_col0\" class=\"data row1 col0\" >Extreme Gradient Boosting</td>\n",
       "      <td id=\"T_acbe8_row1_col1\" class=\"data row1 col1\" >0.7134</td>\n",
       "      <td id=\"T_acbe8_row1_col2\" class=\"data row1 col2\" >0.7929</td>\n",
       "      <td id=\"T_acbe8_row1_col3\" class=\"data row1 col3\" >0.6996</td>\n",
       "      <td id=\"T_acbe8_row1_col4\" class=\"data row1 col4\" >0.8871</td>\n",
       "      <td id=\"T_acbe8_row1_col5\" class=\"data row1 col5\" >0.7823</td>\n",
       "      <td id=\"T_acbe8_row1_col6\" class=\"data row1 col6\" >0.3796</td>\n",
       "      <td id=\"T_acbe8_row1_col7\" class=\"data row1 col7\" >0.4032</td>\n",
       "      <td id=\"T_acbe8_row1_col8\" class=\"data row1 col8\" >0.7900</td>\n",
       "    </tr>\n",
       "    <tr>\n",
       "      <th id=\"T_acbe8_level0_row2\" class=\"row_heading level0 row2\" >gbc</th>\n",
       "      <td id=\"T_acbe8_row2_col0\" class=\"data row2 col0\" >Gradient Boosting Classifier</td>\n",
       "      <td id=\"T_acbe8_row2_col1\" class=\"data row2 col1\" >0.7026</td>\n",
       "      <td id=\"T_acbe8_row2_col2\" class=\"data row2 col2\" >0.7936</td>\n",
       "      <td id=\"T_acbe8_row2_col3\" class=\"data row2 col3\" >0.6778</td>\n",
       "      <td id=\"T_acbe8_row2_col4\" class=\"data row2 col4\" >0.8921</td>\n",
       "      <td id=\"T_acbe8_row2_col5\" class=\"data row2 col5\" >0.7703</td>\n",
       "      <td id=\"T_acbe8_row2_col6\" class=\"data row2 col6\" >0.3699</td>\n",
       "      <td id=\"T_acbe8_row2_col7\" class=\"data row2 col7\" >0.3990</td>\n",
       "      <td id=\"T_acbe8_row2_col8\" class=\"data row2 col8\" >2.2000</td>\n",
       "    </tr>\n",
       "    <tr>\n",
       "      <th id=\"T_acbe8_level0_row3\" class=\"row_heading level0 row3\" >rf</th>\n",
       "      <td id=\"T_acbe8_row3_col0\" class=\"data row3 col0\" >Random Forest Classifier</td>\n",
       "      <td id=\"T_acbe8_row3_col1\" class=\"data row3 col1\" >0.6933</td>\n",
       "      <td id=\"T_acbe8_row3_col2\" class=\"data row3 col2\" >0.7793</td>\n",
       "      <td id=\"T_acbe8_row3_col3\" class=\"data row3 col3\" >0.6712</td>\n",
       "      <td id=\"T_acbe8_row3_col4\" class=\"data row3 col4\" >0.8841</td>\n",
       "      <td id=\"T_acbe8_row3_col5\" class=\"data row3 col5\" >0.7631</td>\n",
       "      <td id=\"T_acbe8_row3_col6\" class=\"data row3 col6\" >0.3505</td>\n",
       "      <td id=\"T_acbe8_row3_col7\" class=\"data row3 col7\" >0.3782</td>\n",
       "      <td id=\"T_acbe8_row3_col8\" class=\"data row3 col8\" >0.9000</td>\n",
       "    </tr>\n",
       "    <tr>\n",
       "      <th id=\"T_acbe8_level0_row4\" class=\"row_heading level0 row4\" >et</th>\n",
       "      <td id=\"T_acbe8_row4_col0\" class=\"data row4 col0\" >Extra Trees Classifier</td>\n",
       "      <td id=\"T_acbe8_row4_col1\" class=\"data row4 col1\" >0.6906</td>\n",
       "      <td id=\"T_acbe8_row4_col2\" class=\"data row4 col2\" >0.7699</td>\n",
       "      <td id=\"T_acbe8_row4_col3\" class=\"data row4 col3\" >0.6776</td>\n",
       "      <td id=\"T_acbe8_row4_col4\" class=\"data row4 col4\" >0.8737</td>\n",
       "      <td id=\"T_acbe8_row4_col5\" class=\"data row4 col5\" >0.7633</td>\n",
       "      <td id=\"T_acbe8_row4_col6\" class=\"data row4 col6\" >0.3369</td>\n",
       "      <td id=\"T_acbe8_row4_col7\" class=\"data row4 col7\" >0.3603</td>\n",
       "      <td id=\"T_acbe8_row4_col8\" class=\"data row4 col8\" >0.8300</td>\n",
       "    </tr>\n",
       "    <tr>\n",
       "      <th id=\"T_acbe8_level0_row5\" class=\"row_heading level0 row5\" >ada</th>\n",
       "      <td id=\"T_acbe8_row5_col0\" class=\"data row5 col0\" >Ada Boost Classifier</td>\n",
       "      <td id=\"T_acbe8_row5_col1\" class=\"data row5 col1\" >0.6890</td>\n",
       "      <td id=\"T_acbe8_row5_col2\" class=\"data row5 col2\" >0.7776</td>\n",
       "      <td id=\"T_acbe8_row5_col3\" class=\"data row5 col3\" >0.6672</td>\n",
       "      <td id=\"T_acbe8_row5_col4\" class=\"data row5 col4\" >0.8814</td>\n",
       "      <td id=\"T_acbe8_row5_col5\" class=\"data row5 col5\" >0.7595</td>\n",
       "      <td id=\"T_acbe8_row5_col6\" class=\"data row5 col6\" >0.3426</td>\n",
       "      <td id=\"T_acbe8_row5_col7\" class=\"data row5 col7\" >0.3700</td>\n",
       "      <td id=\"T_acbe8_row5_col8\" class=\"data row5 col8\" >0.6400</td>\n",
       "    </tr>\n",
       "    <tr>\n",
       "      <th id=\"T_acbe8_level0_row6\" class=\"row_heading level0 row6\" >lr</th>\n",
       "      <td id=\"T_acbe8_row6_col0\" class=\"data row6 col0\" >Logistic Regression</td>\n",
       "      <td id=\"T_acbe8_row6_col1\" class=\"data row6 col1\" >0.6837</td>\n",
       "      <td id=\"T_acbe8_row6_col2\" class=\"data row6 col2\" >0.7678</td>\n",
       "      <td id=\"T_acbe8_row6_col3\" class=\"data row6 col3\" >0.6593</td>\n",
       "      <td id=\"T_acbe8_row6_col4\" class=\"data row6 col4\" >0.8810</td>\n",
       "      <td id=\"T_acbe8_row6_col5\" class=\"data row6 col5\" >0.7542</td>\n",
       "      <td id=\"T_acbe8_row6_col6\" class=\"data row6 col6\" >0.3356</td>\n",
       "      <td id=\"T_acbe8_row6_col7\" class=\"data row6 col7\" >0.3643</td>\n",
       "      <td id=\"T_acbe8_row6_col8\" class=\"data row6 col8\" >0.2600</td>\n",
       "    </tr>\n",
       "    <tr>\n",
       "      <th id=\"T_acbe8_level0_row7\" class=\"row_heading level0 row7\" >lda</th>\n",
       "      <td id=\"T_acbe8_row7_col0\" class=\"data row7 col0\" >Linear Discriminant Analysis</td>\n",
       "      <td id=\"T_acbe8_row7_col1\" class=\"data row7 col1\" >0.6775</td>\n",
       "      <td id=\"T_acbe8_row7_col2\" class=\"data row7 col2\" >0.7696</td>\n",
       "      <td id=\"T_acbe8_row7_col3\" class=\"data row7 col3\" >0.6463</td>\n",
       "      <td id=\"T_acbe8_row7_col4\" class=\"data row7 col4\" >0.8844</td>\n",
       "      <td id=\"T_acbe8_row7_col5\" class=\"data row7 col5\" >0.7468</td>\n",
       "      <td id=\"T_acbe8_row7_col6\" class=\"data row7 col6\" >0.3312</td>\n",
       "      <td id=\"T_acbe8_row7_col7\" class=\"data row7 col7\" >0.3633</td>\n",
       "      <td id=\"T_acbe8_row7_col8\" class=\"data row7 col8\" >0.0700</td>\n",
       "    </tr>\n",
       "    <tr>\n",
       "      <th id=\"T_acbe8_level0_row8\" class=\"row_heading level0 row8\" >knn</th>\n",
       "      <td id=\"T_acbe8_row8_col0\" class=\"data row8 col0\" >K Neighbors Classifier</td>\n",
       "      <td id=\"T_acbe8_row8_col1\" class=\"data row8 col1\" >0.6760</td>\n",
       "      <td id=\"T_acbe8_row8_col2\" class=\"data row8 col2\" >0.7366</td>\n",
       "      <td id=\"T_acbe8_row8_col3\" class=\"data row8 col3\" >0.6677</td>\n",
       "      <td id=\"T_acbe8_row8_col4\" class=\"data row8 col4\" >0.8609</td>\n",
       "      <td id=\"T_acbe8_row8_col5\" class=\"data row8 col5\" >0.7521</td>\n",
       "      <td id=\"T_acbe8_row8_col6\" class=\"data row8 col6\" >0.3057</td>\n",
       "      <td id=\"T_acbe8_row8_col7\" class=\"data row8 col7\" >0.3268</td>\n",
       "      <td id=\"T_acbe8_row8_col8\" class=\"data row8 col8\" >0.0900</td>\n",
       "    </tr>\n",
       "    <tr>\n",
       "      <th id=\"T_acbe8_level0_row9\" class=\"row_heading level0 row9\" >ridge</th>\n",
       "      <td id=\"T_acbe8_row9_col0\" class=\"data row9 col0\" >Ridge Classifier</td>\n",
       "      <td id=\"T_acbe8_row9_col1\" class=\"data row9 col1\" >0.6755</td>\n",
       "      <td id=\"T_acbe8_row9_col2\" class=\"data row9 col2\" >0.7038</td>\n",
       "      <td id=\"T_acbe8_row9_col3\" class=\"data row9 col3\" >0.6439</td>\n",
       "      <td id=\"T_acbe8_row9_col4\" class=\"data row9 col4\" >0.8837</td>\n",
       "      <td id=\"T_acbe8_row9_col5\" class=\"data row9 col5\" >0.7450</td>\n",
       "      <td id=\"T_acbe8_row9_col6\" class=\"data row9 col6\" >0.3281</td>\n",
       "      <td id=\"T_acbe8_row9_col7\" class=\"data row9 col7\" >0.3603</td>\n",
       "      <td id=\"T_acbe8_row9_col8\" class=\"data row9 col8\" >0.0500</td>\n",
       "    </tr>\n",
       "    <tr>\n",
       "      <th id=\"T_acbe8_level0_row10\" class=\"row_heading level0 row10\" >qda</th>\n",
       "      <td id=\"T_acbe8_row10_col0\" class=\"data row10 col0\" >Quadratic Discriminant Analysis</td>\n",
       "      <td id=\"T_acbe8_row10_col1\" class=\"data row10 col1\" >0.6683</td>\n",
       "      <td id=\"T_acbe8_row10_col2\" class=\"data row10 col2\" >0.7516</td>\n",
       "      <td id=\"T_acbe8_row10_col3\" class=\"data row10 col3\" >0.6342</td>\n",
       "      <td id=\"T_acbe8_row10_col4\" class=\"data row10 col4\" >0.8820</td>\n",
       "      <td id=\"T_acbe8_row10_col5\" class=\"data row10 col5\" >0.7378</td>\n",
       "      <td id=\"T_acbe8_row10_col6\" class=\"data row10 col6\" >0.3178</td>\n",
       "      <td id=\"T_acbe8_row10_col7\" class=\"data row10 col7\" >0.3512</td>\n",
       "      <td id=\"T_acbe8_row10_col8\" class=\"data row10 col8\" >0.0500</td>\n",
       "    </tr>\n",
       "    <tr>\n",
       "      <th id=\"T_acbe8_level0_row11\" class=\"row_heading level0 row11\" >dt</th>\n",
       "      <td id=\"T_acbe8_row11_col0\" class=\"data row11 col0\" >Decision Tree Classifier</td>\n",
       "      <td id=\"T_acbe8_row11_col1\" class=\"data row11 col1\" >0.6210</td>\n",
       "      <td id=\"T_acbe8_row11_col2\" class=\"data row11 col2\" >0.6208</td>\n",
       "      <td id=\"T_acbe8_row11_col3\" class=\"data row11 col3\" >0.6214</td>\n",
       "      <td id=\"T_acbe8_row11_col4\" class=\"data row11 col4\" >0.8201</td>\n",
       "      <td id=\"T_acbe8_row11_col5\" class=\"data row11 col5\" >0.7070</td>\n",
       "      <td id=\"T_acbe8_row11_col6\" class=\"data row11 col6\" >0.1985</td>\n",
       "      <td id=\"T_acbe8_row11_col7\" class=\"data row11 col7\" >0.2143</td>\n",
       "      <td id=\"T_acbe8_row11_col8\" class=\"data row11 col8\" >0.1500</td>\n",
       "    </tr>\n",
       "    <tr>\n",
       "      <th id=\"T_acbe8_level0_row12\" class=\"row_heading level0 row12\" >nb</th>\n",
       "      <td id=\"T_acbe8_row12_col0\" class=\"data row12 col0\" >Naive Bayes</td>\n",
       "      <td id=\"T_acbe8_row12_col1\" class=\"data row12 col1\" >0.6151</td>\n",
       "      <td id=\"T_acbe8_row12_col2\" class=\"data row12 col2\" >0.7226</td>\n",
       "      <td id=\"T_acbe8_row12_col3\" class=\"data row12 col3\" >0.5567</td>\n",
       "      <td id=\"T_acbe8_row12_col4\" class=\"data row12 col4\" >0.8747</td>\n",
       "      <td id=\"T_acbe8_row12_col5\" class=\"data row12 col5\" >0.6804</td>\n",
       "      <td id=\"T_acbe8_row12_col6\" class=\"data row12 col6\" >0.2524</td>\n",
       "      <td id=\"T_acbe8_row12_col7\" class=\"data row12 col7\" >0.2954</td>\n",
       "      <td id=\"T_acbe8_row12_col8\" class=\"data row12 col8\" >0.0600</td>\n",
       "    </tr>\n",
       "    <tr>\n",
       "      <th id=\"T_acbe8_level0_row13\" class=\"row_heading level0 row13\" >svm</th>\n",
       "      <td id=\"T_acbe8_row13_col0\" class=\"data row13 col0\" >SVM - Linear Kernel</td>\n",
       "      <td id=\"T_acbe8_row13_col1\" class=\"data row13 col1\" >0.3413</td>\n",
       "      <td id=\"T_acbe8_row13_col2\" class=\"data row13 col2\" >0.5489</td>\n",
       "      <td id=\"T_acbe8_row13_col3\" class=\"data row13 col3\" >0.1090</td>\n",
       "      <td id=\"T_acbe8_row13_col4\" class=\"data row13 col4\" >0.9646</td>\n",
       "      <td id=\"T_acbe8_row13_col5\" class=\"data row13 col5\" >0.1958</td>\n",
       "      <td id=\"T_acbe8_row13_col6\" class=\"data row13 col6\" >0.0546</td>\n",
       "      <td id=\"T_acbe8_row13_col7\" class=\"data row13 col7\" >0.1562</td>\n",
       "      <td id=\"T_acbe8_row13_col8\" class=\"data row13 col8\" >0.4900</td>\n",
       "    </tr>\n",
       "    <tr>\n",
       "      <th id=\"T_acbe8_level0_row14\" class=\"row_heading level0 row14\" >dummy</th>\n",
       "      <td id=\"T_acbe8_row14_col0\" class=\"data row14 col0\" >Dummy Classifier</td>\n",
       "      <td id=\"T_acbe8_row14_col1\" class=\"data row14 col1\" >0.2640</td>\n",
       "      <td id=\"T_acbe8_row14_col2\" class=\"data row14 col2\" >0.5000</td>\n",
       "      <td id=\"T_acbe8_row14_col3\" class=\"data row14 col3\" >0.0000</td>\n",
       "      <td id=\"T_acbe8_row14_col4\" class=\"data row14 col4\" >0.0000</td>\n",
       "      <td id=\"T_acbe8_row14_col5\" class=\"data row14 col5\" >0.0000</td>\n",
       "      <td id=\"T_acbe8_row14_col6\" class=\"data row14 col6\" >0.0000</td>\n",
       "      <td id=\"T_acbe8_row14_col7\" class=\"data row14 col7\" >0.0000</td>\n",
       "      <td id=\"T_acbe8_row14_col8\" class=\"data row14 col8\" >0.0400</td>\n",
       "    </tr>\n",
       "  </tbody>\n",
       "</table>\n"
      ],
      "text/plain": [
       "<pandas.io.formats.style.Styler at 0x21e00f13370>"
      ]
     },
     "metadata": {},
     "output_type": "display_data"
    },
    {
     "data": {
      "text/html": [],
      "text/plain": [
       "<IPython.core.display.HTML object>"
      ]
     },
     "metadata": {},
     "output_type": "display_data"
    }
   ],
   "source": [
    "best4=compare_models(cross_validation=False)"
   ]
  },
  {
   "cell_type": "markdown",
   "metadata": {},
   "source": [
    "SMOTE method to fix imbalance data give the highest accuracy compare with RandomOver Sampler and RandomUnderSampler."
   ]
  },
  {
   "cell_type": "code",
   "execution_count": 121,
   "metadata": {},
   "outputs": [
    {
     "name": "stdout",
     "output_type": "stream",
     "text": [
      "XGBClassifier(base_score=0.5, booster='gbtree', callbacks=None,\n",
      "              colsample_bylevel=1, colsample_bynode=1, colsample_bytree=1,\n",
      "              early_stopping_rounds=None, enable_categorical=False,\n",
      "              eval_metric=None, feature_types=None, gamma=0, gpu_id=-1,\n",
      "              grow_policy='depthwise', importance_type=None,\n",
      "              interaction_constraints='', learning_rate=0.300000012,\n",
      "              max_bin=256, max_cat_threshold=64, max_cat_to_onehot=4,\n",
      "              max_delta_step=0, max_depth=6, max_leaves=0, min_child_weight=1,\n",
      "              missing=nan, monotone_constraints='()', n_estimators=100,\n",
      "              n_jobs=-1, num_parallel_tree=1, objective='binary:logistic',\n",
      "              predictor='auto', ...)\n"
     ]
    }
   ],
   "source": [
    "print(best2)"
   ]
  },
  {
   "cell_type": "markdown",
   "metadata": {},
   "source": [
    "Top 5 Model fixed imbalance data by SMOTE method measured by accuracy<br>\n",
    "1. Extreme Gradient Boosting (xgboost) - 78.04%<br>\n",
    "2. Light Gradient Boosting Machine (lightgbm) - 77.47%<br>\n",
    "3. Random Forest Classifier (rf) - 74.35%<br>\n",
    "4. Extra Trees Classifier (et) - 74.25%<br>\n",
    "5. Gradient Boosting Classifier (gbc) - 73.32%"
   ]
  },
  {
   "cell_type": "markdown",
   "metadata": {},
   "source": [
    "### Conclusion <br>\n",
    "\n",
    "Hypothesis: Fixed imbalance data will give better accuracy compare to imbalance data. Hence, top 5 models in fixed imbalance data will be selected for ML training purpose. <br>\n",
    "1. Extreme Gradient Boosting (xgboost) <br>\n",
    "2. Light Gradient Boosting (lightgbm) <br>\n",
    "3. Gradient Boosting Classifier (gbc) <br>\n",
    "4. Random Forest Classifier (rf) <br>\n",
    "5. Extra Trees Classifier (et)"
   ]
  },
  {
   "cell_type": "markdown",
   "metadata": {},
   "source": [
    "Convert features as X and target as y"
   ]
  },
  {
   "cell_type": "code",
   "execution_count": 122,
   "metadata": {},
   "outputs": [
    {
     "data": {
      "text/html": [
       "<div>\n",
       "<style scoped>\n",
       "    .dataframe tbody tr th:only-of-type {\n",
       "        vertical-align: middle;\n",
       "    }\n",
       "\n",
       "    .dataframe tbody tr th {\n",
       "        vertical-align: top;\n",
       "    }\n",
       "\n",
       "    .dataframe thead th {\n",
       "        text-align: right;\n",
       "    }\n",
       "</style>\n",
       "<table border=\"1\" class=\"dataframe\">\n",
       "  <thead>\n",
       "    <tr style=\"text-align: right;\">\n",
       "      <th></th>\n",
       "      <th>Pl</th>\n",
       "      <th>Track</th>\n",
       "      <th>Last 800m</th>\n",
       "      <th>Last 400m</th>\n",
       "      <th>total second to finish</th>\n",
       "      <th>horse_id_freq_encode</th>\n",
       "      <th>jockey_id_freq_encode</th>\n",
       "      <th>trainer_id_freq_encode</th>\n",
       "      <th>owner_id_freq_encode</th>\n",
       "    </tr>\n",
       "  </thead>\n",
       "  <tbody>\n",
       "    <tr>\n",
       "      <th>0</th>\n",
       "      <td>1</td>\n",
       "      <td>1.2</td>\n",
       "      <td>8.0</td>\n",
       "      <td>9.0</td>\n",
       "      <td>71.0</td>\n",
       "      <td>0.000066</td>\n",
       "      <td>0.034776</td>\n",
       "      <td>0.036676</td>\n",
       "      <td>0.004507</td>\n",
       "    </tr>\n",
       "    <tr>\n",
       "      <th>1</th>\n",
       "      <td>1</td>\n",
       "      <td>1.2</td>\n",
       "      <td>8.0</td>\n",
       "      <td>9.0</td>\n",
       "      <td>71.0</td>\n",
       "      <td>0.000066</td>\n",
       "      <td>0.034776</td>\n",
       "      <td>0.036676</td>\n",
       "      <td>0.004507</td>\n",
       "    </tr>\n",
       "    <tr>\n",
       "      <th>2</th>\n",
       "      <td>1</td>\n",
       "      <td>1.2</td>\n",
       "      <td>8.0</td>\n",
       "      <td>7.0</td>\n",
       "      <td>70.0</td>\n",
       "      <td>0.000066</td>\n",
       "      <td>0.001812</td>\n",
       "      <td>0.036676</td>\n",
       "      <td>0.004507</td>\n",
       "    </tr>\n",
       "    <tr>\n",
       "      <th>3</th>\n",
       "      <td>0</td>\n",
       "      <td>1.1</td>\n",
       "      <td>3.0</td>\n",
       "      <td>3.0</td>\n",
       "      <td>67.0</td>\n",
       "      <td>0.000133</td>\n",
       "      <td>0.011666</td>\n",
       "      <td>0.005060</td>\n",
       "      <td>0.001016</td>\n",
       "    </tr>\n",
       "    <tr>\n",
       "      <th>4</th>\n",
       "      <td>1</td>\n",
       "      <td>1.2</td>\n",
       "      <td>2.0</td>\n",
       "      <td>2.0</td>\n",
       "      <td>74.0</td>\n",
       "      <td>0.000133</td>\n",
       "      <td>0.024149</td>\n",
       "      <td>0.005060</td>\n",
       "      <td>0.001016</td>\n",
       "    </tr>\n",
       "  </tbody>\n",
       "</table>\n",
       "</div>"
      ],
      "text/plain": [
       "   Pl  Track  Last 800m  Last 400m  total second to finish  \\\n",
       "0   1    1.2        8.0        9.0                    71.0   \n",
       "1   1    1.2        8.0        9.0                    71.0   \n",
       "2   1    1.2        8.0        7.0                    70.0   \n",
       "3   0    1.1        3.0        3.0                    67.0   \n",
       "4   1    1.2        2.0        2.0                    74.0   \n",
       "\n",
       "   horse_id_freq_encode  jockey_id_freq_encode  trainer_id_freq_encode  \\\n",
       "0              0.000066               0.034776                0.036676   \n",
       "1              0.000066               0.034776                0.036676   \n",
       "2              0.000066               0.001812                0.036676   \n",
       "3              0.000133               0.011666                0.005060   \n",
       "4              0.000133               0.024149                0.005060   \n",
       "\n",
       "   owner_id_freq_encode  \n",
       "0              0.004507  \n",
       "1              0.004507  \n",
       "2              0.004507  \n",
       "3              0.001016  \n",
       "4              0.001016  "
      ]
     },
     "execution_count": 122,
     "metadata": {},
     "output_type": "execute_result"
    }
   ],
   "source": [
    "# To check data frame\n",
    "df.head()"
   ]
  },
  {
   "cell_type": "code",
   "execution_count": 123,
   "metadata": {},
   "outputs": [],
   "source": [
    "# Take Track, Last 800m, Last 400, Total Second to finish, Horse ID frequency encoding, Jockey ID frequency encoding, trainer ID frequency encoding & owner ID frequency encoding as features\n",
    "# Take Pl as target\n",
    "X = df.iloc[:, 1:8] \n",
    "y = df.iloc[:, 0]"
   ]
  },
  {
   "cell_type": "code",
   "execution_count": 124,
   "metadata": {},
   "outputs": [
    {
     "data": {
      "text/html": [
       "<div>\n",
       "<style scoped>\n",
       "    .dataframe tbody tr th:only-of-type {\n",
       "        vertical-align: middle;\n",
       "    }\n",
       "\n",
       "    .dataframe tbody tr th {\n",
       "        vertical-align: top;\n",
       "    }\n",
       "\n",
       "    .dataframe thead th {\n",
       "        text-align: right;\n",
       "    }\n",
       "</style>\n",
       "<table border=\"1\" class=\"dataframe\">\n",
       "  <thead>\n",
       "    <tr style=\"text-align: right;\">\n",
       "      <th></th>\n",
       "      <th>Track</th>\n",
       "      <th>Last 800m</th>\n",
       "      <th>Last 400m</th>\n",
       "      <th>total second to finish</th>\n",
       "      <th>horse_id_freq_encode</th>\n",
       "      <th>jockey_id_freq_encode</th>\n",
       "      <th>trainer_id_freq_encode</th>\n",
       "    </tr>\n",
       "  </thead>\n",
       "  <tbody>\n",
       "    <tr>\n",
       "      <th>0</th>\n",
       "      <td>1.2</td>\n",
       "      <td>8.0</td>\n",
       "      <td>9.0</td>\n",
       "      <td>71.0</td>\n",
       "      <td>0.000066</td>\n",
       "      <td>0.034776</td>\n",
       "      <td>0.036676</td>\n",
       "    </tr>\n",
       "    <tr>\n",
       "      <th>1</th>\n",
       "      <td>1.2</td>\n",
       "      <td>8.0</td>\n",
       "      <td>9.0</td>\n",
       "      <td>71.0</td>\n",
       "      <td>0.000066</td>\n",
       "      <td>0.034776</td>\n",
       "      <td>0.036676</td>\n",
       "    </tr>\n",
       "    <tr>\n",
       "      <th>2</th>\n",
       "      <td>1.2</td>\n",
       "      <td>8.0</td>\n",
       "      <td>7.0</td>\n",
       "      <td>70.0</td>\n",
       "      <td>0.000066</td>\n",
       "      <td>0.001812</td>\n",
       "      <td>0.036676</td>\n",
       "    </tr>\n",
       "    <tr>\n",
       "      <th>3</th>\n",
       "      <td>1.1</td>\n",
       "      <td>3.0</td>\n",
       "      <td>3.0</td>\n",
       "      <td>67.0</td>\n",
       "      <td>0.000133</td>\n",
       "      <td>0.011666</td>\n",
       "      <td>0.005060</td>\n",
       "    </tr>\n",
       "    <tr>\n",
       "      <th>4</th>\n",
       "      <td>1.2</td>\n",
       "      <td>2.0</td>\n",
       "      <td>2.0</td>\n",
       "      <td>74.0</td>\n",
       "      <td>0.000133</td>\n",
       "      <td>0.024149</td>\n",
       "      <td>0.005060</td>\n",
       "    </tr>\n",
       "  </tbody>\n",
       "</table>\n",
       "</div>"
      ],
      "text/plain": [
       "   Track  Last 800m  Last 400m  total second to finish  horse_id_freq_encode  \\\n",
       "0    1.2        8.0        9.0                    71.0              0.000066   \n",
       "1    1.2        8.0        9.0                    71.0              0.000066   \n",
       "2    1.2        8.0        7.0                    70.0              0.000066   \n",
       "3    1.1        3.0        3.0                    67.0              0.000133   \n",
       "4    1.2        2.0        2.0                    74.0              0.000133   \n",
       "\n",
       "   jockey_id_freq_encode  trainer_id_freq_encode  \n",
       "0               0.034776                0.036676  \n",
       "1               0.034776                0.036676  \n",
       "2               0.001812                0.036676  \n",
       "3               0.011666                0.005060  \n",
       "4               0.024149                0.005060  "
      ]
     },
     "execution_count": 124,
     "metadata": {},
     "output_type": "execute_result"
    }
   ],
   "source": [
    "X.head()"
   ]
  },
  {
   "cell_type": "code",
   "execution_count": 125,
   "metadata": {},
   "outputs": [
    {
     "name": "stdout",
     "output_type": "stream",
     "text": [
      "<class 'pandas.core.frame.DataFrame'>\n",
      "Int64Index: 45261 entries, 0 to 45471\n",
      "Data columns (total 7 columns):\n",
      " #   Column                  Non-Null Count  Dtype  \n",
      "---  ------                  --------------  -----  \n",
      " 0   Track                   45261 non-null  float64\n",
      " 1   Last 800m               45261 non-null  float64\n",
      " 2   Last 400m               45261 non-null  float64\n",
      " 3   total second to finish  45261 non-null  float64\n",
      " 4   horse_id_freq_encode    45261 non-null  float64\n",
      " 5   jockey_id_freq_encode   45261 non-null  float64\n",
      " 6   trainer_id_freq_encode  45261 non-null  float64\n",
      "dtypes: float64(7)\n",
      "memory usage: 3.8 MB\n"
     ]
    }
   ],
   "source": [
    "X.info()"
   ]
  },
  {
   "cell_type": "code",
   "execution_count": 126,
   "metadata": {},
   "outputs": [
    {
     "data": {
      "text/plain": [
       "0    1\n",
       "1    1\n",
       "2    1\n",
       "3    0\n",
       "4    1\n",
       "Name: Pl, dtype: int64"
      ]
     },
     "execution_count": 126,
     "metadata": {},
     "output_type": "execute_result"
    }
   ],
   "source": [
    "y.head()"
   ]
  },
  {
   "cell_type": "code",
   "execution_count": 127,
   "metadata": {},
   "outputs": [
    {
     "name": "stdout",
     "output_type": "stream",
     "text": [
      "<class 'pandas.core.series.Series'>\n",
      "Int64Index: 45261 entries, 0 to 45471\n",
      "Series name: Pl\n",
      "Non-Null Count  Dtype\n",
      "--------------  -----\n",
      "45261 non-null  int64\n",
      "dtypes: int64(1)\n",
      "memory usage: 1.7 MB\n"
     ]
    }
   ],
   "source": [
    "y.info()"
   ]
  },
  {
   "cell_type": "code",
   "execution_count": 128,
   "metadata": {},
   "outputs": [
    {
     "data": {
      "text/plain": [
       "1    33311\n",
       "0    11950\n",
       "Name: Pl, dtype: int64"
      ]
     },
     "execution_count": 128,
     "metadata": {},
     "output_type": "execute_result"
    }
   ],
   "source": [
    "# To check target whether have imbalance data\n",
    "y.value_counts()"
   ]
  },
  {
   "cell_type": "code",
   "execution_count": 129,
   "metadata": {},
   "outputs": [
    {
     "data": {
      "text/plain": [
       "<AxesSubplot: xlabel='Pl', ylabel='count'>"
      ]
     },
     "execution_count": 129,
     "metadata": {},
     "output_type": "execute_result"
    },
    {
     "data": {
      "image/png": "[encoded data removed]",
      "text/plain": [
       "<Figure size 800x550 with 1 Axes>"
      ]
     },
     "metadata": {},
     "output_type": "display_data"
    }
   ],
   "source": [
    "sns.countplot(data=df, x=y)"
   ]
  },
  {
   "cell_type": "code",
   "execution_count": 130,
   "metadata": {},
   "outputs": [
    {
     "data": {
      "image/png": "[encoded data removed]",
      "text/plain": [
       "<Figure size 800x550 with 1 Axes>"
      ]
     },
     "metadata": {},
     "output_type": "display_data"
    }
   ],
   "source": [
    "ax = y.value_counts().plot.pie(autopct = '%.1f')\n",
    "title = ax.set_title(\"Imbalance Data\")"
   ]
  },
  {
   "cell_type": "code",
   "execution_count": 131,
   "metadata": {},
   "outputs": [
    {
     "data": {
      "text/plain": [
       "1    33311\n",
       "0    33311\n",
       "Name: Pl, dtype: int64"
      ]
     },
     "execution_count": 131,
     "metadata": {},
     "output_type": "execute_result"
    }
   ],
   "source": [
    "# Using SMOTE method to fix imbalance data\n",
    "from imblearn.over_sampling import SMOTE\n",
    "\n",
    "rus = SMOTE(random_state=111)\n",
    "\n",
    "X_res , y_res = rus.fit_resample(X , y)\n",
    "\n",
    "y_res.value_counts()"
   ]
  },
  {
   "cell_type": "code",
   "execution_count": 132,
   "metadata": {},
   "outputs": [
    {
     "data": {
      "text/plain": [
       "<AxesSubplot: xlabel='Pl', ylabel='count'>"
      ]
     },
     "execution_count": 132,
     "metadata": {},
     "output_type": "execute_result"
    },
    {
     "data": {
      "image/png": "[encoded data removed]",
      "text/plain": [
       "<Figure size 800x550 with 1 Axes>"
      ]
     },
     "metadata": {},
     "output_type": "display_data"
    }
   ],
   "source": [
    "sns.countplot(data=df, x=y_res)"
   ]
  },
  {
   "cell_type": "code",
   "execution_count": 133,
   "metadata": {},
   "outputs": [
    {
     "data": {
      "image/png": "[encoded data removed]",
      "text/plain": [
       "<Figure size 800x550 with 1 Axes>"
      ]
     },
     "metadata": {},
     "output_type": "display_data"
    }
   ],
   "source": [
    "ax = y_res.value_counts().plot.pie(autopct = '%.1f')\n",
    "title = ax.set_title(\"SMOTE\")\n"
   ]
  },
  {
   "cell_type": "markdown",
   "metadata": {},
   "source": [
    "Split to 80% as train and 20% as test for fixed imbalance data using SMOTE"
   ]
  },
  {
   "cell_type": "code",
   "execution_count": 134,
   "metadata": {},
   "outputs": [],
   "source": [
    "from sklearn.model_selection import train_test_split\n",
    "\n",
    "X_train, X_test, y_train, y_test = train_test_split(X_res, y_res, test_size = 0.2, random_state = 111)"
   ]
  },
  {
   "cell_type": "markdown",
   "metadata": {},
   "source": [
    "Split to 80% as train and 20% as test for imbalance data (id)"
   ]
  },
  {
   "cell_type": "code",
   "execution_count": 135,
   "metadata": {},
   "outputs": [],
   "source": [
    "from sklearn.model_selection import train_test_split\n",
    "\n",
    "X_id_train, X_id_test, y_id_train, y_id_test = train_test_split(X, y, test_size = 0.2, random_state = 111)"
   ]
  },
  {
   "cell_type": "markdown",
   "metadata": {},
   "source": [
    "### To prove hypothesis that fixed imbalance data is better than imbalance data in terms of accuracy. Extreme Gradient Boosting (xgbosst) model will be selected and test to compare it. "
   ]
  },
  {
   "cell_type": "markdown",
   "metadata": {},
   "source": [
    "# Model 1: Extreme Gradient Boosting (xgboost) "
   ]
  },
  {
   "cell_type": "markdown",
   "metadata": {},
   "source": [
    "\n",
    "Use XGBoost model to compare imbalance data & fixed imbalance data using SMOTE"
   ]
  },
  {
   "cell_type": "markdown",
   "metadata": {},
   "source": [
    "Scenario 1: Fixed Imbalance Data Using SMOTE"
   ]
  },
  {
   "cell_type": "code",
   "execution_count": 136,
   "metadata": {},
   "outputs": [],
   "source": [
    "from sklearn import datasets\n",
    "from sklearn import metrics\n",
    "import xgboost as xgb\n",
    "from sklearn.metrics import confusion_matrix \n",
    "from sklearn.metrics import plot_confusion_matrix"
   ]
  },
  {
   "cell_type": "code",
   "execution_count": 137,
   "metadata": {},
   "outputs": [
    {
     "data": {
      "text/html": [
       "<style>#sk-container-id-7 {color: black;background-color: white;}#sk-container-id-7 pre{padding: 0;}#sk-container-id-7 div.sk-toggleable {background-color: white;}#sk-container-id-7 label.sk-toggleable__label {cursor: pointer;display: block;width: 100%;margin-bottom: 0;padding: 0.3em;box-sizing: border-box;text-align: center;}#sk-container-id-7 label.sk-toggleable__label-arrow:before {content: \"▸\";float: left;margin-right: 0.25em;color: #696969;}#sk-container-id-7 label.sk-toggleable__label-arrow:hover:before {color: black;}#sk-container-id-7 div.sk-estimator:hover label.sk-toggleable__label-arrow:before {color: black;}#sk-container-id-7 div.sk-toggleable__content {max-height: 0;max-width: 0;overflow: hidden;text-align: left;background-color: #f0f8ff;}#sk-container-id-7 div.sk-toggleable__content pre {margin: 0.2em;color: black;border-radius: 0.25em;background-color: #f0f8ff;}#sk-container-id-7 input.sk-toggleable__control:checked~div.sk-toggleable__content {max-height: 200px;max-width: 100%;overflow: auto;}#sk-container-id-7 input.sk-toggleable__control:checked~label.sk-toggleable__label-arrow:before {content: \"▾\";}#sk-container-id-7 div.sk-estimator input.sk-toggleable__control:checked~label.sk-toggleable__label {background-color: #d4ebff;}#sk-container-id-7 div.sk-label input.sk-toggleable__control:checked~label.sk-toggleable__label {background-color: #d4ebff;}#sk-container-id-7 input.sk-hidden--visually {border: 0;clip: rect(1px 1px 1px 1px);clip: rect(1px, 1px, 1px, 1px);height: 1px;margin: -1px;overflow: hidden;padding: 0;position: absolute;width: 1px;}#sk-container-id-7 div.sk-estimator {font-family: monospace;background-color: #f0f8ff;border: 1px dotted black;border-radius: 0.25em;box-sizing: border-box;margin-bottom: 0.5em;}#sk-container-id-7 div.sk-estimator:hover {background-color: #d4ebff;}#sk-container-id-7 div.sk-parallel-item::after {content: \"\";width: 100%;border-bottom: 1px solid gray;flex-grow: 1;}#sk-container-id-7 div.sk-label:hover label.sk-toggleable__label {background-color: #d4ebff;}#sk-container-id-7 div.sk-serial::before {content: \"\";position: absolute;border-left: 1px solid gray;box-sizing: border-box;top: 0;bottom: 0;left: 50%;z-index: 0;}#sk-container-id-7 div.sk-serial {display: flex;flex-direction: column;align-items: center;background-color: white;padding-right: 0.2em;padding-left: 0.2em;position: relative;}#sk-container-id-7 div.sk-item {position: relative;z-index: 1;}#sk-container-id-7 div.sk-parallel {display: flex;align-items: stretch;justify-content: center;background-color: white;position: relative;}#sk-container-id-7 div.sk-item::before, #sk-container-id-7 div.sk-parallel-item::before {content: \"\";position: absolute;border-left: 1px solid gray;box-sizing: border-box;top: 0;bottom: 0;left: 50%;z-index: -1;}#sk-container-id-7 div.sk-parallel-item {display: flex;flex-direction: column;z-index: 1;position: relative;background-color: white;}#sk-container-id-7 div.sk-parallel-item:first-child::after {align-self: flex-end;width: 50%;}#sk-container-id-7 div.sk-parallel-item:last-child::after {align-self: flex-start;width: 50%;}#sk-container-id-7 div.sk-parallel-item:only-child::after {width: 0;}#sk-container-id-7 div.sk-dashed-wrapped {border: 1px dashed gray;margin: 0 0.4em 0.5em 0.4em;box-sizing: border-box;padding-bottom: 0.4em;background-color: white;}#sk-container-id-7 div.sk-label label {font-family: monospace;font-weight: bold;display: inline-block;line-height: 1.2em;}#sk-container-id-7 div.sk-label-container {text-align: center;}#sk-container-id-7 div.sk-container {/* jupyter's `normalize.less` sets `[hidden] { display: none; }` but bootstrap.min.css set `[hidden] { display: none !important; }` so we also need the `!important` here to be able to override the default hidden behavior on the sphinx rendered scikit-learn.org. See: https://github.com/scikit-learn/scikit-learn/issues/21755 */display: inline-block !important;position: relative;}#sk-container-id-7 div.sk-text-repr-fallback {display: none;}</style><div id=\"sk-container-id-7\" class=\"sk-top-container\"><div class=\"sk-text-repr-fallback\"><pre>XGBClassifier(base_score=0.5, booster=&#x27;gbtree&#x27;, callbacks=None,\n",
       "              colsample_bylevel=1, colsample_bynode=1, colsample_bytree=1,\n",
       "              early_stopping_rounds=None, enable_categorical=False,\n",
       "              eval_metric=None, feature_types=None, gamma=0, gpu_id=-1,\n",
       "              grow_policy=&#x27;depthwise&#x27;, importance_type=None,\n",
       "              interaction_constraints=&#x27;&#x27;, learning_rate=0.300000012,\n",
       "              max_bin=256, max_cat_threshold=64, max_cat_to_onehot=4,\n",
       "              max_delta_step=0, max_depth=6, max_leaves=0, min_child_weight=1,\n",
       "              missing=nan, monotone_constraints=&#x27;()&#x27;, n_estimators=100,\n",
       "              n_jobs=0, num_parallel_tree=1, objective=&#x27;binary:logistic&#x27;,\n",
       "              predictor=&#x27;auto&#x27;, ...)</pre><b>In a Jupyter environment, please rerun this cell to show the HTML representation or trust the notebook. <br />On GitHub, the HTML representation is unable to render, please try loading this page with nbviewer.org.</b></div><div class=\"sk-container\" hidden><div class=\"sk-item\"><div class=\"sk-estimator sk-toggleable\"><input class=\"sk-toggleable__control sk-hidden--visually\" id=\"sk-estimator-id-7\" type=\"checkbox\" checked><label for=\"sk-estimator-id-7\" class=\"sk-toggleable__label sk-toggleable__label-arrow\">XGBClassifier</label><div class=\"sk-toggleable__content\"><pre>XGBClassifier(base_score=0.5, booster=&#x27;gbtree&#x27;, callbacks=None,\n",
       "              colsample_bylevel=1, colsample_bynode=1, colsample_bytree=1,\n",
       "              early_stopping_rounds=None, enable_categorical=False,\n",
       "              eval_metric=None, feature_types=None, gamma=0, gpu_id=-1,\n",
       "              grow_policy=&#x27;depthwise&#x27;, importance_type=None,\n",
       "              interaction_constraints=&#x27;&#x27;, learning_rate=0.300000012,\n",
       "              max_bin=256, max_cat_threshold=64, max_cat_to_onehot=4,\n",
       "              max_delta_step=0, max_depth=6, max_leaves=0, min_child_weight=1,\n",
       "              missing=nan, monotone_constraints=&#x27;()&#x27;, n_estimators=100,\n",
       "              n_jobs=0, num_parallel_tree=1, objective=&#x27;binary:logistic&#x27;,\n",
       "              predictor=&#x27;auto&#x27;, ...)</pre></div></div></div></div></div>"
      ],
      "text/plain": [
       "XGBClassifier(base_score=0.5, booster='gbtree', callbacks=None,\n",
       "              colsample_bylevel=1, colsample_bynode=1, colsample_bytree=1,\n",
       "              early_stopping_rounds=None, enable_categorical=False,\n",
       "              eval_metric=None, feature_types=None, gamma=0, gpu_id=-1,\n",
       "              grow_policy='depthwise', importance_type=None,\n",
       "              interaction_constraints='', learning_rate=0.300000012,\n",
       "              max_bin=256, max_cat_threshold=64, max_cat_to_onehot=4,\n",
       "              max_delta_step=0, max_depth=6, max_leaves=0, min_child_weight=1,\n",
       "              missing=nan, monotone_constraints='()', n_estimators=100,\n",
       "              n_jobs=0, num_parallel_tree=1, objective='binary:logistic',\n",
       "              predictor='auto', ...)"
      ]
     },
     "execution_count": 137,
     "metadata": {},
     "output_type": "execute_result"
    }
   ],
   "source": [
    "xgb_SMOTE = xgb.XGBClassifier(random_state=111)\n",
    "xgb_SMOTE.fit(X_train , y_train)"
   ]
  },
  {
   "cell_type": "code",
   "execution_count": 138,
   "metadata": {},
   "outputs": [
    {
     "data": {
      "text/plain": [
       "array([1, 1, 1, ..., 0, 0, 1])"
      ]
     },
     "execution_count": 138,
     "metadata": {},
     "output_type": "execute_result"
    }
   ],
   "source": [
    "xgb_SMOTE_predict= xgb_SMOTE.predict(X_test)\n",
    "xgb_SMOTE_predict\n"
   ]
  },
  {
   "cell_type": "code",
   "execution_count": 139,
   "metadata": {},
   "outputs": [
    {
     "data": {
      "text/html": [
       "<div>\n",
       "<style scoped>\n",
       "    .dataframe tbody tr th:only-of-type {\n",
       "        vertical-align: middle;\n",
       "    }\n",
       "\n",
       "    .dataframe tbody tr th {\n",
       "        vertical-align: top;\n",
       "    }\n",
       "\n",
       "    .dataframe thead th {\n",
       "        text-align: right;\n",
       "    }\n",
       "</style>\n",
       "<table border=\"1\" class=\"dataframe\">\n",
       "  <thead>\n",
       "    <tr style=\"text-align: right;\">\n",
       "      <th></th>\n",
       "      <th>Actual</th>\n",
       "      <th>Predicted</th>\n",
       "    </tr>\n",
       "  </thead>\n",
       "  <tbody>\n",
       "    <tr>\n",
       "      <th>35639</th>\n",
       "      <td>1</td>\n",
       "      <td>1</td>\n",
       "    </tr>\n",
       "    <tr>\n",
       "      <th>27108</th>\n",
       "      <td>1</td>\n",
       "      <td>1</td>\n",
       "    </tr>\n",
       "    <tr>\n",
       "      <th>2785</th>\n",
       "      <td>0</td>\n",
       "      <td>1</td>\n",
       "    </tr>\n",
       "    <tr>\n",
       "      <th>26508</th>\n",
       "      <td>0</td>\n",
       "      <td>0</td>\n",
       "    </tr>\n",
       "    <tr>\n",
       "      <th>4070</th>\n",
       "      <td>0</td>\n",
       "      <td>0</td>\n",
       "    </tr>\n",
       "  </tbody>\n",
       "</table>\n",
       "</div>"
      ],
      "text/plain": [
       "       Actual  Predicted\n",
       "35639       1          1\n",
       "27108       1          1\n",
       "2785        0          1\n",
       "26508       0          0\n",
       "4070        0          0"
      ]
     },
     "execution_count": 139,
     "metadata": {},
     "output_type": "execute_result"
    }
   ],
   "source": [
    "df_xgb_SMOTE_predict=pd.DataFrame({'Actual': y_test, 'Predicted': xgb_SMOTE_predict})\n",
    "df_xgb_SMOTE_predict.head()"
   ]
  },
  {
   "cell_type": "code",
   "execution_count": 140,
   "metadata": {},
   "outputs": [
    {
     "data": {
      "text/plain": [
       "<sklearn.metrics._plot.confusion_matrix.ConfusionMatrixDisplay at 0x21e571e92d0>"
      ]
     },
     "execution_count": 140,
     "metadata": {},
     "output_type": "execute_result"
    },
    {
     "data": {
      "image/png": "[encoded data removed]",
      "text/plain": [
       "<Figure size 800x550 with 2 Axes>"
      ]
     },
     "metadata": {},
     "output_type": "display_data"
    }
   ],
   "source": [
    "plot_confusion_matrix(xgb_SMOTE, \n",
    "                      X_test, \n",
    "                      y_test,\n",
    "                      display_labels=[\"TOP 3\", \"OTHERS\"])"
   ]
  },
  {
   "cell_type": "code",
   "execution_count": 141,
   "metadata": {},
   "outputs": [
    {
     "name": "stdout",
     "output_type": "stream",
     "text": [
      "[[5299 1240]\n",
      " [ 823 5963]]\n",
      "              precision    recall  f1-score   support\n",
      "\n",
      "           0       0.87      0.81      0.84      6539\n",
      "           1       0.83      0.88      0.85      6786\n",
      "\n",
      "    accuracy                           0.85     13325\n",
      "   macro avg       0.85      0.84      0.84     13325\n",
      "weighted avg       0.85      0.85      0.84     13325\n",
      "\n",
      "XGBoost Model:  0.8451782363977486\n"
     ]
    }
   ],
   "source": [
    "from sklearn.metrics import classification_report,confusion_matrix\n",
    "from sklearn.metrics import accuracy_score\n",
    "\n",
    "print(metrics.confusion_matrix(y_test,xgb_SMOTE_predict))\n",
    "print(metrics.classification_report(y_test,xgb_SMOTE_predict))\n",
    "print(\"XGBoost Model: \", accuracy_score(y_test, xgb_SMOTE_predict))"
   ]
  },
  {
   "cell_type": "markdown",
   "metadata": {},
   "source": [
    "XGBoost Model with fixed imbalance date with SMOTE method give accuracy of 84.5%.\n"
   ]
  },
  {
   "cell_type": "markdown",
   "metadata": {},
   "source": [
    "Scenario 2: Imbalance Data"
   ]
  },
  {
   "cell_type": "code",
   "execution_count": 142,
   "metadata": {},
   "outputs": [
    {
     "data": {
      "text/html": [
       "<style>#sk-container-id-8 {color: black;background-color: white;}#sk-container-id-8 pre{padding: 0;}#sk-container-id-8 div.sk-toggleable {background-color: white;}#sk-container-id-8 label.sk-toggleable__label {cursor: pointer;display: block;width: 100%;margin-bottom: 0;padding: 0.3em;box-sizing: border-box;text-align: center;}#sk-container-id-8 label.sk-toggleable__label-arrow:before {content: \"▸\";float: left;margin-right: 0.25em;color: #696969;}#sk-container-id-8 label.sk-toggleable__label-arrow:hover:before {color: black;}#sk-container-id-8 div.sk-estimator:hover label.sk-toggleable__label-arrow:before {color: black;}#sk-container-id-8 div.sk-toggleable__content {max-height: 0;max-width: 0;overflow: hidden;text-align: left;background-color: #f0f8ff;}#sk-container-id-8 div.sk-toggleable__content pre {margin: 0.2em;color: black;border-radius: 0.25em;background-color: #f0f8ff;}#sk-container-id-8 input.sk-toggleable__control:checked~div.sk-toggleable__content {max-height: 200px;max-width: 100%;overflow: auto;}#sk-container-id-8 input.sk-toggleable__control:checked~label.sk-toggleable__label-arrow:before {content: \"▾\";}#sk-container-id-8 div.sk-estimator input.sk-toggleable__control:checked~label.sk-toggleable__label {background-color: #d4ebff;}#sk-container-id-8 div.sk-label input.sk-toggleable__control:checked~label.sk-toggleable__label {background-color: #d4ebff;}#sk-container-id-8 input.sk-hidden--visually {border: 0;clip: rect(1px 1px 1px 1px);clip: rect(1px, 1px, 1px, 1px);height: 1px;margin: -1px;overflow: hidden;padding: 0;position: absolute;width: 1px;}#sk-container-id-8 div.sk-estimator {font-family: monospace;background-color: #f0f8ff;border: 1px dotted black;border-radius: 0.25em;box-sizing: border-box;margin-bottom: 0.5em;}#sk-container-id-8 div.sk-estimator:hover {background-color: #d4ebff;}#sk-container-id-8 div.sk-parallel-item::after {content: \"\";width: 100%;border-bottom: 1px solid gray;flex-grow: 1;}#sk-container-id-8 div.sk-label:hover label.sk-toggleable__label {background-color: #d4ebff;}#sk-container-id-8 div.sk-serial::before {content: \"\";position: absolute;border-left: 1px solid gray;box-sizing: border-box;top: 0;bottom: 0;left: 50%;z-index: 0;}#sk-container-id-8 div.sk-serial {display: flex;flex-direction: column;align-items: center;background-color: white;padding-right: 0.2em;padding-left: 0.2em;position: relative;}#sk-container-id-8 div.sk-item {position: relative;z-index: 1;}#sk-container-id-8 div.sk-parallel {display: flex;align-items: stretch;justify-content: center;background-color: white;position: relative;}#sk-container-id-8 div.sk-item::before, #sk-container-id-8 div.sk-parallel-item::before {content: \"\";position: absolute;border-left: 1px solid gray;box-sizing: border-box;top: 0;bottom: 0;left: 50%;z-index: -1;}#sk-container-id-8 div.sk-parallel-item {display: flex;flex-direction: column;z-index: 1;position: relative;background-color: white;}#sk-container-id-8 div.sk-parallel-item:first-child::after {align-self: flex-end;width: 50%;}#sk-container-id-8 div.sk-parallel-item:last-child::after {align-self: flex-start;width: 50%;}#sk-container-id-8 div.sk-parallel-item:only-child::after {width: 0;}#sk-container-id-8 div.sk-dashed-wrapped {border: 1px dashed gray;margin: 0 0.4em 0.5em 0.4em;box-sizing: border-box;padding-bottom: 0.4em;background-color: white;}#sk-container-id-8 div.sk-label label {font-family: monospace;font-weight: bold;display: inline-block;line-height: 1.2em;}#sk-container-id-8 div.sk-label-container {text-align: center;}#sk-container-id-8 div.sk-container {/* jupyter's `normalize.less` sets `[hidden] { display: none; }` but bootstrap.min.css set `[hidden] { display: none !important; }` so we also need the `!important` here to be able to override the default hidden behavior on the sphinx rendered scikit-learn.org. See: https://github.com/scikit-learn/scikit-learn/issues/21755 */display: inline-block !important;position: relative;}#sk-container-id-8 div.sk-text-repr-fallback {display: none;}</style><div id=\"sk-container-id-8\" class=\"sk-top-container\"><div class=\"sk-text-repr-fallback\"><pre>XGBClassifier(base_score=0.5, booster=&#x27;gbtree&#x27;, callbacks=None,\n",
       "              colsample_bylevel=1, colsample_bynode=1, colsample_bytree=1,\n",
       "              early_stopping_rounds=None, enable_categorical=False,\n",
       "              eval_metric=None, feature_types=None, gamma=0, gpu_id=-1,\n",
       "              grow_policy=&#x27;depthwise&#x27;, importance_type=None,\n",
       "              interaction_constraints=&#x27;&#x27;, learning_rate=0.300000012,\n",
       "              max_bin=256, max_cat_threshold=64, max_cat_to_onehot=4,\n",
       "              max_delta_step=0, max_depth=6, max_leaves=0, min_child_weight=1,\n",
       "              missing=nan, monotone_constraints=&#x27;()&#x27;, n_estimators=100,\n",
       "              n_jobs=0, num_parallel_tree=1, objective=&#x27;binary:logistic&#x27;,\n",
       "              predictor=&#x27;auto&#x27;, ...)</pre><b>In a Jupyter environment, please rerun this cell to show the HTML representation or trust the notebook. <br />On GitHub, the HTML representation is unable to render, please try loading this page with nbviewer.org.</b></div><div class=\"sk-container\" hidden><div class=\"sk-item\"><div class=\"sk-estimator sk-toggleable\"><input class=\"sk-toggleable__control sk-hidden--visually\" id=\"sk-estimator-id-8\" type=\"checkbox\" checked><label for=\"sk-estimator-id-8\" class=\"sk-toggleable__label sk-toggleable__label-arrow\">XGBClassifier</label><div class=\"sk-toggleable__content\"><pre>XGBClassifier(base_score=0.5, booster=&#x27;gbtree&#x27;, callbacks=None,\n",
       "              colsample_bylevel=1, colsample_bynode=1, colsample_bytree=1,\n",
       "              early_stopping_rounds=None, enable_categorical=False,\n",
       "              eval_metric=None, feature_types=None, gamma=0, gpu_id=-1,\n",
       "              grow_policy=&#x27;depthwise&#x27;, importance_type=None,\n",
       "              interaction_constraints=&#x27;&#x27;, learning_rate=0.300000012,\n",
       "              max_bin=256, max_cat_threshold=64, max_cat_to_onehot=4,\n",
       "              max_delta_step=0, max_depth=6, max_leaves=0, min_child_weight=1,\n",
       "              missing=nan, monotone_constraints=&#x27;()&#x27;, n_estimators=100,\n",
       "              n_jobs=0, num_parallel_tree=1, objective=&#x27;binary:logistic&#x27;,\n",
       "              predictor=&#x27;auto&#x27;, ...)</pre></div></div></div></div></div>"
      ],
      "text/plain": [
       "XGBClassifier(base_score=0.5, booster='gbtree', callbacks=None,\n",
       "              colsample_bylevel=1, colsample_bynode=1, colsample_bytree=1,\n",
       "              early_stopping_rounds=None, enable_categorical=False,\n",
       "              eval_metric=None, feature_types=None, gamma=0, gpu_id=-1,\n",
       "              grow_policy='depthwise', importance_type=None,\n",
       "              interaction_constraints='', learning_rate=0.300000012,\n",
       "              max_bin=256, max_cat_threshold=64, max_cat_to_onehot=4,\n",
       "              max_delta_step=0, max_depth=6, max_leaves=0, min_child_weight=1,\n",
       "              missing=nan, monotone_constraints='()', n_estimators=100,\n",
       "              n_jobs=0, num_parallel_tree=1, objective='binary:logistic',\n",
       "              predictor='auto', ...)"
      ]
     },
     "execution_count": 142,
     "metadata": {},
     "output_type": "execute_result"
    }
   ],
   "source": [
    "xgb_id = xgb.XGBClassifier(random_state=111)\n",
    "xgb_id.fit(X_id_train , y_id_train)"
   ]
  },
  {
   "cell_type": "code",
   "execution_count": 143,
   "metadata": {},
   "outputs": [
    {
     "data": {
      "text/plain": [
       "array([1, 1, 1, ..., 0, 0, 1])"
      ]
     },
     "execution_count": 143,
     "metadata": {},
     "output_type": "execute_result"
    }
   ],
   "source": [
    "xgb_id_predict= xgb_id.predict(X_test)\n",
    "xgb_id_predict\n"
   ]
  },
  {
   "cell_type": "code",
   "execution_count": 144,
   "metadata": {},
   "outputs": [
    {
     "data": {
      "text/html": [
       "<div>\n",
       "<style scoped>\n",
       "    .dataframe tbody tr th:only-of-type {\n",
       "        vertical-align: middle;\n",
       "    }\n",
       "\n",
       "    .dataframe tbody tr th {\n",
       "        vertical-align: top;\n",
       "    }\n",
       "\n",
       "    .dataframe thead th {\n",
       "        text-align: right;\n",
       "    }\n",
       "</style>\n",
       "<table border=\"1\" class=\"dataframe\">\n",
       "  <thead>\n",
       "    <tr style=\"text-align: right;\">\n",
       "      <th></th>\n",
       "      <th>Actual</th>\n",
       "      <th>Predicted</th>\n",
       "    </tr>\n",
       "  </thead>\n",
       "  <tbody>\n",
       "    <tr>\n",
       "      <th>35639</th>\n",
       "      <td>1</td>\n",
       "      <td>1</td>\n",
       "    </tr>\n",
       "    <tr>\n",
       "      <th>27108</th>\n",
       "      <td>1</td>\n",
       "      <td>1</td>\n",
       "    </tr>\n",
       "    <tr>\n",
       "      <th>2785</th>\n",
       "      <td>0</td>\n",
       "      <td>1</td>\n",
       "    </tr>\n",
       "    <tr>\n",
       "      <th>26508</th>\n",
       "      <td>0</td>\n",
       "      <td>0</td>\n",
       "    </tr>\n",
       "    <tr>\n",
       "      <th>4070</th>\n",
       "      <td>0</td>\n",
       "      <td>0</td>\n",
       "    </tr>\n",
       "  </tbody>\n",
       "</table>\n",
       "</div>"
      ],
      "text/plain": [
       "       Actual  Predicted\n",
       "35639       1          1\n",
       "27108       1          1\n",
       "2785        0          1\n",
       "26508       0          0\n",
       "4070        0          0"
      ]
     },
     "execution_count": 144,
     "metadata": {},
     "output_type": "execute_result"
    }
   ],
   "source": [
    "df_xgb_id_predict=pd.DataFrame({'Actual': y_test, 'Predicted': xgb_id_predict})\n",
    "df_xgb_id_predict.head()"
   ]
  },
  {
   "cell_type": "code",
   "execution_count": 145,
   "metadata": {},
   "outputs": [
    {
     "data": {
      "text/plain": [
       "<sklearn.metrics._plot.confusion_matrix.ConfusionMatrixDisplay at 0x21e56e61720>"
      ]
     },
     "execution_count": 145,
     "metadata": {},
     "output_type": "execute_result"
    },
    {
     "data": {
      "image/png": "[encoded data removed]",
      "text/plain": [
       "<Figure size 800x550 with 2 Axes>"
      ]
     },
     "metadata": {},
     "output_type": "display_data"
    }
   ],
   "source": [
    "plot_confusion_matrix(xgb_id, \n",
    "                      X_id_test, \n",
    "                      y_id_test,\n",
    "                      display_labels=[\"TOP 3\", \"OTHERS\"])"
   ]
  },
  {
   "cell_type": "code",
   "execution_count": 146,
   "metadata": {},
   "outputs": [
    {
     "name": "stdout",
     "output_type": "stream",
     "text": [
      "[[2955 3584]\n",
      " [ 556 6230]]\n",
      "              precision    recall  f1-score   support\n",
      "\n",
      "           0       0.84      0.45      0.59      6539\n",
      "           1       0.63      0.92      0.75      6786\n",
      "\n",
      "    accuracy                           0.69     13325\n",
      "   macro avg       0.74      0.68      0.67     13325\n",
      "weighted avg       0.74      0.69      0.67     13325\n",
      "\n",
      "XGBoost Model with imbalance data:  0.6893058161350845\n"
     ]
    }
   ],
   "source": [
    "print(metrics.confusion_matrix(y_test,xgb_id_predict))\n",
    "print(metrics.classification_report(y_test,xgb_id_predict))\n",
    "print(\"XGBoost Model with imbalance data: \", accuracy_score(y_test, xgb_id_predict))"
   ]
  },
  {
   "cell_type": "markdown",
   "metadata": {},
   "source": [
    "XGBoost Model with imbalance data give accuracy of 68.9%.\n"
   ]
  },
  {
   "cell_type": "markdown",
   "metadata": {},
   "source": [
    "## Conclusion <br>\n",
    "Fixed imbalance data using SMOTE method give better accuracy of 84.5% compare to imbalance data that give 68.9%. All the remaining models will using fixed imbalance data using SMOTE method."
   ]
  },
  {
   "cell_type": "markdown",
   "metadata": {},
   "source": [
    "# Model 2: Light Gradient Boosting (lightgbm)"
   ]
  },
  {
   "cell_type": "code",
   "execution_count": 147,
   "metadata": {},
   "outputs": [
    {
     "data": {
      "text/html": [
       "<style>#sk-container-id-9 {color: black;background-color: white;}#sk-container-id-9 pre{padding: 0;}#sk-container-id-9 div.sk-toggleable {background-color: white;}#sk-container-id-9 label.sk-toggleable__label {cursor: pointer;display: block;width: 100%;margin-bottom: 0;padding: 0.3em;box-sizing: border-box;text-align: center;}#sk-container-id-9 label.sk-toggleable__label-arrow:before {content: \"▸\";float: left;margin-right: 0.25em;color: #696969;}#sk-container-id-9 label.sk-toggleable__label-arrow:hover:before {color: black;}#sk-container-id-9 div.sk-estimator:hover label.sk-toggleable__label-arrow:before {color: black;}#sk-container-id-9 div.sk-toggleable__content {max-height: 0;max-width: 0;overflow: hidden;text-align: left;background-color: #f0f8ff;}#sk-container-id-9 div.sk-toggleable__content pre {margin: 0.2em;color: black;border-radius: 0.25em;background-color: #f0f8ff;}#sk-container-id-9 input.sk-toggleable__control:checked~div.sk-toggleable__content {max-height: 200px;max-width: 100%;overflow: auto;}#sk-container-id-9 input.sk-toggleable__control:checked~label.sk-toggleable__label-arrow:before {content: \"▾\";}#sk-container-id-9 div.sk-estimator input.sk-toggleable__control:checked~label.sk-toggleable__label {background-color: #d4ebff;}#sk-container-id-9 div.sk-label input.sk-toggleable__control:checked~label.sk-toggleable__label {background-color: #d4ebff;}#sk-container-id-9 input.sk-hidden--visually {border: 0;clip: rect(1px 1px 1px 1px);clip: rect(1px, 1px, 1px, 1px);height: 1px;margin: -1px;overflow: hidden;padding: 0;position: absolute;width: 1px;}#sk-container-id-9 div.sk-estimator {font-family: monospace;background-color: #f0f8ff;border: 1px dotted black;border-radius: 0.25em;box-sizing: border-box;margin-bottom: 0.5em;}#sk-container-id-9 div.sk-estimator:hover {background-color: #d4ebff;}#sk-container-id-9 div.sk-parallel-item::after {content: \"\";width: 100%;border-bottom: 1px solid gray;flex-grow: 1;}#sk-container-id-9 div.sk-label:hover label.sk-toggleable__label {background-color: #d4ebff;}#sk-container-id-9 div.sk-serial::before {content: \"\";position: absolute;border-left: 1px solid gray;box-sizing: border-box;top: 0;bottom: 0;left: 50%;z-index: 0;}#sk-container-id-9 div.sk-serial {display: flex;flex-direction: column;align-items: center;background-color: white;padding-right: 0.2em;padding-left: 0.2em;position: relative;}#sk-container-id-9 div.sk-item {position: relative;z-index: 1;}#sk-container-id-9 div.sk-parallel {display: flex;align-items: stretch;justify-content: center;background-color: white;position: relative;}#sk-container-id-9 div.sk-item::before, #sk-container-id-9 div.sk-parallel-item::before {content: \"\";position: absolute;border-left: 1px solid gray;box-sizing: border-box;top: 0;bottom: 0;left: 50%;z-index: -1;}#sk-container-id-9 div.sk-parallel-item {display: flex;flex-direction: column;z-index: 1;position: relative;background-color: white;}#sk-container-id-9 div.sk-parallel-item:first-child::after {align-self: flex-end;width: 50%;}#sk-container-id-9 div.sk-parallel-item:last-child::after {align-self: flex-start;width: 50%;}#sk-container-id-9 div.sk-parallel-item:only-child::after {width: 0;}#sk-container-id-9 div.sk-dashed-wrapped {border: 1px dashed gray;margin: 0 0.4em 0.5em 0.4em;box-sizing: border-box;padding-bottom: 0.4em;background-color: white;}#sk-container-id-9 div.sk-label label {font-family: monospace;font-weight: bold;display: inline-block;line-height: 1.2em;}#sk-container-id-9 div.sk-label-container {text-align: center;}#sk-container-id-9 div.sk-container {/* jupyter's `normalize.less` sets `[hidden] { display: none; }` but bootstrap.min.css set `[hidden] { display: none !important; }` so we also need the `!important` here to be able to override the default hidden behavior on the sphinx rendered scikit-learn.org. See: https://github.com/scikit-learn/scikit-learn/issues/21755 */display: inline-block !important;position: relative;}#sk-container-id-9 div.sk-text-repr-fallback {display: none;}</style><div id=\"sk-container-id-9\" class=\"sk-top-container\"><div class=\"sk-text-repr-fallback\"><pre>LGBMClassifier(boosting_type=&#x27;gbdt&#x27;, class_weight=None, colsample_bytree=1.0,\n",
       "               importance_type=&#x27;split&#x27;, learning_rate=0.1, max_depth=-1,\n",
       "               min_child_samples=20, min_child_weight=0.001, min_split_gain=0.0,\n",
       "               n_estimators=100, n_jobs=-1, num_leaves=31, objective=None,\n",
       "               random_state=111, reg_alpha=0.0, reg_lambda=0.0, silent=&#x27;warn&#x27;,\n",
       "               subsample=1.0, subsample_for_bin=200000, subsample_freq=0)</pre><b>In a Jupyter environment, please rerun this cell to show the HTML representation or trust the notebook. <br />On GitHub, the HTML representation is unable to render, please try loading this page with nbviewer.org.</b></div><div class=\"sk-container\" hidden><div class=\"sk-item\"><div class=\"sk-estimator sk-toggleable\"><input class=\"sk-toggleable__control sk-hidden--visually\" id=\"sk-estimator-id-9\" type=\"checkbox\" checked><label for=\"sk-estimator-id-9\" class=\"sk-toggleable__label sk-toggleable__label-arrow\">LGBMClassifier</label><div class=\"sk-toggleable__content\"><pre>LGBMClassifier(boosting_type=&#x27;gbdt&#x27;, class_weight=None, colsample_bytree=1.0,\n",
       "               importance_type=&#x27;split&#x27;, learning_rate=0.1, max_depth=-1,\n",
       "               min_child_samples=20, min_child_weight=0.001, min_split_gain=0.0,\n",
       "               n_estimators=100, n_jobs=-1, num_leaves=31, objective=None,\n",
       "               random_state=111, reg_alpha=0.0, reg_lambda=0.0, silent=&#x27;warn&#x27;,\n",
       "               subsample=1.0, subsample_for_bin=200000, subsample_freq=0)</pre></div></div></div></div></div>"
      ],
      "text/plain": [
       "LGBMClassifier(boosting_type='gbdt', class_weight=None, colsample_bytree=1.0,\n",
       "               importance_type='split', learning_rate=0.1, max_depth=-1,\n",
       "               min_child_samples=20, min_child_weight=0.001, min_split_gain=0.0,\n",
       "               n_estimators=100, n_jobs=-1, num_leaves=31, objective=None,\n",
       "               random_state=111, reg_alpha=0.0, reg_lambda=0.0, silent='warn',\n",
       "               subsample=1.0, subsample_for_bin=200000, subsample_freq=0)"
      ]
     },
     "execution_count": 147,
     "metadata": {},
     "output_type": "execute_result"
    }
   ],
   "source": [
    "from lightgbm import LGBMClassifier\n",
    "lightgbm= LGBMClassifier(random_state=111)\n",
    "lightgbm.fit(X_train,y_train)\n"
   ]
  },
  {
   "cell_type": "code",
   "execution_count": 148,
   "metadata": {},
   "outputs": [
    {
     "data": {
      "text/plain": [
       "array([1, 1, 1, ..., 0, 0, 1], dtype=int64)"
      ]
     },
     "execution_count": 148,
     "metadata": {},
     "output_type": "execute_result"
    }
   ],
   "source": [
    "lightgbm_predict= lightgbm.predict(X_test)\n",
    "lightgbm_predict\n"
   ]
  },
  {
   "cell_type": "code",
   "execution_count": 149,
   "metadata": {},
   "outputs": [
    {
     "data": {
      "text/html": [
       "<div>\n",
       "<style scoped>\n",
       "    .dataframe tbody tr th:only-of-type {\n",
       "        vertical-align: middle;\n",
       "    }\n",
       "\n",
       "    .dataframe tbody tr th {\n",
       "        vertical-align: top;\n",
       "    }\n",
       "\n",
       "    .dataframe thead th {\n",
       "        text-align: right;\n",
       "    }\n",
       "</style>\n",
       "<table border=\"1\" class=\"dataframe\">\n",
       "  <thead>\n",
       "    <tr style=\"text-align: right;\">\n",
       "      <th></th>\n",
       "      <th>Actual</th>\n",
       "      <th>Predicted</th>\n",
       "    </tr>\n",
       "  </thead>\n",
       "  <tbody>\n",
       "    <tr>\n",
       "      <th>35639</th>\n",
       "      <td>1</td>\n",
       "      <td>1</td>\n",
       "    </tr>\n",
       "    <tr>\n",
       "      <th>27108</th>\n",
       "      <td>1</td>\n",
       "      <td>1</td>\n",
       "    </tr>\n",
       "    <tr>\n",
       "      <th>2785</th>\n",
       "      <td>0</td>\n",
       "      <td>1</td>\n",
       "    </tr>\n",
       "    <tr>\n",
       "      <th>26508</th>\n",
       "      <td>0</td>\n",
       "      <td>0</td>\n",
       "    </tr>\n",
       "    <tr>\n",
       "      <th>4070</th>\n",
       "      <td>0</td>\n",
       "      <td>0</td>\n",
       "    </tr>\n",
       "  </tbody>\n",
       "</table>\n",
       "</div>"
      ],
      "text/plain": [
       "       Actual  Predicted\n",
       "35639       1          1\n",
       "27108       1          1\n",
       "2785        0          1\n",
       "26508       0          0\n",
       "4070        0          0"
      ]
     },
     "execution_count": 149,
     "metadata": {},
     "output_type": "execute_result"
    }
   ],
   "source": [
    "df_lightgbmpredict=pd.DataFrame({'Actual': y_test, 'Predicted': lightgbm_predict})\n",
    "df_lightgbmpredict.head()"
   ]
  },
  {
   "cell_type": "code",
   "execution_count": 150,
   "metadata": {},
   "outputs": [
    {
     "data": {
      "text/plain": [
       "<sklearn.metrics._plot.confusion_matrix.ConfusionMatrixDisplay at 0x21e571e95a0>"
      ]
     },
     "execution_count": 150,
     "metadata": {},
     "output_type": "execute_result"
    },
    {
     "data": {
      "image/png": "[encoded data removed]",
      "text/plain": [
       "<Figure size 800x550 with 2 Axes>"
      ]
     },
     "metadata": {},
     "output_type": "display_data"
    }
   ],
   "source": [
    "plot_confusion_matrix(lightgbm, \n",
    "                      X_test, \n",
    "                      y_test,\n",
    "                      display_labels=[\"TOP 3\", \"OTHERS\"])"
   ]
  },
  {
   "cell_type": "code",
   "execution_count": 151,
   "metadata": {},
   "outputs": [
    {
     "name": "stdout",
     "output_type": "stream",
     "text": [
      "[[5333 1206]\n",
      " [ 881 5905]]\n",
      "              precision    recall  f1-score   support\n",
      "\n",
      "           0       0.86      0.82      0.84      6539\n",
      "           1       0.83      0.87      0.85      6786\n",
      "\n",
      "    accuracy                           0.84     13325\n",
      "   macro avg       0.84      0.84      0.84     13325\n",
      "weighted avg       0.84      0.84      0.84     13325\n",
      "\n",
      "Light Gradient Boosting(lightgbm):  0.8433771106941839\n"
     ]
    }
   ],
   "source": [
    "print(metrics.confusion_matrix(y_test,lightgbm_predict))\n",
    "print(metrics.classification_report(y_test,lightgbm_predict))\n",
    "print(\"Light Gradient Boosting(lightgbm): \", accuracy_score(y_test, lightgbm_predict))"
   ]
  },
  {
   "cell_type": "markdown",
   "metadata": {},
   "source": [
    "Light Gradient Boosting (lightgbm) give accuracy of 84.3%"
   ]
  },
  {
   "cell_type": "markdown",
   "metadata": {},
   "source": [
    "# Model 3 Gradient Boosting Classifier (gbc)"
   ]
  },
  {
   "cell_type": "code",
   "execution_count": 152,
   "metadata": {},
   "outputs": [
    {
     "data": {
      "text/html": [
       "<style>#sk-container-id-10 {color: black;background-color: white;}#sk-container-id-10 pre{padding: 0;}#sk-container-id-10 div.sk-toggleable {background-color: white;}#sk-container-id-10 label.sk-toggleable__label {cursor: pointer;display: block;width: 100%;margin-bottom: 0;padding: 0.3em;box-sizing: border-box;text-align: center;}#sk-container-id-10 label.sk-toggleable__label-arrow:before {content: \"▸\";float: left;margin-right: 0.25em;color: #696969;}#sk-container-id-10 label.sk-toggleable__label-arrow:hover:before {color: black;}#sk-container-id-10 div.sk-estimator:hover label.sk-toggleable__label-arrow:before {color: black;}#sk-container-id-10 div.sk-toggleable__content {max-height: 0;max-width: 0;overflow: hidden;text-align: left;background-color: #f0f8ff;}#sk-container-id-10 div.sk-toggleable__content pre {margin: 0.2em;color: black;border-radius: 0.25em;background-color: #f0f8ff;}#sk-container-id-10 input.sk-toggleable__control:checked~div.sk-toggleable__content {max-height: 200px;max-width: 100%;overflow: auto;}#sk-container-id-10 input.sk-toggleable__control:checked~label.sk-toggleable__label-arrow:before {content: \"▾\";}#sk-container-id-10 div.sk-estimator input.sk-toggleable__control:checked~label.sk-toggleable__label {background-color: #d4ebff;}#sk-container-id-10 div.sk-label input.sk-toggleable__control:checked~label.sk-toggleable__label {background-color: #d4ebff;}#sk-container-id-10 input.sk-hidden--visually {border: 0;clip: rect(1px 1px 1px 1px);clip: rect(1px, 1px, 1px, 1px);height: 1px;margin: -1px;overflow: hidden;padding: 0;position: absolute;width: 1px;}#sk-container-id-10 div.sk-estimator {font-family: monospace;background-color: #f0f8ff;border: 1px dotted black;border-radius: 0.25em;box-sizing: border-box;margin-bottom: 0.5em;}#sk-container-id-10 div.sk-estimator:hover {background-color: #d4ebff;}#sk-container-id-10 div.sk-parallel-item::after {content: \"\";width: 100%;border-bottom: 1px solid gray;flex-grow: 1;}#sk-container-id-10 div.sk-label:hover label.sk-toggleable__label {background-color: #d4ebff;}#sk-container-id-10 div.sk-serial::before {content: \"\";position: absolute;border-left: 1px solid gray;box-sizing: border-box;top: 0;bottom: 0;left: 50%;z-index: 0;}#sk-container-id-10 div.sk-serial {display: flex;flex-direction: column;align-items: center;background-color: white;padding-right: 0.2em;padding-left: 0.2em;position: relative;}#sk-container-id-10 div.sk-item {position: relative;z-index: 1;}#sk-container-id-10 div.sk-parallel {display: flex;align-items: stretch;justify-content: center;background-color: white;position: relative;}#sk-container-id-10 div.sk-item::before, #sk-container-id-10 div.sk-parallel-item::before {content: \"\";position: absolute;border-left: 1px solid gray;box-sizing: border-box;top: 0;bottom: 0;left: 50%;z-index: -1;}#sk-container-id-10 div.sk-parallel-item {display: flex;flex-direction: column;z-index: 1;position: relative;background-color: white;}#sk-container-id-10 div.sk-parallel-item:first-child::after {align-self: flex-end;width: 50%;}#sk-container-id-10 div.sk-parallel-item:last-child::after {align-self: flex-start;width: 50%;}#sk-container-id-10 div.sk-parallel-item:only-child::after {width: 0;}#sk-container-id-10 div.sk-dashed-wrapped {border: 1px dashed gray;margin: 0 0.4em 0.5em 0.4em;box-sizing: border-box;padding-bottom: 0.4em;background-color: white;}#sk-container-id-10 div.sk-label label {font-family: monospace;font-weight: bold;display: inline-block;line-height: 1.2em;}#sk-container-id-10 div.sk-label-container {text-align: center;}#sk-container-id-10 div.sk-container {/* jupyter's `normalize.less` sets `[hidden] { display: none; }` but bootstrap.min.css set `[hidden] { display: none !important; }` so we also need the `!important` here to be able to override the default hidden behavior on the sphinx rendered scikit-learn.org. See: https://github.com/scikit-learn/scikit-learn/issues/21755 */display: inline-block !important;position: relative;}#sk-container-id-10 div.sk-text-repr-fallback {display: none;}</style><div id=\"sk-container-id-10\" class=\"sk-top-container\"><div class=\"sk-text-repr-fallback\"><pre>GradientBoostingClassifier(ccp_alpha=0.0, criterion=&#x27;friedman_mse&#x27;, init=None,\n",
       "                           learning_rate=0.1, loss=&#x27;log_loss&#x27;, max_depth=3,\n",
       "                           max_features=None, max_leaf_nodes=None,\n",
       "                           min_impurity_decrease=0.0, min_samples_leaf=1,\n",
       "                           min_samples_split=2, min_weight_fraction_leaf=0.0,\n",
       "                           n_estimators=100, n_iter_no_change=None,\n",
       "                           random_state=111, subsample=1.0, tol=0.0001,\n",
       "                           validation_fraction=0.1, verbose=0,\n",
       "                           warm_start=False)</pre><b>In a Jupyter environment, please rerun this cell to show the HTML representation or trust the notebook. <br />On GitHub, the HTML representation is unable to render, please try loading this page with nbviewer.org.</b></div><div class=\"sk-container\" hidden><div class=\"sk-item\"><div class=\"sk-estimator sk-toggleable\"><input class=\"sk-toggleable__control sk-hidden--visually\" id=\"sk-estimator-id-10\" type=\"checkbox\" checked><label for=\"sk-estimator-id-10\" class=\"sk-toggleable__label sk-toggleable__label-arrow\">GradientBoostingClassifier</label><div class=\"sk-toggleable__content\"><pre>GradientBoostingClassifier(ccp_alpha=0.0, criterion=&#x27;friedman_mse&#x27;, init=None,\n",
       "                           learning_rate=0.1, loss=&#x27;log_loss&#x27;, max_depth=3,\n",
       "                           max_features=None, max_leaf_nodes=None,\n",
       "                           min_impurity_decrease=0.0, min_samples_leaf=1,\n",
       "                           min_samples_split=2, min_weight_fraction_leaf=0.0,\n",
       "                           n_estimators=100, n_iter_no_change=None,\n",
       "                           random_state=111, subsample=1.0, tol=0.0001,\n",
       "                           validation_fraction=0.1, verbose=0,\n",
       "                           warm_start=False)</pre></div></div></div></div></div>"
      ],
      "text/plain": [
       "GradientBoostingClassifier(ccp_alpha=0.0, criterion='friedman_mse', init=None,\n",
       "                           learning_rate=0.1, loss='log_loss', max_depth=3,\n",
       "                           max_features=None, max_leaf_nodes=None,\n",
       "                           min_impurity_decrease=0.0, min_samples_leaf=1,\n",
       "                           min_samples_split=2, min_weight_fraction_leaf=0.0,\n",
       "                           n_estimators=100, n_iter_no_change=None,\n",
       "                           random_state=111, subsample=1.0, tol=0.0001,\n",
       "                           validation_fraction=0.1, verbose=0,\n",
       "                           warm_start=False)"
      ]
     },
     "execution_count": 152,
     "metadata": {},
     "output_type": "execute_result"
    }
   ],
   "source": [
    "from sklearn.ensemble import GradientBoostingClassifier\n",
    "gbc= GradientBoostingClassifier(random_state=111)\n",
    "gbc.fit(X_train,y_train)"
   ]
  },
  {
   "cell_type": "code",
   "execution_count": 153,
   "metadata": {},
   "outputs": [
    {
     "data": {
      "text/plain": [
       "array([1, 1, 1, ..., 0, 0, 1], dtype=int64)"
      ]
     },
     "execution_count": 153,
     "metadata": {},
     "output_type": "execute_result"
    }
   ],
   "source": [
    "gbc_predict= gbc.predict(X_test)\n",
    "gbc_predict"
   ]
  },
  {
   "cell_type": "code",
   "execution_count": 154,
   "metadata": {},
   "outputs": [
    {
     "data": {
      "text/html": [
       "<div>\n",
       "<style scoped>\n",
       "    .dataframe tbody tr th:only-of-type {\n",
       "        vertical-align: middle;\n",
       "    }\n",
       "\n",
       "    .dataframe tbody tr th {\n",
       "        vertical-align: top;\n",
       "    }\n",
       "\n",
       "    .dataframe thead th {\n",
       "        text-align: right;\n",
       "    }\n",
       "</style>\n",
       "<table border=\"1\" class=\"dataframe\">\n",
       "  <thead>\n",
       "    <tr style=\"text-align: right;\">\n",
       "      <th></th>\n",
       "      <th>Actual</th>\n",
       "      <th>Predicted</th>\n",
       "    </tr>\n",
       "  </thead>\n",
       "  <tbody>\n",
       "    <tr>\n",
       "      <th>35639</th>\n",
       "      <td>1</td>\n",
       "      <td>1</td>\n",
       "    </tr>\n",
       "    <tr>\n",
       "      <th>27108</th>\n",
       "      <td>1</td>\n",
       "      <td>1</td>\n",
       "    </tr>\n",
       "    <tr>\n",
       "      <th>2785</th>\n",
       "      <td>0</td>\n",
       "      <td>1</td>\n",
       "    </tr>\n",
       "    <tr>\n",
       "      <th>26508</th>\n",
       "      <td>0</td>\n",
       "      <td>0</td>\n",
       "    </tr>\n",
       "    <tr>\n",
       "      <th>4070</th>\n",
       "      <td>0</td>\n",
       "      <td>0</td>\n",
       "    </tr>\n",
       "  </tbody>\n",
       "</table>\n",
       "</div>"
      ],
      "text/plain": [
       "       Actual  Predicted\n",
       "35639       1          1\n",
       "27108       1          1\n",
       "2785        0          1\n",
       "26508       0          0\n",
       "4070        0          0"
      ]
     },
     "execution_count": 154,
     "metadata": {},
     "output_type": "execute_result"
    }
   ],
   "source": [
    "df_gbcpredict=pd.DataFrame({'Actual': y_test, 'Predicted': gbc_predict})\n",
    "df_gbcpredict.head()"
   ]
  },
  {
   "cell_type": "code",
   "execution_count": 155,
   "metadata": {},
   "outputs": [
    {
     "data": {
      "text/plain": [
       "<sklearn.metrics._plot.confusion_matrix.ConfusionMatrixDisplay at 0x21e02edcfa0>"
      ]
     },
     "execution_count": 155,
     "metadata": {},
     "output_type": "execute_result"
    },
    {
     "data": {
      "image/png": "[encoded data removed]",
      "text/plain": [
       "<Figure size 800x550 with 2 Axes>"
      ]
     },
     "metadata": {},
     "output_type": "display_data"
    }
   ],
   "source": [
    "plot_confusion_matrix(gbc, \n",
    "                      X_test, \n",
    "                      y_test,\n",
    "                      display_labels=[\"TOP 3\", \"OTHERS\"])"
   ]
  },
  {
   "cell_type": "code",
   "execution_count": 156,
   "metadata": {},
   "outputs": [
    {
     "name": "stdout",
     "output_type": "stream",
     "text": [
      "[[5278 1261]\n",
      " [1708 5078]]\n",
      "              precision    recall  f1-score   support\n",
      "\n",
      "           0       0.76      0.81      0.78      6539\n",
      "           1       0.80      0.75      0.77      6786\n",
      "\n",
      "    accuracy                           0.78     13325\n",
      "   macro avg       0.78      0.78      0.78     13325\n",
      "weighted avg       0.78      0.78      0.78     13325\n",
      "\n",
      "Gradient Boosting Classification (gbc):  0.7771857410881801\n"
     ]
    }
   ],
   "source": [
    "print(metrics.confusion_matrix(y_test,gbc_predict))\n",
    "print(metrics.classification_report(y_test,gbc_predict))\n",
    "print(\"Gradient Boosting Classification (gbc): \", accuracy_score(y_test, gbc_predict))"
   ]
  },
  {
   "cell_type": "markdown",
   "metadata": {},
   "source": [
    "Gradient Boosting Classifier (gbc) give accuracy of 77.7%"
   ]
  },
  {
   "cell_type": "markdown",
   "metadata": {},
   "source": [
    "# Model 4 Random Forest Classifier (rf)"
   ]
  },
  {
   "cell_type": "code",
   "execution_count": 157,
   "metadata": {},
   "outputs": [
    {
     "data": {
      "text/html": [
       "<style>#sk-container-id-11 {color: black;background-color: white;}#sk-container-id-11 pre{padding: 0;}#sk-container-id-11 div.sk-toggleable {background-color: white;}#sk-container-id-11 label.sk-toggleable__label {cursor: pointer;display: block;width: 100%;margin-bottom: 0;padding: 0.3em;box-sizing: border-box;text-align: center;}#sk-container-id-11 label.sk-toggleable__label-arrow:before {content: \"▸\";float: left;margin-right: 0.25em;color: #696969;}#sk-container-id-11 label.sk-toggleable__label-arrow:hover:before {color: black;}#sk-container-id-11 div.sk-estimator:hover label.sk-toggleable__label-arrow:before {color: black;}#sk-container-id-11 div.sk-toggleable__content {max-height: 0;max-width: 0;overflow: hidden;text-align: left;background-color: #f0f8ff;}#sk-container-id-11 div.sk-toggleable__content pre {margin: 0.2em;color: black;border-radius: 0.25em;background-color: #f0f8ff;}#sk-container-id-11 input.sk-toggleable__control:checked~div.sk-toggleable__content {max-height: 200px;max-width: 100%;overflow: auto;}#sk-container-id-11 input.sk-toggleable__control:checked~label.sk-toggleable__label-arrow:before {content: \"▾\";}#sk-container-id-11 div.sk-estimator input.sk-toggleable__control:checked~label.sk-toggleable__label {background-color: #d4ebff;}#sk-container-id-11 div.sk-label input.sk-toggleable__control:checked~label.sk-toggleable__label {background-color: #d4ebff;}#sk-container-id-11 input.sk-hidden--visually {border: 0;clip: rect(1px 1px 1px 1px);clip: rect(1px, 1px, 1px, 1px);height: 1px;margin: -1px;overflow: hidden;padding: 0;position: absolute;width: 1px;}#sk-container-id-11 div.sk-estimator {font-family: monospace;background-color: #f0f8ff;border: 1px dotted black;border-radius: 0.25em;box-sizing: border-box;margin-bottom: 0.5em;}#sk-container-id-11 div.sk-estimator:hover {background-color: #d4ebff;}#sk-container-id-11 div.sk-parallel-item::after {content: \"\";width: 100%;border-bottom: 1px solid gray;flex-grow: 1;}#sk-container-id-11 div.sk-label:hover label.sk-toggleable__label {background-color: #d4ebff;}#sk-container-id-11 div.sk-serial::before {content: \"\";position: absolute;border-left: 1px solid gray;box-sizing: border-box;top: 0;bottom: 0;left: 50%;z-index: 0;}#sk-container-id-11 div.sk-serial {display: flex;flex-direction: column;align-items: center;background-color: white;padding-right: 0.2em;padding-left: 0.2em;position: relative;}#sk-container-id-11 div.sk-item {position: relative;z-index: 1;}#sk-container-id-11 div.sk-parallel {display: flex;align-items: stretch;justify-content: center;background-color: white;position: relative;}#sk-container-id-11 div.sk-item::before, #sk-container-id-11 div.sk-parallel-item::before {content: \"\";position: absolute;border-left: 1px solid gray;box-sizing: border-box;top: 0;bottom: 0;left: 50%;z-index: -1;}#sk-container-id-11 div.sk-parallel-item {display: flex;flex-direction: column;z-index: 1;position: relative;background-color: white;}#sk-container-id-11 div.sk-parallel-item:first-child::after {align-self: flex-end;width: 50%;}#sk-container-id-11 div.sk-parallel-item:last-child::after {align-self: flex-start;width: 50%;}#sk-container-id-11 div.sk-parallel-item:only-child::after {width: 0;}#sk-container-id-11 div.sk-dashed-wrapped {border: 1px dashed gray;margin: 0 0.4em 0.5em 0.4em;box-sizing: border-box;padding-bottom: 0.4em;background-color: white;}#sk-container-id-11 div.sk-label label {font-family: monospace;font-weight: bold;display: inline-block;line-height: 1.2em;}#sk-container-id-11 div.sk-label-container {text-align: center;}#sk-container-id-11 div.sk-container {/* jupyter's `normalize.less` sets `[hidden] { display: none; }` but bootstrap.min.css set `[hidden] { display: none !important; }` so we also need the `!important` here to be able to override the default hidden behavior on the sphinx rendered scikit-learn.org. See: https://github.com/scikit-learn/scikit-learn/issues/21755 */display: inline-block !important;position: relative;}#sk-container-id-11 div.sk-text-repr-fallback {display: none;}</style><div id=\"sk-container-id-11\" class=\"sk-top-container\"><div class=\"sk-text-repr-fallback\"><pre>RandomForestClassifier(bootstrap=True, ccp_alpha=0.0, class_weight=None,\n",
       "                       criterion=&#x27;entropy&#x27;, max_depth=None, max_features=&#x27;sqrt&#x27;,\n",
       "                       max_leaf_nodes=None, max_samples=None,\n",
       "                       min_impurity_decrease=0.0, min_samples_leaf=1,\n",
       "                       min_samples_split=2, min_weight_fraction_leaf=0.0,\n",
       "                       n_estimators=100, n_jobs=None, oob_score=False,\n",
       "                       random_state=111, verbose=0, warm_start=False)</pre><b>In a Jupyter environment, please rerun this cell to show the HTML representation or trust the notebook. <br />On GitHub, the HTML representation is unable to render, please try loading this page with nbviewer.org.</b></div><div class=\"sk-container\" hidden><div class=\"sk-item\"><div class=\"sk-estimator sk-toggleable\"><input class=\"sk-toggleable__control sk-hidden--visually\" id=\"sk-estimator-id-11\" type=\"checkbox\" checked><label for=\"sk-estimator-id-11\" class=\"sk-toggleable__label sk-toggleable__label-arrow\">RandomForestClassifier</label><div class=\"sk-toggleable__content\"><pre>RandomForestClassifier(bootstrap=True, ccp_alpha=0.0, class_weight=None,\n",
       "                       criterion=&#x27;entropy&#x27;, max_depth=None, max_features=&#x27;sqrt&#x27;,\n",
       "                       max_leaf_nodes=None, max_samples=None,\n",
       "                       min_impurity_decrease=0.0, min_samples_leaf=1,\n",
       "                       min_samples_split=2, min_weight_fraction_leaf=0.0,\n",
       "                       n_estimators=100, n_jobs=None, oob_score=False,\n",
       "                       random_state=111, verbose=0, warm_start=False)</pre></div></div></div></div></div>"
      ],
      "text/plain": [
       "RandomForestClassifier(bootstrap=True, ccp_alpha=0.0, class_weight=None,\n",
       "                       criterion='entropy', max_depth=None, max_features='sqrt',\n",
       "                       max_leaf_nodes=None, max_samples=None,\n",
       "                       min_impurity_decrease=0.0, min_samples_leaf=1,\n",
       "                       min_samples_split=2, min_weight_fraction_leaf=0.0,\n",
       "                       n_estimators=100, n_jobs=None, oob_score=False,\n",
       "                       random_state=111, verbose=0, warm_start=False)"
      ]
     },
     "execution_count": 157,
     "metadata": {},
     "output_type": "execute_result"
    }
   ],
   "source": [
    "from sklearn.ensemble import RandomForestClassifier\n",
    "\n",
    "rf = RandomForestClassifier(criterion='entropy', random_state=111)\n",
    "rf.fit(X_train,y_train)"
   ]
  },
  {
   "cell_type": "code",
   "execution_count": 158,
   "metadata": {},
   "outputs": [
    {
     "data": {
      "text/plain": [
       "array([1, 1, 1, ..., 0, 0, 1], dtype=int64)"
      ]
     },
     "execution_count": 158,
     "metadata": {},
     "output_type": "execute_result"
    }
   ],
   "source": [
    "rf_predict= rf.predict(X_test)\n",
    "rf_predict\n"
   ]
  },
  {
   "cell_type": "code",
   "execution_count": 159,
   "metadata": {},
   "outputs": [
    {
     "data": {
      "text/html": [
       "<div>\n",
       "<style scoped>\n",
       "    .dataframe tbody tr th:only-of-type {\n",
       "        vertical-align: middle;\n",
       "    }\n",
       "\n",
       "    .dataframe tbody tr th {\n",
       "        vertical-align: top;\n",
       "    }\n",
       "\n",
       "    .dataframe thead th {\n",
       "        text-align: right;\n",
       "    }\n",
       "</style>\n",
       "<table border=\"1\" class=\"dataframe\">\n",
       "  <thead>\n",
       "    <tr style=\"text-align: right;\">\n",
       "      <th></th>\n",
       "      <th>Actual</th>\n",
       "      <th>Predicted</th>\n",
       "    </tr>\n",
       "  </thead>\n",
       "  <tbody>\n",
       "    <tr>\n",
       "      <th>35639</th>\n",
       "      <td>1</td>\n",
       "      <td>1</td>\n",
       "    </tr>\n",
       "    <tr>\n",
       "      <th>27108</th>\n",
       "      <td>1</td>\n",
       "      <td>1</td>\n",
       "    </tr>\n",
       "    <tr>\n",
       "      <th>2785</th>\n",
       "      <td>0</td>\n",
       "      <td>1</td>\n",
       "    </tr>\n",
       "    <tr>\n",
       "      <th>26508</th>\n",
       "      <td>0</td>\n",
       "      <td>0</td>\n",
       "    </tr>\n",
       "    <tr>\n",
       "      <th>4070</th>\n",
       "      <td>0</td>\n",
       "      <td>0</td>\n",
       "    </tr>\n",
       "  </tbody>\n",
       "</table>\n",
       "</div>"
      ],
      "text/plain": [
       "       Actual  Predicted\n",
       "35639       1          1\n",
       "27108       1          1\n",
       "2785        0          1\n",
       "26508       0          0\n",
       "4070        0          0"
      ]
     },
     "execution_count": 159,
     "metadata": {},
     "output_type": "execute_result"
    }
   ],
   "source": [
    "df_rfpredict=pd.DataFrame({'Actual': y_test, 'Predicted': rf_predict})\n",
    "df_rfpredict.head()"
   ]
  },
  {
   "cell_type": "code",
   "execution_count": 160,
   "metadata": {},
   "outputs": [
    {
     "data": {
      "text/plain": [
       "<sklearn.metrics._plot.confusion_matrix.ConfusionMatrixDisplay at 0x21e586daa10>"
      ]
     },
     "execution_count": 160,
     "metadata": {},
     "output_type": "execute_result"
    },
    {
     "data": {
      "image/png": "[encoded data removed]",
      "text/plain": [
       "<Figure size 800x550 with 2 Axes>"
      ]
     },
     "metadata": {},
     "output_type": "display_data"
    }
   ],
   "source": [
    "plot_confusion_matrix(rf, \n",
    "                      X_test, \n",
    "                      y_test,\n",
    "                      display_labels=[\"TOP 3\", \"OTHERS\"])"
   ]
  },
  {
   "cell_type": "code",
   "execution_count": 161,
   "metadata": {},
   "outputs": [
    {
     "name": "stdout",
     "output_type": "stream",
     "text": [
      "[[5553  986]\n",
      " [1274 5512]]\n",
      "              precision    recall  f1-score   support\n",
      "\n",
      "           0       0.81      0.85      0.83      6539\n",
      "           1       0.85      0.81      0.83      6786\n",
      "\n",
      "    accuracy                           0.83     13325\n",
      "   macro avg       0.83      0.83      0.83     13325\n",
      "weighted avg       0.83      0.83      0.83     13325\n",
      "\n",
      "Random Forest Classification (rf):  0.8303939962476548\n"
     ]
    }
   ],
   "source": [
    "print(metrics.confusion_matrix(y_test,rf_predict))\n",
    "print(metrics.classification_report(y_test,rf_predict))\n",
    "print(\"Random Forest Classification (rf): \", accuracy_score(y_test, rf_predict))"
   ]
  },
  {
   "cell_type": "markdown",
   "metadata": {},
   "source": [
    "Random Forest Classification (rf) give accuracy of 83.0%"
   ]
  },
  {
   "cell_type": "markdown",
   "metadata": {},
   "source": [
    "# Model 5 Extra Trees Classifier (et)"
   ]
  },
  {
   "cell_type": "code",
   "execution_count": 162,
   "metadata": {},
   "outputs": [
    {
     "data": {
      "text/html": [
       "<style>#sk-container-id-12 {color: black;background-color: white;}#sk-container-id-12 pre{padding: 0;}#sk-container-id-12 div.sk-toggleable {background-color: white;}#sk-container-id-12 label.sk-toggleable__label {cursor: pointer;display: block;width: 100%;margin-bottom: 0;padding: 0.3em;box-sizing: border-box;text-align: center;}#sk-container-id-12 label.sk-toggleable__label-arrow:before {content: \"▸\";float: left;margin-right: 0.25em;color: #696969;}#sk-container-id-12 label.sk-toggleable__label-arrow:hover:before {color: black;}#sk-container-id-12 div.sk-estimator:hover label.sk-toggleable__label-arrow:before {color: black;}#sk-container-id-12 div.sk-toggleable__content {max-height: 0;max-width: 0;overflow: hidden;text-align: left;background-color: #f0f8ff;}#sk-container-id-12 div.sk-toggleable__content pre {margin: 0.2em;color: black;border-radius: 0.25em;background-color: #f0f8ff;}#sk-container-id-12 input.sk-toggleable__control:checked~div.sk-toggleable__content {max-height: 200px;max-width: 100%;overflow: auto;}#sk-container-id-12 input.sk-toggleable__control:checked~label.sk-toggleable__label-arrow:before {content: \"▾\";}#sk-container-id-12 div.sk-estimator input.sk-toggleable__control:checked~label.sk-toggleable__label {background-color: #d4ebff;}#sk-container-id-12 div.sk-label input.sk-toggleable__control:checked~label.sk-toggleable__label {background-color: #d4ebff;}#sk-container-id-12 input.sk-hidden--visually {border: 0;clip: rect(1px 1px 1px 1px);clip: rect(1px, 1px, 1px, 1px);height: 1px;margin: -1px;overflow: hidden;padding: 0;position: absolute;width: 1px;}#sk-container-id-12 div.sk-estimator {font-family: monospace;background-color: #f0f8ff;border: 1px dotted black;border-radius: 0.25em;box-sizing: border-box;margin-bottom: 0.5em;}#sk-container-id-12 div.sk-estimator:hover {background-color: #d4ebff;}#sk-container-id-12 div.sk-parallel-item::after {content: \"\";width: 100%;border-bottom: 1px solid gray;flex-grow: 1;}#sk-container-id-12 div.sk-label:hover label.sk-toggleable__label {background-color: #d4ebff;}#sk-container-id-12 div.sk-serial::before {content: \"\";position: absolute;border-left: 1px solid gray;box-sizing: border-box;top: 0;bottom: 0;left: 50%;z-index: 0;}#sk-container-id-12 div.sk-serial {display: flex;flex-direction: column;align-items: center;background-color: white;padding-right: 0.2em;padding-left: 0.2em;position: relative;}#sk-container-id-12 div.sk-item {position: relative;z-index: 1;}#sk-container-id-12 div.sk-parallel {display: flex;align-items: stretch;justify-content: center;background-color: white;position: relative;}#sk-container-id-12 div.sk-item::before, #sk-container-id-12 div.sk-parallel-item::before {content: \"\";position: absolute;border-left: 1px solid gray;box-sizing: border-box;top: 0;bottom: 0;left: 50%;z-index: -1;}#sk-container-id-12 div.sk-parallel-item {display: flex;flex-direction: column;z-index: 1;position: relative;background-color: white;}#sk-container-id-12 div.sk-parallel-item:first-child::after {align-self: flex-end;width: 50%;}#sk-container-id-12 div.sk-parallel-item:last-child::after {align-self: flex-start;width: 50%;}#sk-container-id-12 div.sk-parallel-item:only-child::after {width: 0;}#sk-container-id-12 div.sk-dashed-wrapped {border: 1px dashed gray;margin: 0 0.4em 0.5em 0.4em;box-sizing: border-box;padding-bottom: 0.4em;background-color: white;}#sk-container-id-12 div.sk-label label {font-family: monospace;font-weight: bold;display: inline-block;line-height: 1.2em;}#sk-container-id-12 div.sk-label-container {text-align: center;}#sk-container-id-12 div.sk-container {/* jupyter's `normalize.less` sets `[hidden] { display: none; }` but bootstrap.min.css set `[hidden] { display: none !important; }` so we also need the `!important` here to be able to override the default hidden behavior on the sphinx rendered scikit-learn.org. See: https://github.com/scikit-learn/scikit-learn/issues/21755 */display: inline-block !important;position: relative;}#sk-container-id-12 div.sk-text-repr-fallback {display: none;}</style><div id=\"sk-container-id-12\" class=\"sk-top-container\"><div class=\"sk-text-repr-fallback\"><pre>ExtraTreesClassifier(bootstrap=False, ccp_alpha=0.0, class_weight=None,\n",
       "                     criterion=&#x27;gini&#x27;, max_depth=None, max_features=&#x27;sqrt&#x27;,\n",
       "                     max_leaf_nodes=None, max_samples=None,\n",
       "                     min_impurity_decrease=0.0, min_samples_leaf=1,\n",
       "                     min_samples_split=2, min_weight_fraction_leaf=0.0,\n",
       "                     n_estimators=100, n_jobs=None, oob_score=False,\n",
       "                     random_state=111, verbose=0, warm_start=False)</pre><b>In a Jupyter environment, please rerun this cell to show the HTML representation or trust the notebook. <br />On GitHub, the HTML representation is unable to render, please try loading this page with nbviewer.org.</b></div><div class=\"sk-container\" hidden><div class=\"sk-item\"><div class=\"sk-estimator sk-toggleable\"><input class=\"sk-toggleable__control sk-hidden--visually\" id=\"sk-estimator-id-12\" type=\"checkbox\" checked><label for=\"sk-estimator-id-12\" class=\"sk-toggleable__label sk-toggleable__label-arrow\">ExtraTreesClassifier</label><div class=\"sk-toggleable__content\"><pre>ExtraTreesClassifier(bootstrap=False, ccp_alpha=0.0, class_weight=None,\n",
       "                     criterion=&#x27;gini&#x27;, max_depth=None, max_features=&#x27;sqrt&#x27;,\n",
       "                     max_leaf_nodes=None, max_samples=None,\n",
       "                     min_impurity_decrease=0.0, min_samples_leaf=1,\n",
       "                     min_samples_split=2, min_weight_fraction_leaf=0.0,\n",
       "                     n_estimators=100, n_jobs=None, oob_score=False,\n",
       "                     random_state=111, verbose=0, warm_start=False)</pre></div></div></div></div></div>"
      ],
      "text/plain": [
       "ExtraTreesClassifier(bootstrap=False, ccp_alpha=0.0, class_weight=None,\n",
       "                     criterion='gini', max_depth=None, max_features='sqrt',\n",
       "                     max_leaf_nodes=None, max_samples=None,\n",
       "                     min_impurity_decrease=0.0, min_samples_leaf=1,\n",
       "                     min_samples_split=2, min_weight_fraction_leaf=0.0,\n",
       "                     n_estimators=100, n_jobs=None, oob_score=False,\n",
       "                     random_state=111, verbose=0, warm_start=False)"
      ]
     },
     "execution_count": 162,
     "metadata": {},
     "output_type": "execute_result"
    }
   ],
   "source": [
    "from sklearn.ensemble import ExtraTreesClassifier\n",
    "\n",
    "et = ExtraTreesClassifier(n_estimators=100, random_state=111)\n",
    "et.fit(X_train,y_train)"
   ]
  },
  {
   "cell_type": "code",
   "execution_count": 163,
   "metadata": {},
   "outputs": [
    {
     "data": {
      "text/plain": [
       "array([1, 1, 1, ..., 0, 0, 1], dtype=int64)"
      ]
     },
     "execution_count": 163,
     "metadata": {},
     "output_type": "execute_result"
    }
   ],
   "source": [
    "et_predict= et.predict(X_test)\n",
    "et_predict"
   ]
  },
  {
   "cell_type": "code",
   "execution_count": 164,
   "metadata": {},
   "outputs": [
    {
     "data": {
      "text/html": [
       "<div>\n",
       "<style scoped>\n",
       "    .dataframe tbody tr th:only-of-type {\n",
       "        vertical-align: middle;\n",
       "    }\n",
       "\n",
       "    .dataframe tbody tr th {\n",
       "        vertical-align: top;\n",
       "    }\n",
       "\n",
       "    .dataframe thead th {\n",
       "        text-align: right;\n",
       "    }\n",
       "</style>\n",
       "<table border=\"1\" class=\"dataframe\">\n",
       "  <thead>\n",
       "    <tr style=\"text-align: right;\">\n",
       "      <th></th>\n",
       "      <th>Actual</th>\n",
       "      <th>Predicted</th>\n",
       "    </tr>\n",
       "  </thead>\n",
       "  <tbody>\n",
       "    <tr>\n",
       "      <th>35639</th>\n",
       "      <td>1</td>\n",
       "      <td>1</td>\n",
       "    </tr>\n",
       "    <tr>\n",
       "      <th>27108</th>\n",
       "      <td>1</td>\n",
       "      <td>1</td>\n",
       "    </tr>\n",
       "    <tr>\n",
       "      <th>2785</th>\n",
       "      <td>0</td>\n",
       "      <td>1</td>\n",
       "    </tr>\n",
       "    <tr>\n",
       "      <th>26508</th>\n",
       "      <td>0</td>\n",
       "      <td>0</td>\n",
       "    </tr>\n",
       "    <tr>\n",
       "      <th>4070</th>\n",
       "      <td>0</td>\n",
       "      <td>0</td>\n",
       "    </tr>\n",
       "  </tbody>\n",
       "</table>\n",
       "</div>"
      ],
      "text/plain": [
       "       Actual  Predicted\n",
       "35639       1          1\n",
       "27108       1          1\n",
       "2785        0          1\n",
       "26508       0          0\n",
       "4070        0          0"
      ]
     },
     "execution_count": 164,
     "metadata": {},
     "output_type": "execute_result"
    }
   ],
   "source": [
    "df_etpredict=pd.DataFrame({'Actual': y_test, 'Predicted': et_predict})\n",
    "df_etpredict.head()"
   ]
  },
  {
   "cell_type": "code",
   "execution_count": 165,
   "metadata": {},
   "outputs": [
    {
     "data": {
      "text/plain": [
       "<sklearn.metrics._plot.confusion_matrix.ConfusionMatrixDisplay at 0x21e03316ad0>"
      ]
     },
     "execution_count": 165,
     "metadata": {},
     "output_type": "execute_result"
    },
    {
     "data": {
      "image/png": "[encoded data removed]",
      "text/plain": [
       "<Figure size 800x550 with 2 Axes>"
      ]
     },
     "metadata": {},
     "output_type": "display_data"
    }
   ],
   "source": [
    "plot_confusion_matrix(et, \n",
    "                      X_test, \n",
    "                      y_test,\n",
    "                      display_labels=[\"TOP 3\", \"OTHERS\"])"
   ]
  },
  {
   "cell_type": "code",
   "execution_count": 166,
   "metadata": {},
   "outputs": [
    {
     "name": "stdout",
     "output_type": "stream",
     "text": [
      "[[5606  933]\n",
      " [1297 5489]]\n",
      "              precision    recall  f1-score   support\n",
      "\n",
      "           0       0.81      0.86      0.83      6539\n",
      "           1       0.85      0.81      0.83      6786\n",
      "\n",
      "    accuracy                           0.83     13325\n",
      "   macro avg       0.83      0.83      0.83     13325\n",
      "weighted avg       0.83      0.83      0.83     13325\n",
      "\n",
      "Extra Trees Classification (rf):  0.8326454033771107\n"
     ]
    }
   ],
   "source": [
    "print(metrics.confusion_matrix(y_test,et_predict))\n",
    "print(metrics.classification_report(y_test,et_predict))\n",
    "print(\"Extra Trees Classification (rf): \", accuracy_score(y_test, et_predict))"
   ]
  },
  {
   "cell_type": "markdown",
   "metadata": {},
   "source": [
    "Extra Trees Classifier (et) give accuracy of 83.3%"
   ]
  },
  {
   "cell_type": "markdown",
   "metadata": {},
   "source": [
    "### Conclusion <br>\n",
    "Overall models accuracy using fixed imbalance data SMOTE method<br>\n",
    "\n",
    "1. Extreme Gradient Boosting (xgboost) - 84.5%<br>\n",
    "2. Light Gradient Boosting (lightgbm) - 84.3%<br>\n",
    "3. Gradient Boosting Classifier (gbc) - 77.7%<br>\n",
    "4. Random Forest Classifier (rf) - 83.0% <br>\n",
    "5. Extra Trees Classifier (et) - 83.3% <br>\n",
    "\n",
    "Extreme Gradient Boosting (xgboost) model is selected for hypertuning"
   ]
  },
  {
   "cell_type": "markdown",
   "metadata": {},
   "source": [
    "## Hypertuning Model\n",
    "\n",
    "Compare both emsemble model (Hard Voting & Stacking Classifier) & GridSearch CV by using highest accuracy on model selection (XGboost) to see whether can improve the accuracy.\n",
    "1. HardVoting Classifier<br>\n",
    "2. Stacking Classifier<br>\n",
    "3. GridSearchCV(XGBoost)"
   ]
  },
  {
   "cell_type": "markdown",
   "metadata": {},
   "source": [
    "## 1. Hard Voting Classifier"
   ]
  },
  {
   "cell_type": "code",
   "execution_count": 167,
   "metadata": {},
   "outputs": [],
   "source": [
    "# create the sub models\n",
    "estimatorsHV = []\n",
    "\n",
    "LIGHTBOOST_model = LGBMClassifier(random_state=111)\n",
    "estimatorsHV.append(('Lightbooster', LIGHTBOOST_model))\n",
    "\n",
    "XGBOOST_model = xgb.XGBClassifier(random_state=111)\n",
    "estimatorsHV.append(('XGBOOST', XGBOOST_model))\n",
    "\n",
    "RANDOMFOREST_model = RandomForestClassifier(criterion='entropy', random_state=111)\n",
    "estimatorsHV.append(('Random forest', RANDOMFOREST_model))"
   ]
  },
  {
   "cell_type": "code",
   "execution_count": 168,
   "metadata": {},
   "outputs": [
    {
     "name": "stdout",
     "output_type": "stream",
     "text": [
      "LGBMClassifier(boosting_type='gbdt', class_weight=None, colsample_bytree=1.0,\n",
      "               importance_type='split', learning_rate=0.1, max_depth=-1,\n",
      "               min_child_samples=20, min_child_weight=0.001, min_split_gain=0.0,\n",
      "               n_estimators=100, n_jobs=-1, num_leaves=31, objective=None,\n",
      "               random_state=111, reg_alpha=0.0, reg_lambda=0.0, silent='warn',\n",
      "               subsample=1.0, subsample_for_bin=200000, subsample_freq=0) 0.8433771106941839\n",
      "XGBClassifier(base_score=0.5, booster='gbtree', callbacks=None,\n",
      "              colsample_bylevel=1, colsample_bynode=1, colsample_bytree=1,\n",
      "              early_stopping_rounds=None, enable_categorical=False,\n",
      "              eval_metric=None, feature_types=None, gamma=0, gpu_id=-1,\n",
      "              grow_policy='depthwise', importance_type=None,\n",
      "              interaction_constraints='', learning_rate=0.300000012,\n",
      "              max_bin=256, max_cat_threshold=64, max_cat_to_onehot=4,\n",
      "              max_delta_step=0, max_depth=6, max_leaves=0, min_child_weight=1,\n",
      "              missing=nan, monotone_constraints='()', n_estimators=100,\n",
      "              n_jobs=0, num_parallel_tree=1, objective='binary:logistic',\n",
      "              predictor='auto', ...) 0.8451782363977486\n",
      "RandomForestClassifier(bootstrap=True, ccp_alpha=0.0, class_weight=None,\n",
      "                       criterion='entropy', max_depth=None, max_features='sqrt',\n",
      "                       max_leaf_nodes=None, max_samples=None,\n",
      "                       min_impurity_decrease=0.0, min_samples_leaf=1,\n",
      "                       min_samples_split=2, min_weight_fraction_leaf=0.0,\n",
      "                       n_estimators=100, n_jobs=None, oob_score=False,\n",
      "                       random_state=111, verbose=0, warm_start=False) 0.8303939962476548\n"
     ]
    }
   ],
   "source": [
    "from sklearn.ensemble import VotingClassifier\n",
    "\n",
    "for i in (LIGHTBOOST_model, XGBOOST_model, RANDOMFOREST_model):\n",
    "    \n",
    "    # train each individual model\n",
    "    i.fit(X_train, y_train)\n",
    "    \n",
    "    # predict on test set\n",
    "    y_pred = i.predict(X_test)\n",
    "    \n",
    "    # print accuracy results\n",
    "    print(i, accuracy_score(y_test, y_pred))"
   ]
  },
  {
   "cell_type": "code",
   "execution_count": 169,
   "metadata": {},
   "outputs": [
    {
     "name": "stdout",
     "output_type": "stream",
     "text": [
      "              precision    recall  f1-score   support\n",
      "\n",
      "           0       0.86      0.83      0.84      6539\n",
      "           1       0.84      0.87      0.85      6786\n",
      "\n",
      "    accuracy                           0.85     13325\n",
      "   macro avg       0.85      0.85      0.85     13325\n",
      "weighted avg       0.85      0.85      0.85     13325\n",
      "\n",
      "Hard Voting Classifier:  0.8489305816135084\n"
     ]
    }
   ],
   "source": [
    "# Using VotingClassifier() to build ensemble model with Hard Voting\n",
    "\n",
    "ensemble_model = VotingClassifier(estimatorsHV)\n",
    "\n",
    "ensemble_model.fit(X_train,y_train)\n",
    "\n",
    "predicted_labels = ensemble_model.predict(X_test)            \n",
    "\n",
    "print(metrics.classification_report(y_test, predicted_labels))\n",
    "print(\"Hard Voting Classifier: \", accuracy_score(y_test, predicted_labels))"
   ]
  },
  {
   "cell_type": "markdown",
   "metadata": {},
   "source": [
    "## 2. STACKING CLASSIFIER"
   ]
  },
  {
   "cell_type": "code",
   "execution_count": 170,
   "metadata": {},
   "outputs": [],
   "source": [
    "from sklearn.ensemble import StackingClassifier\n",
    "\n",
    "estimatorsSC= []\n",
    "lightgbm_model = LGBMClassifier(random_state=111)\n",
    "estimatorsSC.append(('lightgbm',lightgbm_model))\n",
    "\n",
    "et_model = ExtraTreesClassifier(n_estimators=100, random_state=111)\n",
    "estimatorsSC.append(('et', et_model))\n",
    "\n",
    "rf_model = RandomForestClassifier(criterion='entropy', random_state=111)\n",
    "estimatorsSC.append(('rf', rf_model))\n",
    "\n",
    "sc = StackingClassifier(estimators= estimatorsSC, final_estimator=xgb.XGBClassifier(random_state=111))"
   ]
  },
  {
   "cell_type": "code",
   "execution_count": 171,
   "metadata": {},
   "outputs": [
    {
     "name": "stdout",
     "output_type": "stream",
     "text": [
      "Stacking Classifier:  0.8591369606003753\n"
     ]
    }
   ],
   "source": [
    "sc_train= sc.fit(X_train,y_train)\n",
    "\n",
    "predicted_labels_sc = sc.predict(X_test)            \n",
    "\n",
    "print(\"Stacking Classifier: \", accuracy_score(y_test, predicted_labels_sc))"
   ]
  },
  {
   "cell_type": "markdown",
   "metadata": {},
   "source": [
    "## 3. GridSearchCV for cross validation of best model (XGboost)"
   ]
  },
  {
   "cell_type": "code",
   "execution_count": 172,
   "metadata": {},
   "outputs": [],
   "source": [
    "from sklearn.model_selection import GridSearchCV # cross validation\n",
    "param_grid2 = {\n",
    "    'max_depth': [4,5,6],\n",
    "    'learning_rate': [0.5,0.3,0.2],\n",
    "    'gamma': [0,0.5,1],\n",
    "    'scale_pos_weight': [0,1,2],\n",
    "    'eval_metric': ['error']\n",
    "}\n",
    "modelxgb = GridSearchCV(param_grid=param_grid2, \n",
    "                             estimator=xgb_SMOTE , cv= 5, verbose=1)\n"
   ]
  },
  {
   "cell_type": "code",
   "execution_count": 173,
   "metadata": {},
   "outputs": [
    {
     "name": "stdout",
     "output_type": "stream",
     "text": [
      "Fitting 5 folds for each of 81 candidates, totalling 405 fits\n"
     ]
    },
    {
     "data": {
      "text/plain": [
       "{'eval_metric': 'error',\n",
       " 'gamma': 0.5,\n",
       " 'learning_rate': 0.3,\n",
       " 'max_depth': 6,\n",
       " 'scale_pos_weight': 1}"
      ]
     },
     "execution_count": 173,
     "metadata": {},
     "output_type": "execute_result"
    }
   ],
   "source": [
    "xgb_m = modelxgb.fit(X_train, y_train,\n",
    "        eval_set=[(X_test, y_test)],\n",
    "        verbose=False)\n",
    "\n",
    "xgb_m.best_params_"
   ]
  },
  {
   "cell_type": "code",
   "execution_count": 174,
   "metadata": {},
   "outputs": [
    {
     "name": "stdout",
     "output_type": "stream",
     "text": [
      "              precision    recall  f1-score   support\n",
      "\n",
      "           0       0.87      0.81      0.84      6539\n",
      "           1       0.83      0.88      0.85      6786\n",
      "\n",
      "    accuracy                           0.85     13325\n",
      "   macro avg       0.85      0.85      0.85     13325\n",
      "weighted avg       0.85      0.85      0.85     13325\n",
      "\n",
      "GridSearchCV:  0.8475046904315197\n"
     ]
    }
   ],
   "source": [
    "result_GSCV = xgb_m.predict(X_test)\n",
    "\n",
    "print(metrics.classification_report(y_test, result_GSCV))\n",
    "print(\"GridSearchCV: \", accuracy_score(y_test, result_GSCV))"
   ]
  },
  {
   "cell_type": "markdown",
   "metadata": {},
   "source": [
    "### Conclusion <br>\n",
    "Befor tuning xgbopst: 84.5%<br>\n",
    "Overall models accuracy after tuning<br>\n",
    "\n",
    "1. GridsearchCV - 84.7% <br>\n",
    "2. Hard Voting Classifier - 84.9% <br>\n",
    "3. Stacking Classifier - 85.9% <br>\n",
    "\n",
    "Final models to predict horse racing will be use under Stacking Classifier that increase from 84.5% to 85.9%"
   ]
  },
  {
   "cell_type": "markdown",
   "metadata": {},
   "source": [
    "# Scenario 2: Running ML model with combine 4 seperate features into 1 feature."
   ]
  },
  {
   "cell_type": "markdown",
   "metadata": {},
   "source": [
    "4 features ID Mix into 1 ID in second data frame"
   ]
  },
  {
   "cell_type": "code",
   "execution_count": 175,
   "metadata": {},
   "outputs": [
    {
     "data": {
      "text/html": [
       "<div>\n",
       "<style scoped>\n",
       "    .dataframe tbody tr th:only-of-type {\n",
       "        vertical-align: middle;\n",
       "    }\n",
       "\n",
       "    .dataframe tbody tr th {\n",
       "        vertical-align: top;\n",
       "    }\n",
       "\n",
       "    .dataframe thead th {\n",
       "        text-align: right;\n",
       "    }\n",
       "</style>\n",
       "<table border=\"1\" class=\"dataframe\">\n",
       "  <thead>\n",
       "    <tr style=\"text-align: right;\">\n",
       "      <th></th>\n",
       "      <th>Pl</th>\n",
       "      <th>horse_name</th>\n",
       "      <th>Track</th>\n",
       "      <th>jockey</th>\n",
       "      <th>trainer</th>\n",
       "      <th>Owner</th>\n",
       "      <th>Last 800m</th>\n",
       "      <th>Last 400m</th>\n",
       "      <th>total second to finish</th>\n",
       "      <th>horse_id</th>\n",
       "      <th>jockey_id</th>\n",
       "      <th>trainer_id</th>\n",
       "      <th>owner_id</th>\n",
       "      <th>horse_new_id</th>\n",
       "    </tr>\n",
       "  </thead>\n",
       "  <tbody>\n",
       "    <tr>\n",
       "      <th>0</th>\n",
       "      <td>1</td>\n",
       "      <td>A LA VICTORY</td>\n",
       "      <td>1.2</td>\n",
       "      <td>K A'ISISUHAIRI</td>\n",
       "      <td>J PETERS</td>\n",
       "      <td>CHINA HORSE CLUB STABLE</td>\n",
       "      <td>8.0</td>\n",
       "      <td>9.0</td>\n",
       "      <td>71.0</td>\n",
       "      <td>0001</td>\n",
       "      <td>001</td>\n",
       "      <td>001</td>\n",
       "      <td>001</td>\n",
       "      <td>0001001001001</td>\n",
       "    </tr>\n",
       "    <tr>\n",
       "      <th>1</th>\n",
       "      <td>1</td>\n",
       "      <td>A LA VICTORY</td>\n",
       "      <td>1.2</td>\n",
       "      <td>K A'ISISUHAIRI</td>\n",
       "      <td>J PETERS</td>\n",
       "      <td>CHINA HORSE CLUB STABLE</td>\n",
       "      <td>8.0</td>\n",
       "      <td>9.0</td>\n",
       "      <td>71.0</td>\n",
       "      <td>0001</td>\n",
       "      <td>001</td>\n",
       "      <td>001</td>\n",
       "      <td>001</td>\n",
       "      <td>0001001001001</td>\n",
       "    </tr>\n",
       "    <tr>\n",
       "      <th>2</th>\n",
       "      <td>1</td>\n",
       "      <td>A LA VICTORY</td>\n",
       "      <td>1.2</td>\n",
       "      <td>SY MOON</td>\n",
       "      <td>J PETERS</td>\n",
       "      <td>CHINA HORSE CLUB STABLE</td>\n",
       "      <td>8.0</td>\n",
       "      <td>7.0</td>\n",
       "      <td>70.0</td>\n",
       "      <td>0001</td>\n",
       "      <td>002</td>\n",
       "      <td>001</td>\n",
       "      <td>001</td>\n",
       "      <td>0001002001001</td>\n",
       "    </tr>\n",
       "    <tr>\n",
       "      <th>3</th>\n",
       "      <td>0</td>\n",
       "      <td>A LOT IN HAND</td>\n",
       "      <td>1.1</td>\n",
       "      <td>APP CK NG</td>\n",
       "      <td>HK TAN</td>\n",
       "      <td>HAPPY LIFE STABLE</td>\n",
       "      <td>3.0</td>\n",
       "      <td>3.0</td>\n",
       "      <td>67.0</td>\n",
       "      <td>0002</td>\n",
       "      <td>003</td>\n",
       "      <td>002</td>\n",
       "      <td>002</td>\n",
       "      <td>0002003002002</td>\n",
       "    </tr>\n",
       "    <tr>\n",
       "      <th>4</th>\n",
       "      <td>1</td>\n",
       "      <td>A LOT IN HAND</td>\n",
       "      <td>1.2</td>\n",
       "      <td>TH KOH</td>\n",
       "      <td>HK TAN</td>\n",
       "      <td>HAPPY LIFE STABLE</td>\n",
       "      <td>2.0</td>\n",
       "      <td>2.0</td>\n",
       "      <td>74.0</td>\n",
       "      <td>0002</td>\n",
       "      <td>004</td>\n",
       "      <td>002</td>\n",
       "      <td>002</td>\n",
       "      <td>0002004002002</td>\n",
       "    </tr>\n",
       "    <tr>\n",
       "      <th>5</th>\n",
       "      <td>1</td>\n",
       "      <td>A LOT IN HAND</td>\n",
       "      <td>1.2</td>\n",
       "      <td>M EWE</td>\n",
       "      <td>HK TAN</td>\n",
       "      <td>HAPPY LIFE STABLE</td>\n",
       "      <td>2.0</td>\n",
       "      <td>2.0</td>\n",
       "      <td>73.0</td>\n",
       "      <td>0002</td>\n",
       "      <td>005</td>\n",
       "      <td>002</td>\n",
       "      <td>002</td>\n",
       "      <td>0002005002002</td>\n",
       "    </tr>\n",
       "    <tr>\n",
       "      <th>6</th>\n",
       "      <td>0</td>\n",
       "      <td>A LOT IN HAND</td>\n",
       "      <td>1.2</td>\n",
       "      <td>M EWE</td>\n",
       "      <td>HK TAN</td>\n",
       "      <td>HAPPY LIFE STABLE</td>\n",
       "      <td>1.0</td>\n",
       "      <td>1.0</td>\n",
       "      <td>73.0</td>\n",
       "      <td>0002</td>\n",
       "      <td>005</td>\n",
       "      <td>002</td>\n",
       "      <td>002</td>\n",
       "      <td>0002005002002</td>\n",
       "    </tr>\n",
       "    <tr>\n",
       "      <th>7</th>\n",
       "      <td>1</td>\n",
       "      <td>A LOT IN HAND</td>\n",
       "      <td>1.2</td>\n",
       "      <td>APP CK NG</td>\n",
       "      <td>HK TAN</td>\n",
       "      <td>HAPPY LIFE STABLE</td>\n",
       "      <td>2.0</td>\n",
       "      <td>3.0</td>\n",
       "      <td>73.0</td>\n",
       "      <td>0002</td>\n",
       "      <td>003</td>\n",
       "      <td>002</td>\n",
       "      <td>002</td>\n",
       "      <td>0002003002002</td>\n",
       "    </tr>\n",
       "    <tr>\n",
       "      <th>8</th>\n",
       "      <td>1</td>\n",
       "      <td>A LOT IN HAND</td>\n",
       "      <td>1.1</td>\n",
       "      <td>D DAVID</td>\n",
       "      <td>HK TAN</td>\n",
       "      <td>HAPPY LIFE STABLE</td>\n",
       "      <td>1.0</td>\n",
       "      <td>2.0</td>\n",
       "      <td>66.0</td>\n",
       "      <td>0002</td>\n",
       "      <td>006</td>\n",
       "      <td>002</td>\n",
       "      <td>002</td>\n",
       "      <td>0002006002002</td>\n",
       "    </tr>\n",
       "    <tr>\n",
       "      <th>9</th>\n",
       "      <td>1</td>\n",
       "      <td>AABIR</td>\n",
       "      <td>1.0</td>\n",
       "      <td>V DURIC</td>\n",
       "      <td>M WALKER</td>\n",
       "      <td>JOHN ERIC GILES GALVIN</td>\n",
       "      <td>7.0</td>\n",
       "      <td>8.0</td>\n",
       "      <td>62.0</td>\n",
       "      <td>0003</td>\n",
       "      <td>007</td>\n",
       "      <td>003</td>\n",
       "      <td>003</td>\n",
       "      <td>0003007003003</td>\n",
       "    </tr>\n",
       "    <tr>\n",
       "      <th>10</th>\n",
       "      <td>0</td>\n",
       "      <td>AABIR</td>\n",
       "      <td>1.0</td>\n",
       "      <td>R WOODWORTH</td>\n",
       "      <td>M WALKER</td>\n",
       "      <td>JOHN ERIC GILES GALVIN</td>\n",
       "      <td>1.0</td>\n",
       "      <td>1.0</td>\n",
       "      <td>119.0</td>\n",
       "      <td>0003</td>\n",
       "      <td>008</td>\n",
       "      <td>003</td>\n",
       "      <td>003</td>\n",
       "      <td>0003008003003</td>\n",
       "    </tr>\n",
       "    <tr>\n",
       "      <th>11</th>\n",
       "      <td>1</td>\n",
       "      <td>AABIR</td>\n",
       "      <td>1.2</td>\n",
       "      <td>R WOODWORTH</td>\n",
       "      <td>M WALKER</td>\n",
       "      <td>JOHN ERIC GILES GALVIN</td>\n",
       "      <td>5.0</td>\n",
       "      <td>6.0</td>\n",
       "      <td>72.0</td>\n",
       "      <td>0003</td>\n",
       "      <td>008</td>\n",
       "      <td>003</td>\n",
       "      <td>003</td>\n",
       "      <td>0003008003003</td>\n",
       "    </tr>\n",
       "    <tr>\n",
       "      <th>12</th>\n",
       "      <td>0</td>\n",
       "      <td>AABIR</td>\n",
       "      <td>1.1</td>\n",
       "      <td>R ZAWARI</td>\n",
       "      <td>M WALKER</td>\n",
       "      <td>JOHN ERIC GILES GALVIN</td>\n",
       "      <td>2.0</td>\n",
       "      <td>2.0</td>\n",
       "      <td>65.0</td>\n",
       "      <td>0003</td>\n",
       "      <td>009</td>\n",
       "      <td>003</td>\n",
       "      <td>003</td>\n",
       "      <td>0003009003003</td>\n",
       "    </tr>\n",
       "    <tr>\n",
       "      <th>13</th>\n",
       "      <td>0</td>\n",
       "      <td>AABIR</td>\n",
       "      <td>1.0</td>\n",
       "      <td>APP AB RIDUAN</td>\n",
       "      <td>M WALKER</td>\n",
       "      <td>JOHN ERIC GILES GALVIN</td>\n",
       "      <td>2.0</td>\n",
       "      <td>2.0</td>\n",
       "      <td>60.0</td>\n",
       "      <td>0003</td>\n",
       "      <td>010</td>\n",
       "      <td>003</td>\n",
       "      <td>003</td>\n",
       "      <td>0003010003003</td>\n",
       "    </tr>\n",
       "    <tr>\n",
       "      <th>14</th>\n",
       "      <td>0</td>\n",
       "      <td>AABIR</td>\n",
       "      <td>1.0</td>\n",
       "      <td>R ZAWARI</td>\n",
       "      <td>M WALKER</td>\n",
       "      <td>JOHN ERIC GILES GALVIN</td>\n",
       "      <td>5.0</td>\n",
       "      <td>5.0</td>\n",
       "      <td>119.0</td>\n",
       "      <td>0003</td>\n",
       "      <td>009</td>\n",
       "      <td>003</td>\n",
       "      <td>003</td>\n",
       "      <td>0003009003003</td>\n",
       "    </tr>\n",
       "  </tbody>\n",
       "</table>\n",
       "</div>"
      ],
      "text/plain": [
       "    Pl     horse_name  Track          jockey   trainer  \\\n",
       "0    1   A LA VICTORY    1.2  K A'ISISUHAIRI  J PETERS   \n",
       "1    1   A LA VICTORY    1.2  K A'ISISUHAIRI  J PETERS   \n",
       "2    1   A LA VICTORY    1.2         SY MOON  J PETERS   \n",
       "3    0  A LOT IN HAND    1.1       APP CK NG    HK TAN   \n",
       "4    1  A LOT IN HAND    1.2          TH KOH    HK TAN   \n",
       "5    1  A LOT IN HAND    1.2           M EWE    HK TAN   \n",
       "6    0  A LOT IN HAND    1.2           M EWE    HK TAN   \n",
       "7    1  A LOT IN HAND    1.2       APP CK NG    HK TAN   \n",
       "8    1  A LOT IN HAND    1.1         D DAVID    HK TAN   \n",
       "9    1          AABIR    1.0         V DURIC  M WALKER   \n",
       "10   0          AABIR    1.0     R WOODWORTH  M WALKER   \n",
       "11   1          AABIR    1.2     R WOODWORTH  M WALKER   \n",
       "12   0          AABIR    1.1        R ZAWARI  M WALKER   \n",
       "13   0          AABIR    1.0   APP AB RIDUAN  M WALKER   \n",
       "14   0          AABIR    1.0        R ZAWARI  M WALKER   \n",
       "\n",
       "                      Owner  Last 800m  Last 400m  total second to finish  \\\n",
       "0   CHINA HORSE CLUB STABLE        8.0        9.0                    71.0   \n",
       "1   CHINA HORSE CLUB STABLE        8.0        9.0                    71.0   \n",
       "2   CHINA HORSE CLUB STABLE        8.0        7.0                    70.0   \n",
       "3         HAPPY LIFE STABLE        3.0        3.0                    67.0   \n",
       "4         HAPPY LIFE STABLE        2.0        2.0                    74.0   \n",
       "5         HAPPY LIFE STABLE        2.0        2.0                    73.0   \n",
       "6         HAPPY LIFE STABLE        1.0        1.0                    73.0   \n",
       "7         HAPPY LIFE STABLE        2.0        3.0                    73.0   \n",
       "8         HAPPY LIFE STABLE        1.0        2.0                    66.0   \n",
       "9    JOHN ERIC GILES GALVIN        7.0        8.0                    62.0   \n",
       "10   JOHN ERIC GILES GALVIN        1.0        1.0                   119.0   \n",
       "11   JOHN ERIC GILES GALVIN        5.0        6.0                    72.0   \n",
       "12   JOHN ERIC GILES GALVIN        2.0        2.0                    65.0   \n",
       "13   JOHN ERIC GILES GALVIN        2.0        2.0                    60.0   \n",
       "14   JOHN ERIC GILES GALVIN        5.0        5.0                   119.0   \n",
       "\n",
       "   horse_id jockey_id trainer_id owner_id   horse_new_id  \n",
       "0      0001       001        001      001  0001001001001  \n",
       "1      0001       001        001      001  0001001001001  \n",
       "2      0001       002        001      001  0001002001001  \n",
       "3      0002       003        002      002  0002003002002  \n",
       "4      0002       004        002      002  0002004002002  \n",
       "5      0002       005        002      002  0002005002002  \n",
       "6      0002       005        002      002  0002005002002  \n",
       "7      0002       003        002      002  0002003002002  \n",
       "8      0002       006        002      002  0002006002002  \n",
       "9      0003       007        003      003  0003007003003  \n",
       "10     0003       008        003      003  0003008003003  \n",
       "11     0003       008        003      003  0003008003003  \n",
       "12     0003       009        003      003  0003009003003  \n",
       "13     0003       010        003      003  0003010003003  \n",
       "14     0003       009        003      003  0003009003003  "
      ]
     },
     "execution_count": 175,
     "metadata": {},
     "output_type": "execute_result"
    }
   ],
   "source": [
    "df2['horse_new_id'] = df2['horse_id']+df2['jockey_id']+df2['trainer_id']+df2['owner_id']\n",
    "df2.head(15)"
   ]
  },
  {
   "cell_type": "code",
   "execution_count": 176,
   "metadata": {},
   "outputs": [
    {
     "data": {
      "text/html": [
       "<div>\n",
       "<style scoped>\n",
       "    .dataframe tbody tr th:only-of-type {\n",
       "        vertical-align: middle;\n",
       "    }\n",
       "\n",
       "    .dataframe tbody tr th {\n",
       "        vertical-align: top;\n",
       "    }\n",
       "\n",
       "    .dataframe thead th {\n",
       "        text-align: right;\n",
       "    }\n",
       "</style>\n",
       "<table border=\"1\" class=\"dataframe\">\n",
       "  <thead>\n",
       "    <tr style=\"text-align: right;\">\n",
       "      <th></th>\n",
       "      <th>Pl</th>\n",
       "      <th>horse_name</th>\n",
       "      <th>Track</th>\n",
       "      <th>jockey</th>\n",
       "      <th>trainer</th>\n",
       "      <th>Owner</th>\n",
       "      <th>Last 800m</th>\n",
       "      <th>Last 400m</th>\n",
       "      <th>total second to finish</th>\n",
       "      <th>horse_id</th>\n",
       "      <th>jockey_id</th>\n",
       "      <th>trainer_id</th>\n",
       "      <th>owner_id</th>\n",
       "      <th>horse_new_id_freq_encode</th>\n",
       "    </tr>\n",
       "  </thead>\n",
       "  <tbody>\n",
       "    <tr>\n",
       "      <th>0</th>\n",
       "      <td>1</td>\n",
       "      <td>A LA VICTORY</td>\n",
       "      <td>1.2</td>\n",
       "      <td>K A'ISISUHAIRI</td>\n",
       "      <td>J PETERS</td>\n",
       "      <td>CHINA HORSE CLUB STABLE</td>\n",
       "      <td>8.0</td>\n",
       "      <td>9.0</td>\n",
       "      <td>71.0</td>\n",
       "      <td>0001</td>\n",
       "      <td>001</td>\n",
       "      <td>001</td>\n",
       "      <td>001</td>\n",
       "      <td>0.000044</td>\n",
       "    </tr>\n",
       "    <tr>\n",
       "      <th>1</th>\n",
       "      <td>1</td>\n",
       "      <td>A LA VICTORY</td>\n",
       "      <td>1.2</td>\n",
       "      <td>K A'ISISUHAIRI</td>\n",
       "      <td>J PETERS</td>\n",
       "      <td>CHINA HORSE CLUB STABLE</td>\n",
       "      <td>8.0</td>\n",
       "      <td>9.0</td>\n",
       "      <td>71.0</td>\n",
       "      <td>0001</td>\n",
       "      <td>001</td>\n",
       "      <td>001</td>\n",
       "      <td>001</td>\n",
       "      <td>0.000044</td>\n",
       "    </tr>\n",
       "    <tr>\n",
       "      <th>2</th>\n",
       "      <td>1</td>\n",
       "      <td>A LA VICTORY</td>\n",
       "      <td>1.2</td>\n",
       "      <td>SY MOON</td>\n",
       "      <td>J PETERS</td>\n",
       "      <td>CHINA HORSE CLUB STABLE</td>\n",
       "      <td>8.0</td>\n",
       "      <td>7.0</td>\n",
       "      <td>70.0</td>\n",
       "      <td>0001</td>\n",
       "      <td>002</td>\n",
       "      <td>001</td>\n",
       "      <td>001</td>\n",
       "      <td>0.000022</td>\n",
       "    </tr>\n",
       "    <tr>\n",
       "      <th>3</th>\n",
       "      <td>0</td>\n",
       "      <td>A LOT IN HAND</td>\n",
       "      <td>1.1</td>\n",
       "      <td>APP CK NG</td>\n",
       "      <td>HK TAN</td>\n",
       "      <td>HAPPY LIFE STABLE</td>\n",
       "      <td>3.0</td>\n",
       "      <td>3.0</td>\n",
       "      <td>67.0</td>\n",
       "      <td>0002</td>\n",
       "      <td>003</td>\n",
       "      <td>002</td>\n",
       "      <td>002</td>\n",
       "      <td>0.000044</td>\n",
       "    </tr>\n",
       "    <tr>\n",
       "      <th>4</th>\n",
       "      <td>1</td>\n",
       "      <td>A LOT IN HAND</td>\n",
       "      <td>1.2</td>\n",
       "      <td>TH KOH</td>\n",
       "      <td>HK TAN</td>\n",
       "      <td>HAPPY LIFE STABLE</td>\n",
       "      <td>2.0</td>\n",
       "      <td>2.0</td>\n",
       "      <td>74.0</td>\n",
       "      <td>0002</td>\n",
       "      <td>004</td>\n",
       "      <td>002</td>\n",
       "      <td>002</td>\n",
       "      <td>0.000022</td>\n",
       "    </tr>\n",
       "    <tr>\n",
       "      <th>5</th>\n",
       "      <td>1</td>\n",
       "      <td>A LOT IN HAND</td>\n",
       "      <td>1.2</td>\n",
       "      <td>M EWE</td>\n",
       "      <td>HK TAN</td>\n",
       "      <td>HAPPY LIFE STABLE</td>\n",
       "      <td>2.0</td>\n",
       "      <td>2.0</td>\n",
       "      <td>73.0</td>\n",
       "      <td>0002</td>\n",
       "      <td>005</td>\n",
       "      <td>002</td>\n",
       "      <td>002</td>\n",
       "      <td>0.000044</td>\n",
       "    </tr>\n",
       "    <tr>\n",
       "      <th>6</th>\n",
       "      <td>0</td>\n",
       "      <td>A LOT IN HAND</td>\n",
       "      <td>1.2</td>\n",
       "      <td>M EWE</td>\n",
       "      <td>HK TAN</td>\n",
       "      <td>HAPPY LIFE STABLE</td>\n",
       "      <td>1.0</td>\n",
       "      <td>1.0</td>\n",
       "      <td>73.0</td>\n",
       "      <td>0002</td>\n",
       "      <td>005</td>\n",
       "      <td>002</td>\n",
       "      <td>002</td>\n",
       "      <td>0.000044</td>\n",
       "    </tr>\n",
       "    <tr>\n",
       "      <th>7</th>\n",
       "      <td>1</td>\n",
       "      <td>A LOT IN HAND</td>\n",
       "      <td>1.2</td>\n",
       "      <td>APP CK NG</td>\n",
       "      <td>HK TAN</td>\n",
       "      <td>HAPPY LIFE STABLE</td>\n",
       "      <td>2.0</td>\n",
       "      <td>3.0</td>\n",
       "      <td>73.0</td>\n",
       "      <td>0002</td>\n",
       "      <td>003</td>\n",
       "      <td>002</td>\n",
       "      <td>002</td>\n",
       "      <td>0.000044</td>\n",
       "    </tr>\n",
       "    <tr>\n",
       "      <th>8</th>\n",
       "      <td>1</td>\n",
       "      <td>A LOT IN HAND</td>\n",
       "      <td>1.1</td>\n",
       "      <td>D DAVID</td>\n",
       "      <td>HK TAN</td>\n",
       "      <td>HAPPY LIFE STABLE</td>\n",
       "      <td>1.0</td>\n",
       "      <td>2.0</td>\n",
       "      <td>66.0</td>\n",
       "      <td>0002</td>\n",
       "      <td>006</td>\n",
       "      <td>002</td>\n",
       "      <td>002</td>\n",
       "      <td>0.000022</td>\n",
       "    </tr>\n",
       "    <tr>\n",
       "      <th>9</th>\n",
       "      <td>1</td>\n",
       "      <td>AABIR</td>\n",
       "      <td>1.0</td>\n",
       "      <td>V DURIC</td>\n",
       "      <td>M WALKER</td>\n",
       "      <td>JOHN ERIC GILES GALVIN</td>\n",
       "      <td>7.0</td>\n",
       "      <td>8.0</td>\n",
       "      <td>62.0</td>\n",
       "      <td>0003</td>\n",
       "      <td>007</td>\n",
       "      <td>003</td>\n",
       "      <td>003</td>\n",
       "      <td>0.000022</td>\n",
       "    </tr>\n",
       "    <tr>\n",
       "      <th>10</th>\n",
       "      <td>0</td>\n",
       "      <td>AABIR</td>\n",
       "      <td>1.0</td>\n",
       "      <td>R WOODWORTH</td>\n",
       "      <td>M WALKER</td>\n",
       "      <td>JOHN ERIC GILES GALVIN</td>\n",
       "      <td>1.0</td>\n",
       "      <td>1.0</td>\n",
       "      <td>119.0</td>\n",
       "      <td>0003</td>\n",
       "      <td>008</td>\n",
       "      <td>003</td>\n",
       "      <td>003</td>\n",
       "      <td>0.000044</td>\n",
       "    </tr>\n",
       "    <tr>\n",
       "      <th>11</th>\n",
       "      <td>1</td>\n",
       "      <td>AABIR</td>\n",
       "      <td>1.2</td>\n",
       "      <td>R WOODWORTH</td>\n",
       "      <td>M WALKER</td>\n",
       "      <td>JOHN ERIC GILES GALVIN</td>\n",
       "      <td>5.0</td>\n",
       "      <td>6.0</td>\n",
       "      <td>72.0</td>\n",
       "      <td>0003</td>\n",
       "      <td>008</td>\n",
       "      <td>003</td>\n",
       "      <td>003</td>\n",
       "      <td>0.000044</td>\n",
       "    </tr>\n",
       "    <tr>\n",
       "      <th>12</th>\n",
       "      <td>0</td>\n",
       "      <td>AABIR</td>\n",
       "      <td>1.1</td>\n",
       "      <td>R ZAWARI</td>\n",
       "      <td>M WALKER</td>\n",
       "      <td>JOHN ERIC GILES GALVIN</td>\n",
       "      <td>2.0</td>\n",
       "      <td>2.0</td>\n",
       "      <td>65.0</td>\n",
       "      <td>0003</td>\n",
       "      <td>009</td>\n",
       "      <td>003</td>\n",
       "      <td>003</td>\n",
       "      <td>0.000066</td>\n",
       "    </tr>\n",
       "    <tr>\n",
       "      <th>13</th>\n",
       "      <td>0</td>\n",
       "      <td>AABIR</td>\n",
       "      <td>1.0</td>\n",
       "      <td>APP AB RIDUAN</td>\n",
       "      <td>M WALKER</td>\n",
       "      <td>JOHN ERIC GILES GALVIN</td>\n",
       "      <td>2.0</td>\n",
       "      <td>2.0</td>\n",
       "      <td>60.0</td>\n",
       "      <td>0003</td>\n",
       "      <td>010</td>\n",
       "      <td>003</td>\n",
       "      <td>003</td>\n",
       "      <td>0.000044</td>\n",
       "    </tr>\n",
       "    <tr>\n",
       "      <th>14</th>\n",
       "      <td>0</td>\n",
       "      <td>AABIR</td>\n",
       "      <td>1.0</td>\n",
       "      <td>R ZAWARI</td>\n",
       "      <td>M WALKER</td>\n",
       "      <td>JOHN ERIC GILES GALVIN</td>\n",
       "      <td>5.0</td>\n",
       "      <td>5.0</td>\n",
       "      <td>119.0</td>\n",
       "      <td>0003</td>\n",
       "      <td>009</td>\n",
       "      <td>003</td>\n",
       "      <td>003</td>\n",
       "      <td>0.000066</td>\n",
       "    </tr>\n",
       "  </tbody>\n",
       "</table>\n",
       "</div>"
      ],
      "text/plain": [
       "    Pl     horse_name  Track          jockey   trainer  \\\n",
       "0    1   A LA VICTORY    1.2  K A'ISISUHAIRI  J PETERS   \n",
       "1    1   A LA VICTORY    1.2  K A'ISISUHAIRI  J PETERS   \n",
       "2    1   A LA VICTORY    1.2         SY MOON  J PETERS   \n",
       "3    0  A LOT IN HAND    1.1       APP CK NG    HK TAN   \n",
       "4    1  A LOT IN HAND    1.2          TH KOH    HK TAN   \n",
       "5    1  A LOT IN HAND    1.2           M EWE    HK TAN   \n",
       "6    0  A LOT IN HAND    1.2           M EWE    HK TAN   \n",
       "7    1  A LOT IN HAND    1.2       APP CK NG    HK TAN   \n",
       "8    1  A LOT IN HAND    1.1         D DAVID    HK TAN   \n",
       "9    1          AABIR    1.0         V DURIC  M WALKER   \n",
       "10   0          AABIR    1.0     R WOODWORTH  M WALKER   \n",
       "11   1          AABIR    1.2     R WOODWORTH  M WALKER   \n",
       "12   0          AABIR    1.1        R ZAWARI  M WALKER   \n",
       "13   0          AABIR    1.0   APP AB RIDUAN  M WALKER   \n",
       "14   0          AABIR    1.0        R ZAWARI  M WALKER   \n",
       "\n",
       "                      Owner  Last 800m  Last 400m  total second to finish  \\\n",
       "0   CHINA HORSE CLUB STABLE        8.0        9.0                    71.0   \n",
       "1   CHINA HORSE CLUB STABLE        8.0        9.0                    71.0   \n",
       "2   CHINA HORSE CLUB STABLE        8.0        7.0                    70.0   \n",
       "3         HAPPY LIFE STABLE        3.0        3.0                    67.0   \n",
       "4         HAPPY LIFE STABLE        2.0        2.0                    74.0   \n",
       "5         HAPPY LIFE STABLE        2.0        2.0                    73.0   \n",
       "6         HAPPY LIFE STABLE        1.0        1.0                    73.0   \n",
       "7         HAPPY LIFE STABLE        2.0        3.0                    73.0   \n",
       "8         HAPPY LIFE STABLE        1.0        2.0                    66.0   \n",
       "9    JOHN ERIC GILES GALVIN        7.0        8.0                    62.0   \n",
       "10   JOHN ERIC GILES GALVIN        1.0        1.0                   119.0   \n",
       "11   JOHN ERIC GILES GALVIN        5.0        6.0                    72.0   \n",
       "12   JOHN ERIC GILES GALVIN        2.0        2.0                    65.0   \n",
       "13   JOHN ERIC GILES GALVIN        2.0        2.0                    60.0   \n",
       "14   JOHN ERIC GILES GALVIN        5.0        5.0                   119.0   \n",
       "\n",
       "   horse_id jockey_id trainer_id owner_id  horse_new_id_freq_encode  \n",
       "0      0001       001        001      001                  0.000044  \n",
       "1      0001       001        001      001                  0.000044  \n",
       "2      0001       002        001      001                  0.000022  \n",
       "3      0002       003        002      002                  0.000044  \n",
       "4      0002       004        002      002                  0.000022  \n",
       "5      0002       005        002      002                  0.000044  \n",
       "6      0002       005        002      002                  0.000044  \n",
       "7      0002       003        002      002                  0.000044  \n",
       "8      0002       006        002      002                  0.000022  \n",
       "9      0003       007        003      003                  0.000022  \n",
       "10     0003       008        003      003                  0.000044  \n",
       "11     0003       008        003      003                  0.000044  \n",
       "12     0003       009        003      003                  0.000066  \n",
       "13     0003       010        003      003                  0.000044  \n",
       "14     0003       009        003      003                  0.000066  "
      ]
     },
     "execution_count": 176,
     "metadata": {},
     "output_type": "execute_result"
    }
   ],
   "source": [
    "# grouping by frequency\n",
    "fq = df2.groupby('horse_new_id').size()/len(df2)\n",
    "# mapping values to dataframe\n",
    "df2.loc[:, \"{}_freq_encode\".format('horse_new_id')] = df2['horse_new_id'].map(fq)\n",
    "# drop original column.\n",
    "df2 = df2.drop(['horse_new_id'], axis=1)\n",
    "df2.head(15)"
   ]
  },
  {
   "cell_type": "markdown",
   "metadata": {},
   "source": [
    "After encoding categoric feature, drop the category feature"
   ]
  },
  {
   "cell_type": "code",
   "execution_count": 177,
   "metadata": {},
   "outputs": [],
   "source": [
    "df2.drop(['horse_name','horse_id','jockey','jockey_id','trainer','trainer_id','Owner','owner_id'],axis=1,inplace=True)"
   ]
  },
  {
   "cell_type": "code",
   "execution_count": 178,
   "metadata": {},
   "outputs": [
    {
     "name": "stdout",
     "output_type": "stream",
     "text": [
      "<class 'pandas.core.frame.DataFrame'>\n",
      "Int64Index: 45261 entries, 0 to 45471\n",
      "Data columns (total 6 columns):\n",
      " #   Column                    Non-Null Count  Dtype  \n",
      "---  ------                    --------------  -----  \n",
      " 0   Pl                        45261 non-null  int64  \n",
      " 1   Track                     45261 non-null  float64\n",
      " 2   Last 800m                 45261 non-null  float64\n",
      " 3   Last 400m                 45261 non-null  float64\n",
      " 4   total second to finish    45261 non-null  float64\n",
      " 5   horse_new_id_freq_encode  45261 non-null  float64\n",
      "dtypes: float64(5), int64(1)\n",
      "memory usage: 3.4 MB\n"
     ]
    }
   ],
   "source": [
    "df2.info()"
   ]
  },
  {
   "cell_type": "code",
   "execution_count": 179,
   "metadata": {},
   "outputs": [
    {
     "data": {
      "text/html": [
       "<div>\n",
       "<style scoped>\n",
       "    .dataframe tbody tr th:only-of-type {\n",
       "        vertical-align: middle;\n",
       "    }\n",
       "\n",
       "    .dataframe tbody tr th {\n",
       "        vertical-align: top;\n",
       "    }\n",
       "\n",
       "    .dataframe thead th {\n",
       "        text-align: right;\n",
       "    }\n",
       "</style>\n",
       "<table border=\"1\" class=\"dataframe\">\n",
       "  <thead>\n",
       "    <tr style=\"text-align: right;\">\n",
       "      <th></th>\n",
       "      <th>Pl</th>\n",
       "      <th>Track</th>\n",
       "      <th>Last 800m</th>\n",
       "      <th>Last 400m</th>\n",
       "      <th>total second to finish</th>\n",
       "      <th>horse_new_id_freq_encode</th>\n",
       "    </tr>\n",
       "  </thead>\n",
       "  <tbody>\n",
       "    <tr>\n",
       "      <th>0</th>\n",
       "      <td>1</td>\n",
       "      <td>1.2</td>\n",
       "      <td>8.0</td>\n",
       "      <td>9.0</td>\n",
       "      <td>71.0</td>\n",
       "      <td>0.000044</td>\n",
       "    </tr>\n",
       "    <tr>\n",
       "      <th>1</th>\n",
       "      <td>1</td>\n",
       "      <td>1.2</td>\n",
       "      <td>8.0</td>\n",
       "      <td>9.0</td>\n",
       "      <td>71.0</td>\n",
       "      <td>0.000044</td>\n",
       "    </tr>\n",
       "    <tr>\n",
       "      <th>2</th>\n",
       "      <td>1</td>\n",
       "      <td>1.2</td>\n",
       "      <td>8.0</td>\n",
       "      <td>7.0</td>\n",
       "      <td>70.0</td>\n",
       "      <td>0.000022</td>\n",
       "    </tr>\n",
       "    <tr>\n",
       "      <th>3</th>\n",
       "      <td>0</td>\n",
       "      <td>1.1</td>\n",
       "      <td>3.0</td>\n",
       "      <td>3.0</td>\n",
       "      <td>67.0</td>\n",
       "      <td>0.000044</td>\n",
       "    </tr>\n",
       "    <tr>\n",
       "      <th>4</th>\n",
       "      <td>1</td>\n",
       "      <td>1.2</td>\n",
       "      <td>2.0</td>\n",
       "      <td>2.0</td>\n",
       "      <td>74.0</td>\n",
       "      <td>0.000022</td>\n",
       "    </tr>\n",
       "    <tr>\n",
       "      <th>5</th>\n",
       "      <td>1</td>\n",
       "      <td>1.2</td>\n",
       "      <td>2.0</td>\n",
       "      <td>2.0</td>\n",
       "      <td>73.0</td>\n",
       "      <td>0.000044</td>\n",
       "    </tr>\n",
       "    <tr>\n",
       "      <th>6</th>\n",
       "      <td>0</td>\n",
       "      <td>1.2</td>\n",
       "      <td>1.0</td>\n",
       "      <td>1.0</td>\n",
       "      <td>73.0</td>\n",
       "      <td>0.000044</td>\n",
       "    </tr>\n",
       "    <tr>\n",
       "      <th>7</th>\n",
       "      <td>1</td>\n",
       "      <td>1.2</td>\n",
       "      <td>2.0</td>\n",
       "      <td>3.0</td>\n",
       "      <td>73.0</td>\n",
       "      <td>0.000044</td>\n",
       "    </tr>\n",
       "    <tr>\n",
       "      <th>8</th>\n",
       "      <td>1</td>\n",
       "      <td>1.1</td>\n",
       "      <td>1.0</td>\n",
       "      <td>2.0</td>\n",
       "      <td>66.0</td>\n",
       "      <td>0.000022</td>\n",
       "    </tr>\n",
       "    <tr>\n",
       "      <th>9</th>\n",
       "      <td>1</td>\n",
       "      <td>1.0</td>\n",
       "      <td>7.0</td>\n",
       "      <td>8.0</td>\n",
       "      <td>62.0</td>\n",
       "      <td>0.000022</td>\n",
       "    </tr>\n",
       "    <tr>\n",
       "      <th>10</th>\n",
       "      <td>0</td>\n",
       "      <td>1.0</td>\n",
       "      <td>1.0</td>\n",
       "      <td>1.0</td>\n",
       "      <td>119.0</td>\n",
       "      <td>0.000044</td>\n",
       "    </tr>\n",
       "    <tr>\n",
       "      <th>11</th>\n",
       "      <td>1</td>\n",
       "      <td>1.2</td>\n",
       "      <td>5.0</td>\n",
       "      <td>6.0</td>\n",
       "      <td>72.0</td>\n",
       "      <td>0.000044</td>\n",
       "    </tr>\n",
       "    <tr>\n",
       "      <th>12</th>\n",
       "      <td>0</td>\n",
       "      <td>1.1</td>\n",
       "      <td>2.0</td>\n",
       "      <td>2.0</td>\n",
       "      <td>65.0</td>\n",
       "      <td>0.000066</td>\n",
       "    </tr>\n",
       "    <tr>\n",
       "      <th>13</th>\n",
       "      <td>0</td>\n",
       "      <td>1.0</td>\n",
       "      <td>2.0</td>\n",
       "      <td>2.0</td>\n",
       "      <td>60.0</td>\n",
       "      <td>0.000044</td>\n",
       "    </tr>\n",
       "    <tr>\n",
       "      <th>14</th>\n",
       "      <td>0</td>\n",
       "      <td>1.0</td>\n",
       "      <td>5.0</td>\n",
       "      <td>5.0</td>\n",
       "      <td>119.0</td>\n",
       "      <td>0.000066</td>\n",
       "    </tr>\n",
       "  </tbody>\n",
       "</table>\n",
       "</div>"
      ],
      "text/plain": [
       "    Pl  Track  Last 800m  Last 400m  total second to finish  \\\n",
       "0    1    1.2        8.0        9.0                    71.0   \n",
       "1    1    1.2        8.0        9.0                    71.0   \n",
       "2    1    1.2        8.0        7.0                    70.0   \n",
       "3    0    1.1        3.0        3.0                    67.0   \n",
       "4    1    1.2        2.0        2.0                    74.0   \n",
       "5    1    1.2        2.0        2.0                    73.0   \n",
       "6    0    1.2        1.0        1.0                    73.0   \n",
       "7    1    1.2        2.0        3.0                    73.0   \n",
       "8    1    1.1        1.0        2.0                    66.0   \n",
       "9    1    1.0        7.0        8.0                    62.0   \n",
       "10   0    1.0        1.0        1.0                   119.0   \n",
       "11   1    1.2        5.0        6.0                    72.0   \n",
       "12   0    1.1        2.0        2.0                    65.0   \n",
       "13   0    1.0        2.0        2.0                    60.0   \n",
       "14   0    1.0        5.0        5.0                   119.0   \n",
       "\n",
       "    horse_new_id_freq_encode  \n",
       "0                   0.000044  \n",
       "1                   0.000044  \n",
       "2                   0.000022  \n",
       "3                   0.000044  \n",
       "4                   0.000022  \n",
       "5                   0.000044  \n",
       "6                   0.000044  \n",
       "7                   0.000044  \n",
       "8                   0.000022  \n",
       "9                   0.000022  \n",
       "10                  0.000044  \n",
       "11                  0.000044  \n",
       "12                  0.000066  \n",
       "13                  0.000044  \n",
       "14                  0.000066  "
      ]
     },
     "execution_count": 179,
     "metadata": {},
     "output_type": "execute_result"
    }
   ],
   "source": [
    "df2.head(15)"
   ]
  },
  {
   "cell_type": "markdown",
   "metadata": {},
   "source": [
    "Convert Feature to X and target to y by combining new ID"
   ]
  },
  {
   "cell_type": "code",
   "execution_count": 180,
   "metadata": {},
   "outputs": [],
   "source": [
    "X2 = df2.iloc[:, 1:5] \n",
    "y2 = df2.iloc[:, 0]"
   ]
  },
  {
   "cell_type": "code",
   "execution_count": 181,
   "metadata": {},
   "outputs": [
    {
     "data": {
      "text/html": [
       "<div>\n",
       "<style scoped>\n",
       "    .dataframe tbody tr th:only-of-type {\n",
       "        vertical-align: middle;\n",
       "    }\n",
       "\n",
       "    .dataframe tbody tr th {\n",
       "        vertical-align: top;\n",
       "    }\n",
       "\n",
       "    .dataframe thead th {\n",
       "        text-align: right;\n",
       "    }\n",
       "</style>\n",
       "<table border=\"1\" class=\"dataframe\">\n",
       "  <thead>\n",
       "    <tr style=\"text-align: right;\">\n",
       "      <th></th>\n",
       "      <th>Track</th>\n",
       "      <th>Last 800m</th>\n",
       "      <th>Last 400m</th>\n",
       "      <th>total second to finish</th>\n",
       "    </tr>\n",
       "  </thead>\n",
       "  <tbody>\n",
       "    <tr>\n",
       "      <th>0</th>\n",
       "      <td>1.2</td>\n",
       "      <td>8.0</td>\n",
       "      <td>9.0</td>\n",
       "      <td>71.0</td>\n",
       "    </tr>\n",
       "    <tr>\n",
       "      <th>1</th>\n",
       "      <td>1.2</td>\n",
       "      <td>8.0</td>\n",
       "      <td>9.0</td>\n",
       "      <td>71.0</td>\n",
       "    </tr>\n",
       "    <tr>\n",
       "      <th>2</th>\n",
       "      <td>1.2</td>\n",
       "      <td>8.0</td>\n",
       "      <td>7.0</td>\n",
       "      <td>70.0</td>\n",
       "    </tr>\n",
       "    <tr>\n",
       "      <th>3</th>\n",
       "      <td>1.1</td>\n",
       "      <td>3.0</td>\n",
       "      <td>3.0</td>\n",
       "      <td>67.0</td>\n",
       "    </tr>\n",
       "    <tr>\n",
       "      <th>4</th>\n",
       "      <td>1.2</td>\n",
       "      <td>2.0</td>\n",
       "      <td>2.0</td>\n",
       "      <td>74.0</td>\n",
       "    </tr>\n",
       "    <tr>\n",
       "      <th>...</th>\n",
       "      <td>...</td>\n",
       "      <td>...</td>\n",
       "      <td>...</td>\n",
       "      <td>...</td>\n",
       "    </tr>\n",
       "    <tr>\n",
       "      <th>45467</th>\n",
       "      <td>1.2</td>\n",
       "      <td>5.0</td>\n",
       "      <td>3.0</td>\n",
       "      <td>98.0</td>\n",
       "    </tr>\n",
       "    <tr>\n",
       "      <th>45468</th>\n",
       "      <td>1.2</td>\n",
       "      <td>4.0</td>\n",
       "      <td>4.0</td>\n",
       "      <td>64.0</td>\n",
       "    </tr>\n",
       "    <tr>\n",
       "      <th>45469</th>\n",
       "      <td>1.2</td>\n",
       "      <td>4.0</td>\n",
       "      <td>6.0</td>\n",
       "      <td>110.0</td>\n",
       "    </tr>\n",
       "    <tr>\n",
       "      <th>45470</th>\n",
       "      <td>1.4</td>\n",
       "      <td>2.0</td>\n",
       "      <td>2.0</td>\n",
       "      <td>83.0</td>\n",
       "    </tr>\n",
       "    <tr>\n",
       "      <th>45471</th>\n",
       "      <td>1.1</td>\n",
       "      <td>10.0</td>\n",
       "      <td>10.0</td>\n",
       "      <td>66.0</td>\n",
       "    </tr>\n",
       "  </tbody>\n",
       "</table>\n",
       "<p>45261 rows × 4 columns</p>\n",
       "</div>"
      ],
      "text/plain": [
       "       Track  Last 800m  Last 400m  total second to finish\n",
       "0        1.2        8.0        9.0                    71.0\n",
       "1        1.2        8.0        9.0                    71.0\n",
       "2        1.2        8.0        7.0                    70.0\n",
       "3        1.1        3.0        3.0                    67.0\n",
       "4        1.2        2.0        2.0                    74.0\n",
       "...      ...        ...        ...                     ...\n",
       "45467    1.2        5.0        3.0                    98.0\n",
       "45468    1.2        4.0        4.0                    64.0\n",
       "45469    1.2        4.0        6.0                   110.0\n",
       "45470    1.4        2.0        2.0                    83.0\n",
       "45471    1.1       10.0       10.0                    66.0\n",
       "\n",
       "[45261 rows x 4 columns]"
      ]
     },
     "execution_count": 181,
     "metadata": {},
     "output_type": "execute_result"
    }
   ],
   "source": [
    "X2"
   ]
  },
  {
   "cell_type": "code",
   "execution_count": 182,
   "metadata": {},
   "outputs": [
    {
     "data": {
      "text/plain": [
       "0    1\n",
       "1    1\n",
       "2    1\n",
       "3    0\n",
       "4    1\n",
       "Name: Pl, dtype: int64"
      ]
     },
     "execution_count": 182,
     "metadata": {},
     "output_type": "execute_result"
    }
   ],
   "source": [
    "y2.head()"
   ]
  },
  {
   "cell_type": "code",
   "execution_count": 183,
   "metadata": {},
   "outputs": [
    {
     "name": "stdout",
     "output_type": "stream",
     "text": [
      "<class 'pandas.core.series.Series'>\n",
      "Int64Index: 45261 entries, 0 to 45471\n",
      "Series name: Pl\n",
      "Non-Null Count  Dtype\n",
      "--------------  -----\n",
      "45261 non-null  int64\n",
      "dtypes: int64(1)\n",
      "memory usage: 1.7 MB\n"
     ]
    }
   ],
   "source": [
    "y2.info()"
   ]
  },
  {
   "cell_type": "code",
   "execution_count": 184,
   "metadata": {},
   "outputs": [
    {
     "data": {
      "text/plain": [
       "1    33311\n",
       "0    11950\n",
       "Name: Pl, dtype: int64"
      ]
     },
     "execution_count": 184,
     "metadata": {},
     "output_type": "execute_result"
    }
   ],
   "source": [
    "y2.value_counts()"
   ]
  },
  {
   "cell_type": "code",
   "execution_count": 185,
   "metadata": {},
   "outputs": [
    {
     "data": {
      "text/plain": [
       "<AxesSubplot: xlabel='Pl', ylabel='count'>"
      ]
     },
     "execution_count": 185,
     "metadata": {},
     "output_type": "execute_result"
    },
    {
     "data": {
      "image/png": "[encoded data removed]",
      "text/plain": [
       "<Figure size 800x550 with 1 Axes>"
      ]
     },
     "metadata": {},
     "output_type": "display_data"
    }
   ],
   "source": [
    "sns.countplot(data=df2, x=y2)"
   ]
  },
  {
   "cell_type": "code",
   "execution_count": 186,
   "metadata": {},
   "outputs": [
    {
     "data": {
      "image/png": "[encoded data removed]",
      "text/plain": [
       "<Figure size 800x550 with 1 Axes>"
      ]
     },
     "metadata": {},
     "output_type": "display_data"
    }
   ],
   "source": [
    "ax = y2.value_counts().plot.pie(autopct = '%.2f')\n",
    "title = ax.set_title(\"Combine ID into single ID\")"
   ]
  },
  {
   "cell_type": "markdown",
   "metadata": {},
   "source": [
    "In previous scenario, fixed imbalance data SMOTE method & XGBoost model give the best accuracy and selected for this scenario."
   ]
  },
  {
   "cell_type": "code",
   "execution_count": 187,
   "metadata": {},
   "outputs": [
    {
     "data": {
      "text/plain": [
       "1    33311\n",
       "0    33311\n",
       "Name: Pl, dtype: int64"
      ]
     },
     "execution_count": 187,
     "metadata": {},
     "output_type": "execute_result"
    }
   ],
   "source": [
    "rus2 = SMOTE(random_state=111)\n",
    "\n",
    "X2_res , y2_res = rus2.fit_resample(X2 , y2)\n",
    "\n",
    "y2_res.value_counts()"
   ]
  },
  {
   "cell_type": "code",
   "execution_count": 188,
   "metadata": {},
   "outputs": [
    {
     "data": {
      "text/plain": [
       "<AxesSubplot: xlabel='Pl', ylabel='count'>"
      ]
     },
     "execution_count": 188,
     "metadata": {},
     "output_type": "execute_result"
    },
    {
     "data": {
      "image/png": "[encoded data removed]",
      "text/plain": [
       "<Figure size 800x550 with 1 Axes>"
      ]
     },
     "metadata": {},
     "output_type": "display_data"
    }
   ],
   "source": [
    "sns.countplot(data=df2, x=y2_res)"
   ]
  },
  {
   "cell_type": "code",
   "execution_count": 189,
   "metadata": {},
   "outputs": [
    {
     "data": {
      "image/png": "[encoded data removed]",
      "text/plain": [
       "<Figure size 800x550 with 1 Axes>"
      ]
     },
     "metadata": {},
     "output_type": "display_data"
    }
   ],
   "source": [
    "ax = y2_res.value_counts().plot.pie(autopct = '%.2f')\n",
    "title = ax.set_title(\"Combined ID for fixed imbalance data SMOTE method\")"
   ]
  },
  {
   "cell_type": "markdown",
   "metadata": {},
   "source": [
    "Split to 80% as train and 20% as test"
   ]
  },
  {
   "cell_type": "code",
   "execution_count": 190,
   "metadata": {},
   "outputs": [],
   "source": [
    "X2_train, X2_test, y2_train, y2_test = train_test_split(X2_res, y2_res, test_size = 0.2, random_state = 111)"
   ]
  },
  {
   "cell_type": "code",
   "execution_count": 191,
   "metadata": {},
   "outputs": [
    {
     "data": {
      "text/html": [
       "<style>#sk-container-id-13 {color: black;background-color: white;}#sk-container-id-13 pre{padding: 0;}#sk-container-id-13 div.sk-toggleable {background-color: white;}#sk-container-id-13 label.sk-toggleable__label {cursor: pointer;display: block;width: 100%;margin-bottom: 0;padding: 0.3em;box-sizing: border-box;text-align: center;}#sk-container-id-13 label.sk-toggleable__label-arrow:before {content: \"▸\";float: left;margin-right: 0.25em;color: #696969;}#sk-container-id-13 label.sk-toggleable__label-arrow:hover:before {color: black;}#sk-container-id-13 div.sk-estimator:hover label.sk-toggleable__label-arrow:before {color: black;}#sk-container-id-13 div.sk-toggleable__content {max-height: 0;max-width: 0;overflow: hidden;text-align: left;background-color: #f0f8ff;}#sk-container-id-13 div.sk-toggleable__content pre {margin: 0.2em;color: black;border-radius: 0.25em;background-color: #f0f8ff;}#sk-container-id-13 input.sk-toggleable__control:checked~div.sk-toggleable__content {max-height: 200px;max-width: 100%;overflow: auto;}#sk-container-id-13 input.sk-toggleable__control:checked~label.sk-toggleable__label-arrow:before {content: \"▾\";}#sk-container-id-13 div.sk-estimator input.sk-toggleable__control:checked~label.sk-toggleable__label {background-color: #d4ebff;}#sk-container-id-13 div.sk-label input.sk-toggleable__control:checked~label.sk-toggleable__label {background-color: #d4ebff;}#sk-container-id-13 input.sk-hidden--visually {border: 0;clip: rect(1px 1px 1px 1px);clip: rect(1px, 1px, 1px, 1px);height: 1px;margin: -1px;overflow: hidden;padding: 0;position: absolute;width: 1px;}#sk-container-id-13 div.sk-estimator {font-family: monospace;background-color: #f0f8ff;border: 1px dotted black;border-radius: 0.25em;box-sizing: border-box;margin-bottom: 0.5em;}#sk-container-id-13 div.sk-estimator:hover {background-color: #d4ebff;}#sk-container-id-13 div.sk-parallel-item::after {content: \"\";width: 100%;border-bottom: 1px solid gray;flex-grow: 1;}#sk-container-id-13 div.sk-label:hover label.sk-toggleable__label {background-color: #d4ebff;}#sk-container-id-13 div.sk-serial::before {content: \"\";position: absolute;border-left: 1px solid gray;box-sizing: border-box;top: 0;bottom: 0;left: 50%;z-index: 0;}#sk-container-id-13 div.sk-serial {display: flex;flex-direction: column;align-items: center;background-color: white;padding-right: 0.2em;padding-left: 0.2em;position: relative;}#sk-container-id-13 div.sk-item {position: relative;z-index: 1;}#sk-container-id-13 div.sk-parallel {display: flex;align-items: stretch;justify-content: center;background-color: white;position: relative;}#sk-container-id-13 div.sk-item::before, #sk-container-id-13 div.sk-parallel-item::before {content: \"\";position: absolute;border-left: 1px solid gray;box-sizing: border-box;top: 0;bottom: 0;left: 50%;z-index: -1;}#sk-container-id-13 div.sk-parallel-item {display: flex;flex-direction: column;z-index: 1;position: relative;background-color: white;}#sk-container-id-13 div.sk-parallel-item:first-child::after {align-self: flex-end;width: 50%;}#sk-container-id-13 div.sk-parallel-item:last-child::after {align-self: flex-start;width: 50%;}#sk-container-id-13 div.sk-parallel-item:only-child::after {width: 0;}#sk-container-id-13 div.sk-dashed-wrapped {border: 1px dashed gray;margin: 0 0.4em 0.5em 0.4em;box-sizing: border-box;padding-bottom: 0.4em;background-color: white;}#sk-container-id-13 div.sk-label label {font-family: monospace;font-weight: bold;display: inline-block;line-height: 1.2em;}#sk-container-id-13 div.sk-label-container {text-align: center;}#sk-container-id-13 div.sk-container {/* jupyter's `normalize.less` sets `[hidden] { display: none; }` but bootstrap.min.css set `[hidden] { display: none !important; }` so we also need the `!important` here to be able to override the default hidden behavior on the sphinx rendered scikit-learn.org. See: https://github.com/scikit-learn/scikit-learn/issues/21755 */display: inline-block !important;position: relative;}#sk-container-id-13 div.sk-text-repr-fallback {display: none;}</style><div id=\"sk-container-id-13\" class=\"sk-top-container\"><div class=\"sk-text-repr-fallback\"><pre>XGBClassifier(base_score=0.5, booster=&#x27;gbtree&#x27;, callbacks=None,\n",
       "              colsample_bylevel=1, colsample_bynode=1, colsample_bytree=1,\n",
       "              early_stopping_rounds=None, enable_categorical=False,\n",
       "              eval_metric=None, feature_types=None, gamma=0, gpu_id=-1,\n",
       "              grow_policy=&#x27;depthwise&#x27;, importance_type=None,\n",
       "              interaction_constraints=&#x27;&#x27;, learning_rate=0.300000012,\n",
       "              max_bin=256, max_cat_threshold=64, max_cat_to_onehot=4,\n",
       "              max_delta_step=0, max_depth=6, max_leaves=0, min_child_weight=1,\n",
       "              missing=nan, monotone_constraints=&#x27;()&#x27;, n_estimators=100,\n",
       "              n_jobs=0, num_parallel_tree=1, objective=&#x27;binary:logistic&#x27;,\n",
       "              predictor=&#x27;auto&#x27;, ...)</pre><b>In a Jupyter environment, please rerun this cell to show the HTML representation or trust the notebook. <br />On GitHub, the HTML representation is unable to render, please try loading this page with nbviewer.org.</b></div><div class=\"sk-container\" hidden><div class=\"sk-item\"><div class=\"sk-estimator sk-toggleable\"><input class=\"sk-toggleable__control sk-hidden--visually\" id=\"sk-estimator-id-13\" type=\"checkbox\" checked><label for=\"sk-estimator-id-13\" class=\"sk-toggleable__label sk-toggleable__label-arrow\">XGBClassifier</label><div class=\"sk-toggleable__content\"><pre>XGBClassifier(base_score=0.5, booster=&#x27;gbtree&#x27;, callbacks=None,\n",
       "              colsample_bylevel=1, colsample_bynode=1, colsample_bytree=1,\n",
       "              early_stopping_rounds=None, enable_categorical=False,\n",
       "              eval_metric=None, feature_types=None, gamma=0, gpu_id=-1,\n",
       "              grow_policy=&#x27;depthwise&#x27;, importance_type=None,\n",
       "              interaction_constraints=&#x27;&#x27;, learning_rate=0.300000012,\n",
       "              max_bin=256, max_cat_threshold=64, max_cat_to_onehot=4,\n",
       "              max_delta_step=0, max_depth=6, max_leaves=0, min_child_weight=1,\n",
       "              missing=nan, monotone_constraints=&#x27;()&#x27;, n_estimators=100,\n",
       "              n_jobs=0, num_parallel_tree=1, objective=&#x27;binary:logistic&#x27;,\n",
       "              predictor=&#x27;auto&#x27;, ...)</pre></div></div></div></div></div>"
      ],
      "text/plain": [
       "XGBClassifier(base_score=0.5, booster='gbtree', callbacks=None,\n",
       "              colsample_bylevel=1, colsample_bynode=1, colsample_bytree=1,\n",
       "              early_stopping_rounds=None, enable_categorical=False,\n",
       "              eval_metric=None, feature_types=None, gamma=0, gpu_id=-1,\n",
       "              grow_policy='depthwise', importance_type=None,\n",
       "              interaction_constraints='', learning_rate=0.300000012,\n",
       "              max_bin=256, max_cat_threshold=64, max_cat_to_onehot=4,\n",
       "              max_delta_step=0, max_depth=6, max_leaves=0, min_child_weight=1,\n",
       "              missing=nan, monotone_constraints='()', n_estimators=100,\n",
       "              n_jobs=0, num_parallel_tree=1, objective='binary:logistic',\n",
       "              predictor='auto', ...)"
      ]
     },
     "execution_count": 191,
     "metadata": {},
     "output_type": "execute_result"
    }
   ],
   "source": [
    "xgb2 = xgb.XGBClassifier(random_state=111)\n",
    "xgb2.fit(X2_train , y2_train)"
   ]
  },
  {
   "cell_type": "code",
   "execution_count": 192,
   "metadata": {},
   "outputs": [
    {
     "data": {
      "text/plain": [
       "array([1, 1, 1, ..., 0, 0, 1])"
      ]
     },
     "execution_count": 192,
     "metadata": {},
     "output_type": "execute_result"
    }
   ],
   "source": [
    "xgb2_predict= xgb2.predict(X2_test)\n",
    "xgb2_predict\n"
   ]
  },
  {
   "cell_type": "code",
   "execution_count": 193,
   "metadata": {},
   "outputs": [
    {
     "data": {
      "text/html": [
       "<div>\n",
       "<style scoped>\n",
       "    .dataframe tbody tr th:only-of-type {\n",
       "        vertical-align: middle;\n",
       "    }\n",
       "\n",
       "    .dataframe tbody tr th {\n",
       "        vertical-align: top;\n",
       "    }\n",
       "\n",
       "    .dataframe thead th {\n",
       "        text-align: right;\n",
       "    }\n",
       "</style>\n",
       "<table border=\"1\" class=\"dataframe\">\n",
       "  <thead>\n",
       "    <tr style=\"text-align: right;\">\n",
       "      <th></th>\n",
       "      <th>Actual</th>\n",
       "      <th>Predicted</th>\n",
       "    </tr>\n",
       "  </thead>\n",
       "  <tbody>\n",
       "    <tr>\n",
       "      <th>35639</th>\n",
       "      <td>1</td>\n",
       "      <td>1</td>\n",
       "    </tr>\n",
       "    <tr>\n",
       "      <th>27108</th>\n",
       "      <td>1</td>\n",
       "      <td>1</td>\n",
       "    </tr>\n",
       "    <tr>\n",
       "      <th>2785</th>\n",
       "      <td>0</td>\n",
       "      <td>1</td>\n",
       "    </tr>\n",
       "    <tr>\n",
       "      <th>26508</th>\n",
       "      <td>0</td>\n",
       "      <td>0</td>\n",
       "    </tr>\n",
       "    <tr>\n",
       "      <th>4070</th>\n",
       "      <td>0</td>\n",
       "      <td>0</td>\n",
       "    </tr>\n",
       "  </tbody>\n",
       "</table>\n",
       "</div>"
      ],
      "text/plain": [
       "       Actual  Predicted\n",
       "35639       1          1\n",
       "27108       1          1\n",
       "2785        0          1\n",
       "26508       0          0\n",
       "4070        0          0"
      ]
     },
     "execution_count": 193,
     "metadata": {},
     "output_type": "execute_result"
    }
   ],
   "source": [
    "df_xgb2_predict=pd.DataFrame({'Actual': y2_test, 'Predicted': xgb2_predict})\n",
    "df_xgb2_predict.head()"
   ]
  },
  {
   "cell_type": "code",
   "execution_count": 194,
   "metadata": {},
   "outputs": [
    {
     "data": {
      "text/plain": [
       "<sklearn.metrics._plot.confusion_matrix.ConfusionMatrixDisplay at 0x21ed15b71c0>"
      ]
     },
     "execution_count": 194,
     "metadata": {},
     "output_type": "execute_result"
    },
    {
     "data": {
      "image/png": "[encoded data removed]",
      "text/plain": [
       "<Figure size 800x550 with 2 Axes>"
      ]
     },
     "metadata": {},
     "output_type": "display_data"
    }
   ],
   "source": [
    "plot_confusion_matrix(xgb2, \n",
    "                      X2_test, \n",
    "                      y2_test,\n",
    "                      display_labels=[\"TOP 3\", \"OTHERS\"])"
   ]
  },
  {
   "cell_type": "code",
   "execution_count": 195,
   "metadata": {},
   "outputs": [
    {
     "name": "stdout",
     "output_type": "stream",
     "text": [
      "[[5268 1271]\n",
      " [1746 5040]]\n",
      "              precision    recall  f1-score   support\n",
      "\n",
      "           0       0.75      0.81      0.78      6539\n",
      "           1       0.80      0.74      0.77      6786\n",
      "\n",
      "    accuracy                           0.77     13325\n",
      "   macro avg       0.77      0.77      0.77     13325\n",
      "weighted avg       0.78      0.77      0.77     13325\n",
      "\n",
      "XGBoost with single ID:  0.7735834896810506\n"
     ]
    }
   ],
   "source": [
    "xgb2_predict = xgb2.predict(X2_test)\n",
    "\n",
    "print(metrics.confusion_matrix(y2_test,xgb2_predict))\n",
    "print(metrics.classification_report(y2_test,xgb2_predict))\n",
    "print(\"XGBoost with single ID: \", accuracy_score(y2_test, xgb2_predict))"
   ]
  },
  {
   "cell_type": "markdown",
   "metadata": {},
   "source": [
    "## Conclusion: Seperate ID give better accuracy of 84.5% compare to combine single ID of 77.4%. Hence Scenario 1 is choosen for final ML."
   ]
  }
 ],
 "metadata": {
  "kernelspec": {
   "display_name": "Python 3.10.6 ('data')",
   "language": "python",
   "name": "python3"
  },
  "language_info": {
   "codemirror_mode": {
    "name": "ipython",
    "version": 3
   },
   "file_extension": ".py",
   "mimetype": "text/x-python",
   "name": "python",
   "nbconvert_exporter": "python",
   "pygments_lexer": "ipython3",
   "version": "3.10.6"
  },
  "orig_nbformat": 4,
  "vscode": {
   "interpreter": {
    "hash": "aaa839abcdda7c5329c2247fdcdd07b9422c78d34f1e22ebbb728cf53d5c2efd"
   }
  }
 },
 "nbformat": 4,
 "nbformat_minor": 2
}
